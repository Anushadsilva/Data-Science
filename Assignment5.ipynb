{
 "cells": [
  {
   "cell_type": "code",
   "execution_count": 0,
   "metadata": {
    "application/vnd.databricks.v1+cell": {
     "inputWidgets": {},
     "nuid": "8dc6161f-9ba4-45fc-b53b-d9df53dc90d4",
     "showTitle": false,
     "title": ""
    }
   },
   "outputs": [],
   "source": [
    "import pyspark.sql.functions as F\n",
    "from pyspark.sql.types import *"
   ]
  },
  {
   "cell_type": "markdown",
   "metadata": {
    "application/vnd.databricks.v1+cell": {
     "inputWidgets": {},
     "nuid": "d2af19b4-62e3-44a8-98cd-4bbfa8702da7",
     "showTitle": false,
     "title": ""
    }
   },
   "source": [
    "##Task 0"
   ]
  },
  {
   "cell_type": "code",
   "execution_count": 0,
   "metadata": {
    "application/vnd.databricks.v1+cell": {
     "inputWidgets": {},
     "nuid": "863d4820-9902-4258-8f0c-296b3a4fc884",
     "showTitle": false,
     "title": ""
    }
   },
   "outputs": [],
   "source": [
    "# 1 a)"
   ]
  },
  {
   "cell_type": "code",
   "execution_count": 0,
   "metadata": {
    "application/vnd.databricks.v1+cell": {
     "inputWidgets": {},
     "nuid": "06ed26de-7f4e-4fdf-b744-b0dffdf97392",
     "showTitle": false,
     "title": ""
    }
   },
   "outputs": [
    {
     "data": {
      "text/html": [
       "<style scoped>\n",
       "  .table-result-container {\n",
       "    max-height: 300px;\n",
       "    overflow: auto;\n",
       "  }\n",
       "  table, th, td {\n",
       "    border: 1px solid black;\n",
       "    border-collapse: collapse;\n",
       "  }\n",
       "  th, td {\n",
       "    padding: 5px;\n",
       "  }\n",
       "  th {\n",
       "    text-align: left;\n",
       "  }\n",
       "</style><div class='table-result-container'><table class='table-result'><thead style='background-color: white'><tr><th>path</th><th>name</th><th>size</th></tr></thead><tbody><tr><td>dbfs:/databricks-datasets/definitive-guide/data/flight-data/csv/2010-summary.csv</td><td>2010-summary.csv</td><td>7121</td></tr><tr><td>dbfs:/databricks-datasets/definitive-guide/data/flight-data/csv/2011-summary.csv</td><td>2011-summary.csv</td><td>7069</td></tr><tr><td>dbfs:/databricks-datasets/definitive-guide/data/flight-data/csv/2012-summary.csv</td><td>2012-summary.csv</td><td>6857</td></tr><tr><td>dbfs:/databricks-datasets/definitive-guide/data/flight-data/csv/2013-summary.csv</td><td>2013-summary.csv</td><td>7020</td></tr><tr><td>dbfs:/databricks-datasets/definitive-guide/data/flight-data/csv/2014-summary.csv</td><td>2014-summary.csv</td><td>6729</td></tr><tr><td>dbfs:/databricks-datasets/definitive-guide/data/flight-data/csv/2015-summary.csv</td><td>2015-summary.csv</td><td>7080</td></tr></tbody></table></div>"
      ]
     },
     "metadata": {
      "application/vnd.databricks.v1+output": {
       "addedWidgets": {},
       "aggData": [],
       "aggError": "",
       "aggOverflow": false,
       "aggSchema": [],
       "aggSeriesLimitReached": false,
       "aggType": "",
       "arguments": {},
       "columnCustomDisplayInfos": {},
       "data": [
        [
         "dbfs:/databricks-datasets/definitive-guide/data/flight-data/csv/2010-summary.csv",
         "2010-summary.csv",
         7121
        ],
        [
         "dbfs:/databricks-datasets/definitive-guide/data/flight-data/csv/2011-summary.csv",
         "2011-summary.csv",
         7069
        ],
        [
         "dbfs:/databricks-datasets/definitive-guide/data/flight-data/csv/2012-summary.csv",
         "2012-summary.csv",
         6857
        ],
        [
         "dbfs:/databricks-datasets/definitive-guide/data/flight-data/csv/2013-summary.csv",
         "2013-summary.csv",
         7020
        ],
        [
         "dbfs:/databricks-datasets/definitive-guide/data/flight-data/csv/2014-summary.csv",
         "2014-summary.csv",
         6729
        ],
        [
         "dbfs:/databricks-datasets/definitive-guide/data/flight-data/csv/2015-summary.csv",
         "2015-summary.csv",
         7080
        ]
       ],
       "datasetInfos": [],
       "dbfsResultPath": null,
       "isJsonSchema": true,
       "metadata": {
        "isDbfsCommandResult": false
       },
       "overflow": false,
       "plotOptions": {
        "customPlotOptions": {},
        "displayType": "table",
        "pivotAggregation": null,
        "pivotColumns": null,
        "xColumns": null,
        "yColumns": null
       },
       "removedWidgets": [],
       "schema": [
        {
         "metadata": "{}",
         "name": "path",
         "type": "\"string\""
        },
        {
         "metadata": "{}",
         "name": "name",
         "type": "\"string\""
        },
        {
         "metadata": "{}",
         "name": "size",
         "type": "\"long\""
        }
       ],
       "type": "table"
      }
     },
     "output_type": "display_data"
    }
   ],
   "source": [
    "%fs \n",
    "ls \"dbfs:/databricks-datasets/definitive-guide/data/flight-data/csv\""
   ]
  },
  {
   "cell_type": "code",
   "execution_count": 0,
   "metadata": {
    "application/vnd.databricks.v1+cell": {
     "inputWidgets": {},
     "nuid": "0057a15d-6880-4256-94f1-2e338a5486d0",
     "showTitle": false,
     "title": ""
    }
   },
   "outputs": [],
   "source": [
    "#1 b)"
   ]
  },
  {
   "cell_type": "code",
   "execution_count": 0,
   "metadata": {
    "application/vnd.databricks.v1+cell": {
     "inputWidgets": {},
     "nuid": "2a42f592-c5d2-401a-aefe-fd63e0d2ac07",
     "showTitle": false,
     "title": ""
    }
   },
   "outputs": [
    {
     "data": {
      "text/html": [
       "<style scoped>\n",
       "  .table-result-container {\n",
       "    max-height: 300px;\n",
       "    overflow: auto;\n",
       "  }\n",
       "  table, th, td {\n",
       "    border: 1px solid black;\n",
       "    border-collapse: collapse;\n",
       "  }\n",
       "  th, td {\n",
       "    padding: 5px;\n",
       "  }\n",
       "  th {\n",
       "    text-align: left;\n",
       "  }\n",
       "</style><div class='table-result-container'><table class='table-result'><thead style='background-color: white'><tr><th>path</th><th>name</th><th>size</th></tr></thead><tbody><tr><td>dbfs:/databricks-datasets/definitive-guide/data/flight-data/csv/2010-summary.csv</td><td>2010-summary.csv</td><td>7121</td></tr><tr><td>dbfs:/databricks-datasets/definitive-guide/data/flight-data/csv/2011-summary.csv</td><td>2011-summary.csv</td><td>7069</td></tr><tr><td>dbfs:/databricks-datasets/definitive-guide/data/flight-data/csv/2012-summary.csv</td><td>2012-summary.csv</td><td>6857</td></tr><tr><td>dbfs:/databricks-datasets/definitive-guide/data/flight-data/csv/2013-summary.csv</td><td>2013-summary.csv</td><td>7020</td></tr><tr><td>dbfs:/databricks-datasets/definitive-guide/data/flight-data/csv/2014-summary.csv</td><td>2014-summary.csv</td><td>6729</td></tr><tr><td>dbfs:/databricks-datasets/definitive-guide/data/flight-data/csv/2015-summary.csv</td><td>2015-summary.csv</td><td>7080</td></tr></tbody></table></div>"
      ]
     },
     "metadata": {
      "application/vnd.databricks.v1+output": {
       "addedWidgets": {},
       "aggData": [],
       "aggError": "",
       "aggOverflow": false,
       "aggSchema": [],
       "aggSeriesLimitReached": false,
       "aggType": "",
       "arguments": {},
       "columnCustomDisplayInfos": {},
       "data": [
        [
         "dbfs:/databricks-datasets/definitive-guide/data/flight-data/csv/2010-summary.csv",
         "2010-summary.csv",
         7121
        ],
        [
         "dbfs:/databricks-datasets/definitive-guide/data/flight-data/csv/2011-summary.csv",
         "2011-summary.csv",
         7069
        ],
        [
         "dbfs:/databricks-datasets/definitive-guide/data/flight-data/csv/2012-summary.csv",
         "2012-summary.csv",
         6857
        ],
        [
         "dbfs:/databricks-datasets/definitive-guide/data/flight-data/csv/2013-summary.csv",
         "2013-summary.csv",
         7020
        ],
        [
         "dbfs:/databricks-datasets/definitive-guide/data/flight-data/csv/2014-summary.csv",
         "2014-summary.csv",
         6729
        ],
        [
         "dbfs:/databricks-datasets/definitive-guide/data/flight-data/csv/2015-summary.csv",
         "2015-summary.csv",
         7080
        ]
       ],
       "datasetInfos": [],
       "dbfsResultPath": null,
       "isJsonSchema": true,
       "metadata": {},
       "overflow": false,
       "plotOptions": {
        "customPlotOptions": {},
        "displayType": "table",
        "pivotAggregation": null,
        "pivotColumns": null,
        "xColumns": null,
        "yColumns": null
       },
       "removedWidgets": [],
       "schema": [
        {
         "metadata": "{}",
         "name": "path",
         "type": "\"string\""
        },
        {
         "metadata": "{}",
         "name": "name",
         "type": "\"string\""
        },
        {
         "metadata": "{}",
         "name": "size",
         "type": "\"long\""
        }
       ],
       "type": "table"
      }
     },
     "output_type": "display_data"
    }
   ],
   "source": [
    "display(dbutils.fs.ls(\"dbfs:/databricks-datasets/definitive-guide/data/flight-data/csv\"))"
   ]
  },
  {
   "cell_type": "code",
   "execution_count": 0,
   "metadata": {
    "application/vnd.databricks.v1+cell": {
     "inputWidgets": {},
     "nuid": "16902e11-664c-496b-9305-59de18732047",
     "showTitle": false,
     "title": ""
    }
   },
   "outputs": [],
   "source": [
    "#2 a)"
   ]
  },
  {
   "cell_type": "code",
   "execution_count": 0,
   "metadata": {
    "application/vnd.databricks.v1+cell": {
     "inputWidgets": {},
     "nuid": "c66b73d6-72c2-4907-85ba-336bf88e36af",
     "showTitle": false,
     "title": ""
    }
   },
   "outputs": [],
   "source": [
    "flight2015DF = spark.read \\\n",
    "              .csv(\"dbfs:/databricks-datasets/definitive-guide/data/flight-data/csv/2015-summary.csv\",\n",
    "              header = True,\n",
    "              inferSchema = False)"
   ]
  },
  {
   "cell_type": "code",
   "execution_count": 0,
   "metadata": {
    "application/vnd.databricks.v1+cell": {
     "inputWidgets": {},
     "nuid": "55e63032-5a94-40c9-b0ee-6928c3993c59",
     "showTitle": false,
     "title": ""
    }
   },
   "outputs": [
    {
     "data": {
      "text/html": [
       "<style scoped>\n",
       "  .ansiout {\n",
       "    display: block;\n",
       "    unicode-bidi: embed;\n",
       "    white-space: pre-wrap;\n",
       "    word-wrap: break-word;\n",
       "    word-break: break-all;\n",
       "    font-family: \"Source Code Pro\", \"Menlo\", monospace;;\n",
       "    font-size: 13px;\n",
       "    color: #555;\n",
       "    margin-left: 4px;\n",
       "    line-height: 19px;\n",
       "  }\n",
       "</style>"
      ]
     },
     "metadata": {
      "application/vnd.databricks.v1+output": {
       "arguments": {},
       "data": "",
       "errorSummary": "",
       "errorTraceType": null,
       "metadata": {},
       "type": "ipynbError"
      }
     },
     "output_type": "display_data"
    }
   ],
   "source": [
    "#2 b)"
   ]
  },
  {
   "cell_type": "code",
   "execution_count": 0,
   "metadata": {
    "application/vnd.databricks.v1+cell": {
     "inputWidgets": {},
     "nuid": "93491ed8-6e91-4873-956d-77a26c03c2fa",
     "showTitle": false,
     "title": ""
    }
   },
   "outputs": [
    {
     "data": {
      "text/plain": [
       "root\n",
       " |-- DEST_COUNTRY_NAME: string (nullable = true)\n",
       " |-- ORIGIN_COUNTRY_NAME: string (nullable = true)\n",
       " |-- count: string (nullable = true)\n",
       "\n"
      ]
     },
     "metadata": {
      "application/vnd.databricks.v1+output": {
       "addedWidgets": {},
       "arguments": {},
       "data": "root\n |-- DEST_COUNTRY_NAME: string (nullable = true)\n |-- ORIGIN_COUNTRY_NAME: string (nullable = true)\n |-- count: string (nullable = true)\n\n",
       "datasetInfos": [],
       "metadata": {},
       "removedWidgets": [],
       "type": "ansi"
      }
     },
     "output_type": "display_data"
    }
   ],
   "source": [
    "flight2015DF.printSchema()"
   ]
  },
  {
   "cell_type": "code",
   "execution_count": 0,
   "metadata": {
    "application/vnd.databricks.v1+cell": {
     "inputWidgets": {},
     "nuid": "3e143420-c755-45f3-b974-96b8c4e7bb0f",
     "showTitle": false,
     "title": ""
    }
   },
   "outputs": [
    {
     "data": {
      "text/html": [
       "<style scoped>\n",
       "  .ansiout {\n",
       "    display: block;\n",
       "    unicode-bidi: embed;\n",
       "    white-space: pre-wrap;\n",
       "    word-wrap: break-word;\n",
       "    word-break: break-all;\n",
       "    font-family: \"Source Code Pro\", \"Menlo\", monospace;;\n",
       "    font-size: 13px;\n",
       "    color: #555;\n",
       "    margin-left: 4px;\n",
       "    line-height: 19px;\n",
       "  }\n",
       "</style>"
      ]
     },
     "metadata": {
      "application/vnd.databricks.v1+output": {
       "arguments": {},
       "data": "",
       "errorSummary": "",
       "errorTraceType": null,
       "metadata": {},
       "type": "ipynbError"
      }
     },
     "output_type": "display_data"
    }
   ],
   "source": [
    "#2 c)"
   ]
  },
  {
   "cell_type": "code",
   "execution_count": 0,
   "metadata": {
    "application/vnd.databricks.v1+cell": {
     "inputWidgets": {},
     "nuid": "d149af0a-223d-4390-a75f-087fd9db7a9c",
     "showTitle": false,
     "title": ""
    }
   },
   "outputs": [],
   "source": [
    "flight2015DF = spark.read \\\n",
    "        .format(\"csv\") \\\n",
    "        .option(\"inferSchema\", True) \\\n",
    "        .option(\"header\", True) \\\n",
    "        .load(\"dbfs:/databricks-datasets/definitive-guide/data/flight-data/csv/2015-summary.csv\")"
   ]
  },
  {
   "cell_type": "code",
   "execution_count": 0,
   "metadata": {
    "application/vnd.databricks.v1+cell": {
     "inputWidgets": {},
     "nuid": "f90a99c7-9995-43ef-b6bb-10ebb420aa5f",
     "showTitle": false,
     "title": ""
    }
   },
   "outputs": [
    {
     "data": {
      "text/html": [
       "<style scoped>\n",
       "  .ansiout {\n",
       "    display: block;\n",
       "    unicode-bidi: embed;\n",
       "    white-space: pre-wrap;\n",
       "    word-wrap: break-word;\n",
       "    word-break: break-all;\n",
       "    font-family: \"Source Code Pro\", \"Menlo\", monospace;;\n",
       "    font-size: 13px;\n",
       "    color: #555;\n",
       "    margin-left: 4px;\n",
       "    line-height: 19px;\n",
       "  }\n",
       "</style>"
      ]
     },
     "metadata": {
      "application/vnd.databricks.v1+output": {
       "arguments": {},
       "data": "",
       "errorSummary": "",
       "errorTraceType": null,
       "metadata": {},
       "type": "ipynbError"
      }
     },
     "output_type": "display_data"
    }
   ],
   "source": [
    "#2 d)"
   ]
  },
  {
   "cell_type": "code",
   "execution_count": 0,
   "metadata": {
    "application/vnd.databricks.v1+cell": {
     "inputWidgets": {},
     "nuid": "1ec53052-f9f8-47e5-94cb-78b0f3780745",
     "showTitle": false,
     "title": ""
    }
   },
   "outputs": [
    {
     "data": {
      "text/plain": [
       "root\n",
       " |-- DEST_COUNTRY_NAME: string (nullable = true)\n",
       " |-- ORIGIN_COUNTRY_NAME: string (nullable = true)\n",
       " |-- count: integer (nullable = true)\n",
       "\n"
      ]
     },
     "metadata": {
      "application/vnd.databricks.v1+output": {
       "addedWidgets": {},
       "arguments": {},
       "data": "root\n |-- DEST_COUNTRY_NAME: string (nullable = true)\n |-- ORIGIN_COUNTRY_NAME: string (nullable = true)\n |-- count: integer (nullable = true)\n\n",
       "datasetInfos": [],
       "metadata": {},
       "removedWidgets": [],
       "type": "ansi"
      }
     },
     "output_type": "display_data"
    }
   ],
   "source": [
    "flight2015DF.printSchema()"
   ]
  },
  {
   "cell_type": "code",
   "execution_count": 0,
   "metadata": {
    "application/vnd.databricks.v1+cell": {
     "inputWidgets": {},
     "nuid": "4c0e311c-2387-4ace-90d5-617af37e5770",
     "showTitle": false,
     "title": ""
    }
   },
   "outputs": [
    {
     "data": {
      "text/html": [
       "<style scoped>\n",
       "  .ansiout {\n",
       "    display: block;\n",
       "    unicode-bidi: embed;\n",
       "    white-space: pre-wrap;\n",
       "    word-wrap: break-word;\n",
       "    word-break: break-all;\n",
       "    font-family: \"Source Code Pro\", \"Menlo\", monospace;;\n",
       "    font-size: 13px;\n",
       "    color: #555;\n",
       "    margin-left: 4px;\n",
       "    line-height: 19px;\n",
       "  }\n",
       "</style>"
      ]
     },
     "metadata": {
      "application/vnd.databricks.v1+output": {
       "arguments": {},
       "data": "",
       "errorSummary": "",
       "errorTraceType": null,
       "metadata": {},
       "type": "ipynbError"
      }
     },
     "output_type": "display_data"
    }
   ],
   "source": [
    "#2 e)"
   ]
  },
  {
   "cell_type": "code",
   "execution_count": 0,
   "metadata": {
    "application/vnd.databricks.v1+cell": {
     "inputWidgets": {},
     "nuid": "0db27f16-53da-43a2-9b6d-f729859ecf62",
     "showTitle": false,
     "title": ""
    }
   },
   "outputs": [],
   "source": [
    "flight2014DF = spark.read \\\n",
    "              .csv(\"dbfs:/databricks-datasets/definitive-guide/data/flight-data/csv/2014-summary.csv\", \n",
    "               header = True, \n",
    "               inferSchema = True)"
   ]
  },
  {
   "cell_type": "markdown",
   "metadata": {
    "application/vnd.databricks.v1+cell": {
     "inputWidgets": {},
     "nuid": "5bedca33-062e-4f08-85e2-7728b46353b7",
     "showTitle": false,
     "title": ""
    }
   },
   "source": [
    "##Task 3"
   ]
  },
  {
   "cell_type": "code",
   "execution_count": 0,
   "metadata": {
    "application/vnd.databricks.v1+cell": {
     "inputWidgets": {},
     "nuid": "001a7a53-604c-42d0-895f-0ceb4636bf6c",
     "showTitle": false,
     "title": ""
    }
   },
   "outputs": [
    {
     "data": {
      "text/html": [
       "<style scoped>\n",
       "  .ansiout {\n",
       "    display: block;\n",
       "    unicode-bidi: embed;\n",
       "    white-space: pre-wrap;\n",
       "    word-wrap: break-word;\n",
       "    word-break: break-all;\n",
       "    font-family: \"Source Code Pro\", \"Menlo\", monospace;;\n",
       "    font-size: 13px;\n",
       "    color: #555;\n",
       "    margin-left: 4px;\n",
       "    line-height: 19px;\n",
       "  }\n",
       "</style>"
      ]
     },
     "metadata": {
      "application/vnd.databricks.v1+output": {
       "arguments": {},
       "data": "",
       "errorSummary": "",
       "errorTraceType": null,
       "metadata": {},
       "type": "ipynbError"
      }
     },
     "output_type": "display_data"
    }
   ],
   "source": [
    "3. a)"
   ]
  },
  {
   "cell_type": "code",
   "execution_count": 0,
   "metadata": {
    "application/vnd.databricks.v1+cell": {
     "inputWidgets": {},
     "nuid": "cc806694-0031-49c0-9556-c9d3187ddc59",
     "showTitle": false,
     "title": ""
    }
   },
   "outputs": [
    {
     "data": {
      "text/plain": [
       "Out[31]: DataFrame[DEST_COUNTRY_NAME: string, ORIGIN_COUNTRY_NAME: string, count: int]"
      ]
     },
     "metadata": {
      "application/vnd.databricks.v1+output": {
       "addedWidgets": {},
       "arguments": {},
       "data": "Out[31]: DataFrame[DEST_COUNTRY_NAME: string, ORIGIN_COUNTRY_NAME: string, count: int]",
       "datasetInfos": [],
       "metadata": {},
       "removedWidgets": [],
       "type": "ansi"
      }
     },
     "output_type": "display_data"
    }
   ],
   "source": [
    "flight2015DF.union(flight2014DF)"
   ]
  },
  {
   "cell_type": "code",
   "execution_count": 0,
   "metadata": {
    "application/vnd.databricks.v1+cell": {
     "inputWidgets": {},
     "nuid": "4627250e-9324-4842-8591-cbb78479bad7",
     "showTitle": false,
     "title": ""
    }
   },
   "outputs": [
    {
     "data": {
      "text/html": [
       "<style scoped>\n",
       "  .ansiout {\n",
       "    display: block;\n",
       "    unicode-bidi: embed;\n",
       "    white-space: pre-wrap;\n",
       "    word-wrap: break-word;\n",
       "    word-break: break-all;\n",
       "    font-family: \"Source Code Pro\", \"Menlo\", monospace;;\n",
       "    font-size: 13px;\n",
       "    color: #555;\n",
       "    margin-left: 4px;\n",
       "    line-height: 19px;\n",
       "  }\n",
       "</style>"
      ]
     },
     "metadata": {
      "application/vnd.databricks.v1+output": {
       "arguments": {},
       "data": "",
       "errorSummary": "",
       "errorTraceType": null,
       "metadata": {},
       "type": "ipynbError"
      }
     },
     "output_type": "display_data"
    }
   ],
   "source": [
    "3. b)"
   ]
  },
  {
   "cell_type": "code",
   "execution_count": 0,
   "metadata": {
    "application/vnd.databricks.v1+cell": {
     "inputWidgets": {},
     "nuid": "0170aa37-ff3b-42e9-8480-f2a947998127",
     "showTitle": false,
     "title": ""
    }
   },
   "outputs": [
    {
     "data": {
      "text/plain": [
       "Out[32]: 497"
      ]
     },
     "metadata": {
      "application/vnd.databricks.v1+output": {
       "addedWidgets": {},
       "arguments": {},
       "data": "Out[32]: 497",
       "datasetInfos": [],
       "metadata": {},
       "removedWidgets": [],
       "type": "ansi"
      }
     },
     "output_type": "display_data"
    }
   ],
   "source": [
    "flight2015DF.union(flight2014DF).count()"
   ]
  },
  {
   "cell_type": "code",
   "execution_count": 0,
   "metadata": {
    "application/vnd.databricks.v1+cell": {
     "inputWidgets": {},
     "nuid": "53acdd7d-357d-4a9d-8152-7ea5f70948ef",
     "showTitle": false,
     "title": ""
    }
   },
   "outputs": [],
   "source": [
    "flightsAllDF = spark.read \\\n",
    "                    .csv('dbfs:/databricks-datasets/definitive-guide/data/flight-data/csv/*.csv',\n",
    "                         header = True,\n",
    "                         inferSchema = True)"
   ]
  },
  {
   "cell_type": "markdown",
   "metadata": {
    "application/vnd.databricks.v1+cell": {
     "inputWidgets": {},
     "nuid": "970ce9db-3f11-4d56-bee2-b6f9f064239f",
     "showTitle": false,
     "title": ""
    }
   },
   "source": [
    "##Task 4"
   ]
  },
  {
   "cell_type": "code",
   "execution_count": 0,
   "metadata": {
    "application/vnd.databricks.v1+cell": {
     "inputWidgets": {},
     "nuid": "09d2062d-271b-4876-823f-33fcf80b1fcb",
     "showTitle": false,
     "title": ""
    }
   },
   "outputs": [
    {
     "data": {
      "text/html": [
       "<style scoped>\n",
       "  .ansiout {\n",
       "    display: block;\n",
       "    unicode-bidi: embed;\n",
       "    white-space: pre-wrap;\n",
       "    word-wrap: break-word;\n",
       "    word-break: break-all;\n",
       "    font-family: \"Source Code Pro\", \"Menlo\", monospace;;\n",
       "    font-size: 13px;\n",
       "    color: #555;\n",
       "    margin-left: 4px;\n",
       "    line-height: 19px;\n",
       "  }\n",
       "</style>"
      ]
     },
     "metadata": {
      "application/vnd.databricks.v1+output": {
       "arguments": {},
       "data": "",
       "errorSummary": "",
       "errorTraceType": null,
       "metadata": {},
       "type": "ipynbError"
      }
     },
     "output_type": "display_data"
    }
   ],
   "source": [
    "4. a)"
   ]
  },
  {
   "cell_type": "code",
   "execution_count": 0,
   "metadata": {
    "application/vnd.databricks.v1+cell": {
     "inputWidgets": {},
     "nuid": "1234f197-de77-4955-85fa-9d4962d1715d",
     "showTitle": false,
     "title": ""
    }
   },
   "outputs": [
    {
     "data": {
      "text/html": [
       "<style scoped>\n",
       "  .table-result-container {\n",
       "    max-height: 300px;\n",
       "    overflow: auto;\n",
       "  }\n",
       "  table, th, td {\n",
       "    border: 1px solid black;\n",
       "    border-collapse: collapse;\n",
       "  }\n",
       "  th, td {\n",
       "    padding: 5px;\n",
       "  }\n",
       "  th {\n",
       "    text-align: left;\n",
       "  }\n",
       "</style><div class='table-result-container'><table class='table-result'><thead style='background-color: white'><tr><th>dest</th><th>origin</th><th>count</th></tr></thead><tbody><tr><td>United States</td><td>Romania</td><td>1</td></tr><tr><td>United States</td><td>Ireland</td><td>264</td></tr><tr><td>United States</td><td>India</td><td>69</td></tr><tr><td>Egypt</td><td>United States</td><td>24</td></tr><tr><td>Equatorial Guinea</td><td>United States</td><td>1</td></tr><tr><td>United States</td><td>Singapore</td><td>25</td></tr><tr><td>United States</td><td>Grenada</td><td>54</td></tr><tr><td>Costa Rica</td><td>United States</td><td>477</td></tr><tr><td>Senegal</td><td>United States</td><td>29</td></tr><tr><td>United States</td><td>Marshall Islands</td><td>44</td></tr><tr><td>Guyana</td><td>United States</td><td>17</td></tr><tr><td>United States</td><td>Sint Maarten</td><td>53</td></tr><tr><td>Malta</td><td>United States</td><td>1</td></tr><tr><td>Bolivia</td><td>United States</td><td>46</td></tr><tr><td>Anguilla</td><td>United States</td><td>21</td></tr><tr><td>Turks and Caicos Islands</td><td>United States</td><td>136</td></tr><tr><td>United States</td><td>Afghanistan</td><td>2</td></tr><tr><td>Saint Vincent and the Grenadines</td><td>United States</td><td>1</td></tr><tr><td>Italy</td><td>United States</td><td>390</td></tr><tr><td>United States</td><td>Russia</td><td>156</td></tr><tr><td>United States</td><td>Federated States of Micronesia</td><td>48</td></tr><tr><td>Pakistan</td><td>United States</td><td>9</td></tr><tr><td>United States</td><td>Netherlands</td><td>570</td></tr><tr><td>Iceland</td><td>United States</td><td>118</td></tr><tr><td>Marshall Islands</td><td>United States</td><td>77</td></tr><tr><td>Luxembourg</td><td>United States</td><td>91</td></tr><tr><td>Honduras</td><td>United States</td><td>391</td></tr><tr><td>The Bahamas</td><td>United States</td><td>903</td></tr><tr><td>El Salvador</td><td>United States</td><td>519</td></tr><tr><td>United States</td><td>Senegal</td><td>46</td></tr><tr><td>Samoa</td><td>United States</td><td>28</td></tr><tr><td>United States</td><td>Angola</td><td>18</td></tr><tr><td>Kazakhstan</td><td>United States</td><td>3</td></tr><tr><td>Switzerland</td><td>United States</td><td>315</td></tr><tr><td>United States</td><td>Anguilla</td><td>20</td></tr><tr><td>Sint Maarten</td><td>United States</td><td>61</td></tr><tr><td>Hong Kong</td><td>United States</td><td>252</td></tr><tr><td>Trinidad and Tobago</td><td>United States</td><td>187</td></tr><tr><td>Latvia</td><td>United States</td><td>12</td></tr><tr><td>United States</td><td>Ecuador</td><td>345</td></tr><tr><td>Slovakia</td><td>United States</td><td>1</td></tr><tr><td>Suriname</td><td>United States</td><td>12</td></tr><tr><td>Mexico</td><td>United States</td><td>6200</td></tr><tr><td>United States</td><td>Cyprus</td><td>1</td></tr><tr><td>Ecuador</td><td>United States</td><td>272</td></tr><tr><td>United States</td><td>Bosnia and Herzegovina</td><td>1</td></tr><tr><td>United States</td><td>Portugal</td><td>104</td></tr><tr><td>United States</td><td>Costa Rica</td><td>501</td></tr><tr><td>United States</td><td>Guatemala</td><td>333</td></tr><tr><td>United States</td><td>Suriname</td><td>13</td></tr><tr><td>Colombia</td><td>United States</td><td>785</td></tr><tr><td>United States</td><td>Cape Verde</td><td>18</td></tr><tr><td>United States</td><td>Jamaica</td><td>757</td></tr><tr><td>United States</td><td>Malaysia</td><td>3</td></tr><tr><td>Norway</td><td>United States</td><td>29</td></tr><tr><td>United States</td><td>Morocco</td><td>16</td></tr><tr><td>Thailand</td><td>United States</td><td>16</td></tr><tr><td>Venezuela</td><td>United States</td><td>377</td></tr><tr><td>United States</td><td>Palau</td><td>30</td></tr><tr><td>United States</td><td>Samoa</td><td>28</td></tr><tr><td>United States</td><td>Algeria</td><td>1</td></tr><tr><td>United States</td><td>Venezuela</td><td>341</td></tr><tr><td>Panama</td><td>United States</td><td>355</td></tr><tr><td>United States</td><td>Finland</td><td>20</td></tr><tr><td>United States</td><td>Chile</td><td>176</td></tr><tr><td>Morocco</td><td>United States</td><td>16</td></tr><tr><td>United States</td><td>Greece</td><td>61</td></tr><tr><td>Antigua and Barbuda</td><td>United States</td><td>123</td></tr><tr><td>Azerbaijan</td><td>United States</td><td>1</td></tr><tr><td>United States</td><td>The Bahamas</td><td>959</td></tr><tr><td>New Zealand</td><td>United States</td><td>86</td></tr><tr><td>Liberia</td><td>United States</td><td>1</td></tr><tr><td>United States</td><td>Hong Kong</td><td>293</td></tr><tr><td>Hungary</td><td>United States</td><td>14</td></tr><tr><td>United States</td><td>China</td><td>505</td></tr><tr><td>United States</td><td>Vietnam</td><td>1</td></tr><tr><td>Sweden</td><td>United States</td><td>65</td></tr><tr><td>United States</td><td>Kuwait</td><td>25</td></tr><tr><td>United States</td><td>Dominican Republic</td><td>1150</td></tr><tr><td>United States</td><td>Egypt</td><td>25</td></tr><tr><td>Israel</td><td>United States</td><td>117</td></tr><tr><td>United States</td><td>United States</td><td>348113</td></tr><tr><td>United States</td><td>Luxembourg</td><td>90</td></tr><tr><td>Ethiopia</td><td>United States</td><td>12</td></tr><tr><td>United States</td><td>Poland</td><td>61</td></tr><tr><td>Martinique</td><td>United States</td><td>23</td></tr><tr><td>Saint Barthelemy</td><td>United States</td><td>28</td></tr><tr><td>United States</td><td>Saint Barthelemy</td><td>29</td></tr><tr><td>United States</td><td>Turkey</td><td>87</td></tr><tr><td>Barbados</td><td>United States</td><td>130</td></tr><tr><td>United States</td><td>Estonia</td><td>1</td></tr><tr><td>United States</td><td>Azerbaijan</td><td>1</td></tr><tr><td>Germany</td><td>United States</td><td>1392</td></tr><tr><td>Kyrgyzstan</td><td>United States</td><td>2</td></tr><tr><td>United States</td><td>South Korea</td><td>621</td></tr><tr><td>United States</td><td>El Salvador</td><td>464</td></tr><tr><td>Ireland</td><td>United States</td><td>231</td></tr><tr><td>United States</td><td>Hungary</td><td>15</td></tr><tr><td>United States</td><td>Serbia</td><td>1</td></tr><tr><td>Malaysia</td><td>United States</td><td>1</td></tr><tr><td>United States</td><td>Panama</td><td>363</td></tr><tr><td>United States</td><td>Ethiopia</td><td>12</td></tr><tr><td>United States</td><td>Aruba</td><td>349</td></tr><tr><td>United States</td><td>Thailand</td><td>13</td></tr><tr><td>United States</td><td>Netherlands Antilles</td><td>289</td></tr><tr><td>United States</td><td>Turks and Caicos Islands</td><td>147</td></tr><tr><td>Cyprus</td><td>United States</td><td>2</td></tr><tr><td>United States</td><td>Pakistan</td><td>15</td></tr><tr><td>United States</td><td>Honduras</td><td>393</td></tr><tr><td>Qatar</td><td>United States</td><td>41</td></tr><tr><td>Fiji</td><td>United States</td><td>53</td></tr><tr><td>Saint Kitts and Nevis</td><td>United States</td><td>113</td></tr><tr><td>Taiwan</td><td>United States</td><td>275</td></tr><tr><td>Haiti</td><td>United States</td><td>238</td></tr><tr><td>Kuwait</td><td>United States</td><td>26</td></tr><tr><td>Canada</td><td>United States</td><td>8271</td></tr><tr><td>Federated States of Micronesia</td><td>United States</td><td>46</td></tr><tr><td>United States</td><td>Liberia</td><td>1</td></tr><tr><td>Jamaica</td><td>United States</td><td>733</td></tr><tr><td>United States</td><td>Malta</td><td>2</td></tr><tr><td>Dominican Republic</td><td>United States</td><td>1109</td></tr><tr><td>Japan</td><td>United States</td><td>1383</td></tr><tr><td>United States</td><td>Saint Vincent and the Grenadines</td><td>16</td></tr><tr><td>United States</td><td>Guadeloupe</td><td>33</td></tr><tr><td>Finland</td><td>United States</td><td>24</td></tr><tr><td>United States</td><td>Ukraine</td><td>17</td></tr><tr><td>United States</td><td>France</td><td>776</td></tr><tr><td>United States</td><td>Norway</td><td>36</td></tr><tr><td>Aruba</td><td>United States</td><td>359</td></tr><tr><td>French Guiana</td><td>United States</td><td>4</td></tr><tr><td>United States</td><td>Kiribati</td><td>18</td></tr><tr><td>India</td><td>United States</td><td>66</td></tr><tr><td>British Virgin Islands</td><td>United States</td><td>49</td></tr><tr><td>United States</td><td>Germany</td><td>1406</td></tr><tr><td>Brazil</td><td>United States</td><td>995</td></tr><tr><td>United States</td><td>New Zealand</td><td>71</td></tr><tr><td>French Polynesia</td><td>United States</td><td>38</td></tr><tr><td>United Arab Emirates</td><td>United States</td><td>165</td></tr><tr><td>Singapore</td><td>United States</td><td>25</td></tr><tr><td>United States</td><td>Mexico</td><td>6220</td></tr><tr><td>Netherlands</td><td>United States</td><td>586</td></tr><tr><td>United States</td><td>Sweden</td><td>73</td></tr><tr><td>United States</td><td>Gabon</td><td>1</td></tr><tr><td>United States</td><td>Martinique</td><td>20</td></tr><tr><td>United States</td><td>United Arab Emirates</td><td>156</td></tr><tr><td>United States</td><td>Bulgaria</td><td>2</td></tr><tr><td>China</td><td>United States</td><td>448</td></tr><tr><td>Denmark</td><td>United States</td><td>98</td></tr><tr><td>United States</td><td>Philippines</td><td>116</td></tr><tr><td>United States</td><td>Nicaragua</td><td>181</td></tr><tr><td>United States</td><td>Belgium</td><td>355</td></tr><tr><td>Peru</td><td>United States</td><td>212</td></tr><tr><td>Argentina</td><td>United States</td><td>184</td></tr><tr><td>Cayman Islands</td><td>United States</td><td>247</td></tr><tr><td>South Africa</td><td>United States</td><td>25</td></tr><tr><td>United States</td><td>Iceland</td><td>129</td></tr><tr><td>United States</td><td>Argentina</td><td>159</td></tr><tr><td>Spain</td><td>United States</td><td>422</td></tr><tr><td>Netherlands Antilles</td><td>United States</td><td>286</td></tr><tr><td>Bermuda</td><td>United States</td><td>183</td></tr><tr><td>United States</td><td>Austria</td><td>34</td></tr><tr><td>United States</td><td>Nigeria</td><td>18</td></tr><tr><td>United States</td><td>Bonaire, Sint Eustatius, and Saba</td><td>16</td></tr><tr><td>Kiribati</td><td>United States</td><td>17</td></tr><tr><td>Saudi Arabia</td><td>United States</td><td>42</td></tr><tr><td>Czech Republic</td><td>United States</td><td>21</td></tr><tr><td>Belgium</td><td>United States</td><td>408</td></tr><tr><td>United States</td><td>Israel</td><td>122</td></tr><tr><td>United States</td><td>Bahrain</td><td>1</td></tr><tr><td>United States</td><td>Saint Lucia</td><td>121</td></tr><tr><td>Afghanistan</td><td>United States</td><td>11</td></tr><tr><td>United States</td><td>British Virgin Islands</td><td>47</td></tr><tr><td>Curacao</td><td>United States</td><td>20</td></tr><tr><td>Georgia</td><td>United States</td><td>2</td></tr><tr><td>United States</td><td>Guyana</td><td>20</td></tr><tr><td>United States</td><td>Denmark</td><td>107</td></tr><tr><td>Philippines</td><td>United States</td><td>132</td></tr><tr><td>Grenada</td><td>United States</td><td>65</td></tr><tr><td>Cape Verde</td><td>United States</td><td>18</td></tr><tr><td>Ukraine</td><td>United States</td><td>19</td></tr><tr><td>United States</td><td>Papua New Guinea</td><td>1</td></tr><tr><td>United States</td><td>Saudi Arabia</td><td>54</td></tr><tr><td>Russia</td><td>United States</td><td>152</td></tr><tr><td>Guatemala</td><td>United States</td><td>386</td></tr><tr><td>Saint Lucia</td><td>United States</td><td>116</td></tr><tr><td>Paraguay</td><td>United States</td><td>90</td></tr><tr><td>United States</td><td>Curacao</td><td>14</td></tr><tr><td>United States</td><td>Taiwan</td><td>252</td></tr><tr><td>United States</td><td>South Africa</td><td>15</td></tr><tr><td>Turkey</td><td>United States</td><td>75</td></tr><tr><td>United Kingdom</td><td>United States</td><td>1629</td></tr><tr><td>United States</td><td>Greenland</td><td>2</td></tr><tr><td>United States</td><td>Spain</td><td>442</td></tr><tr><td>Cuba</td><td>United States</td><td>243</td></tr><tr><td>United States</td><td>Italy</td><td>433</td></tr><tr><td>United States</td><td>Switzerland</td><td>334</td></tr><tr><td>Dominica</td><td>United States</td><td>28</td></tr><tr><td>United States</td><td>Japan</td><td>1307</td></tr><tr><td>Portugal</td><td>United States</td><td>102</td></tr><tr><td>United States</td><td>Brazil</td><td>578</td></tr><tr><td>Bahrain</td><td>United States</td><td>30</td></tr><tr><td>United States</td><td>Peru</td><td>284</td></tr><tr><td>Vietnam</td><td>United States</td><td>1</td></tr><tr><td>United States</td><td>United Kingdom</td><td>1503</td></tr><tr><td>United States</td><td>Belize</td><td>118</td></tr><tr><td>Belize</td><td>United States</td><td>121</td></tr><tr><td>United States</td><td>Ghana</td><td>28</td></tr><tr><td>United States</td><td>Indonesia</td><td>1</td></tr><tr><td>United States</td><td>Fiji</td><td>51</td></tr><tr><td>United States</td><td>Canada</td><td>8305</td></tr><tr><td>United States</td><td>French Polynesia</td><td>38</td></tr><tr><td>United States</td><td>Antigua and Barbuda</td><td>121</td></tr><tr><td>United States</td><td>Burkina Faso</td><td>1</td></tr><tr><td>Nicaragua</td><td>United States</td><td>178</td></tr><tr><td>United States</td><td>Latvia</td><td>13</td></tr><tr><td>United States</td><td>Dominica</td><td>32</td></tr><tr><td>United States</td><td>Czech Republic</td><td>22</td></tr><tr><td>United States</td><td>Australia</td><td>216</td></tr><tr><td>Austria</td><td>United States</td><td>36</td></tr><tr><td>United States</td><td>Cook Islands</td><td>12</td></tr><tr><td>Jordan</td><td>United States</td><td>50</td></tr><tr><td>Palau</td><td>United States</td><td>31</td></tr><tr><td>Uganda</td><td>United States</td><td>2</td></tr><tr><td>United States</td><td>Cameroon</td><td>1</td></tr><tr><td>South Korea</td><td>United States</td><td>683</td></tr><tr><td>Angola</td><td>United States</td><td>14</td></tr><tr><td>Ghana</td><td>United States</td><td>27</td></tr><tr><td>Guadeloupe</td><td>United States</td><td>40</td></tr><tr><td>France</td><td>United States</td><td>774</td></tr><tr><td>United States</td><td>Kyrgyzstan</td><td>12</td></tr><tr><td>Poland</td><td>United States</td><td>62</td></tr><tr><td>Nigeria</td><td>United States</td><td>16</td></tr><tr><td>United States</td><td>Uruguay</td><td>24</td></tr><tr><td>Greenland</td><td>United States</td><td>2</td></tr><tr><td>Chile</td><td>United States</td><td>166</td></tr><tr><td>United States</td><td>Bermuda</td><td>180</td></tr><tr><td>United States</td><td>Cuba</td><td>235</td></tr><tr><td>United States</td><td>Colombia</td><td>832</td></tr><tr><td>United States</td><td>Qatar</td><td>40</td></tr><tr><td>United States</td><td>Barbados</td><td>119</td></tr><tr><td>Australia</td><td>United States</td><td>290</td></tr><tr><td>United States</td><td>Jordan</td><td>51</td></tr><tr><td>United States</td><td>Cayman Islands</td><td>251</td></tr><tr><td>United States</td><td>Trinidad and Tobago</td><td>200</td></tr><tr><td>United States</td><td>Bolivia</td><td>39</td></tr><tr><td>United States</td><td>Slovakia</td><td>1</td></tr><tr><td>Uruguay</td><td>United States</td><td>54</td></tr><tr><td>Cook Islands</td><td>United States</td><td>13</td></tr><tr><td>United States</td><td>Saint Kitts and Nevis</td><td>127</td></tr><tr><td>Bulgaria</td><td>United States</td><td>1</td></tr><tr><td>United States</td><td>French Guiana</td><td>1</td></tr><tr><td>United States</td><td>Haiti</td><td>226</td></tr><tr><td>United States</td><td>Uganda</td><td>1</td></tr><tr><td>Bonaire, Sint Eustatius, and Saba</td><td>United States</td><td>16</td></tr><tr><td>Greece</td><td>United States</td><td>50</td></tr><tr><td>United States</td><td>Romania</td><td>15</td></tr><tr><td>United States</td><td>Croatia</td><td>1</td></tr><tr><td>United States</td><td>Ireland</td><td>344</td></tr><tr><td>Egypt</td><td>United States</td><td>15</td></tr><tr><td>United States</td><td>India</td><td>62</td></tr><tr><td>United States</td><td>Singapore</td><td>1</td></tr><tr><td>United States</td><td>Grenada</td><td>62</td></tr><tr><td>Costa Rica</td><td>United States</td><td>588</td></tr><tr><td>Senegal</td><td>United States</td><td>40</td></tr><tr><td>Moldova</td><td>United States</td><td>1</td></tr><tr><td>United States</td><td>Sint Maarten</td><td>325</td></tr><tr><td>United States</td><td>Marshall Islands</td><td>39</td></tr><tr><td>Guyana</td><td>United States</td><td>64</td></tr><tr><td>Malta</td><td>United States</td><td>1</td></tr><tr><td>Anguilla</td><td>United States</td><td>41</td></tr><tr><td>Bolivia</td><td>United States</td><td>30</td></tr><tr><td>United States</td><td>Paraguay</td><td>6</td></tr><tr><td>Algeria</td><td>United States</td><td>4</td></tr><tr><td>Turks and Caicos Islands</td><td>United States</td><td>230</td></tr><tr><td>United States</td><td>Gibraltar</td><td>1</td></tr><tr><td>Saint Vincent and the Grenadines</td><td>United States</td><td>1</td></tr><tr><td>Italy</td><td>United States</td><td>382</td></tr><tr><td>United States</td><td>Federated States of Micronesia</td><td>69</td></tr><tr><td>United States</td><td>Russia</td><td>161</td></tr><tr><td>Pakistan</td><td>United States</td><td>12</td></tr><tr><td>United States</td><td>Netherlands</td><td>660</td></tr><tr><td>Iceland</td><td>United States</td><td>181</td></tr><tr><td>Marshall Islands</td><td>United States</td><td>42</td></tr><tr><td>Luxembourg</td><td>United States</td><td>155</td></tr><tr><td>Honduras</td><td>United States</td><td>362</td></tr><tr><td>The Bahamas</td><td>United States</td><td>955</td></tr><tr><td>United States</td><td>Senegal</td><td>42</td></tr><tr><td>El Salvador</td><td>United States</td><td>561</td></tr><tr><td>Samoa</td><td>United States</td><td>25</td></tr><tr><td>United States</td><td>Angola</td><td>13</td></tr><tr><td>Switzerland</td><td>United States</td><td>294</td></tr><tr><td>United States</td><td>Anguilla</td><td>38</td></tr><tr><td>Sint Maarten</td><td>United States</td><td>325</td></tr><tr><td>Hong Kong</td><td>United States</td><td>332</td></tr><tr><td>Trinidad and Tobago</td><td>United States</td><td>211</td></tr><tr><td>Latvia</td><td>United States</td><td>19</td></tr><tr><td>United States</td><td>Ecuador</td><td>300</td></tr><tr><td>Suriname</td><td>United States</td><td>1</td></tr><tr><td>Mexico</td><td>United States</td><td>7140</td></tr><tr><td>United States</td><td>Cyprus</td><td>1</td></tr><tr><td>Ecuador</td><td>United States</td><td>268</td></tr><tr><td>United States</td><td>Portugal</td><td>134</td></tr><tr><td>United States</td><td>Costa Rica</td><td>608</td></tr><tr><td>United States</td><td>Guatemala</td><td>318</td></tr><tr><td>United States</td><td>Suriname</td><td>34</td></tr><tr><td>Colombia</td><td>United States</td><td>873</td></tr><tr><td>United States</td><td>Cape Verde</td><td>14</td></tr><tr><td>United States</td><td>Jamaica</td><td>712</td></tr><tr><td>Norway</td><td>United States</td><td>121</td></tr><tr><td>United States</td><td>Malaysia</td><td>3</td></tr><tr><td>United States</td><td>Morocco</td><td>19</td></tr><tr><td>Thailand</td><td>United States</td><td>3</td></tr><tr><td>United States</td><td>Samoa</td><td>25</td></tr><tr><td>Venezuela</td><td>United States</td><td>290</td></tr><tr><td>United States</td><td>Palau</td><td>31</td></tr><tr><td>United States</td><td>Venezuela</td><td>246</td></tr><tr><td>Panama</td><td>United States</td><td>510</td></tr><tr><td>Antigua and Barbuda</td><td>United States</td><td>126</td></tr><tr><td>United States</td><td>Chile</td><td>185</td></tr><tr><td>Morocco</td><td>United States</td><td>15</td></tr><tr><td>United States</td><td>Finland</td><td>28</td></tr><tr><td>Azerbaijan</td><td>United States</td><td>21</td></tr><tr><td>United States</td><td>Greece</td><td>23</td></tr><tr><td>United States</td><td>The Bahamas</td><td>986</td></tr><tr><td>New Zealand</td><td>United States</td><td>111</td></tr><tr><td>Liberia</td><td>United States</td><td>2</td></tr><tr><td>United States</td><td>Hong Kong</td><td>414</td></tr><tr><td>Hungary</td><td>United States</td><td>2</td></tr><tr><td>United States</td><td>China</td><td>920</td></tr><tr><td>United States</td><td>Vietnam</td><td>2</td></tr><tr><td>Burkina Faso</td><td>United States</td><td>1</td></tr><tr><td>Sweden</td><td>United States</td><td>118</td></tr><tr><td>United States</td><td>Kuwait</td><td>28</td></tr><tr><td>United States</td><td>Dominican Republic</td><td>1420</td></tr><tr><td>United States</td><td>Egypt</td><td>12</td></tr><tr><td>Israel</td><td>United States</td><td>134</td></tr><tr><td>United States</td><td>United States</td><td>370002</td></tr><tr><td>Ethiopia</td><td>United States</td><td>13</td></tr><tr><td>United States</td><td>Luxembourg</td><td>134</td></tr><tr><td>United States</td><td>Poland</td><td>33</td></tr><tr><td>Martinique</td><td>United States</td><td>44</td></tr><tr><td>United States</td><td>Saint Barthelemy</td><td>41</td></tr><tr><td>Saint Barthelemy</td><td>United States</td><td>39</td></tr><tr><td>Barbados</td><td>United States</td><td>154</td></tr><tr><td>United States</td><td>Turkey</td><td>129</td></tr><tr><td>Djibouti</td><td>United States</td><td>1</td></tr><tr><td>United States</td><td>Azerbaijan</td><td>21</td></tr><tr><td>United States</td><td>Estonia</td><td>1</td></tr><tr><td>Germany</td><td>United States</td><td>1468</td></tr><tr><td>United States</td><td>South Korea</td><td>827</td></tr><tr><td>United States</td><td>El Salvador</td><td>508</td></tr><tr><td>Ireland</td><td>United States</td><td>335</td></tr><tr><td>United States</td><td>Hungary</td><td>3</td></tr><tr><td>Zambia</td><td>United States</td><td>1</td></tr><tr><td>Malaysia</td><td>United States</td><td>2</td></tr><tr><td>United States</td><td>Ethiopia</td><td>12</td></tr><tr><td>United States</td><td>Panama</td><td>465</td></tr><tr><td>United States</td><td>Aruba</td><td>342</td></tr><tr><td>United States</td><td>Thailand</td><td>4</td></tr><tr><td>United States</td><td>Turks and Caicos Islands</td><td>236</td></tr><tr><td>Croatia</td><td>United States</td><td>2</td></tr><tr><td>United States</td><td>Pakistan</td><td>12</td></tr><tr><td>Cyprus</td><td>United States</td><td>1</td></tr><tr><td>United States</td><td>Honduras</td><td>407</td></tr><tr><td>Fiji</td><td>United States</td><td>24</td></tr><tr><td>Qatar</td><td>United States</td><td>108</td></tr><tr><td>Saint Kitts and Nevis</td><td>United States</td><td>139</td></tr><tr><td>Kuwait</td><td>United States</td><td>32</td></tr><tr><td>Taiwan</td><td>United States</td><td>266</td></tr><tr><td>Haiti</td><td>United States</td><td>226</td></tr><tr><td>Canada</td><td>United States</td><td>8399</td></tr><tr><td>Federated States of Micronesia</td><td>United States</td><td>69</td></tr><tr><td>United States</td><td>Liberia</td><td>2</td></tr><tr><td>Jamaica</td><td>United States</td><td>666</td></tr><tr><td>United States</td><td>Malta</td><td>2</td></tr><tr><td>Dominican Republic</td><td>United States</td><td>1353</td></tr><tr><td>Japan</td><td>United States</td><td>1548</td></tr><tr><td>United States</td><td>Lithuania</td><td>1</td></tr><tr><td>Finland</td><td>United States</td><td>26</td></tr><tr><td>United States</td><td>Guadeloupe</td><td>59</td></tr><tr><td>United States</td><td>Ukraine</td><td>13</td></tr><tr><td>United States</td><td>France</td><td>952</td></tr><tr><td>United States</td><td>Norway</td><td>115</td></tr><tr><td>Aruba</td><td>United States</td><td>346</td></tr><tr><td>French Guiana</td><td>United States</td><td>5</td></tr><tr><td>United States</td><td>Kiribati</td><td>35</td></tr><tr><td>India</td><td>United States</td><td>61</td></tr><tr><td>British Virgin Islands</td><td>United States</td><td>107</td></tr><tr><td>Brazil</td><td>United States</td><td>853</td></tr><tr><td>United States</td><td>Germany</td><td>1336</td></tr><tr><td>United States</td><td>New Zealand</td><td>74</td></tr><tr><td>French Polynesia</td><td>United States</td><td>43</td></tr><tr><td>United Arab Emirates</td><td>United States</td><td>320</td></tr><tr><td>Singapore</td><td>United States</td><td>3</td></tr><tr><td>United States</td><td>Mexico</td><td>7187</td></tr><tr><td>United States</td><td>Sweden</td><td>119</td></tr><tr><td>Netherlands</td><td>United States</td><td>776</td></tr><tr><td>United States</td><td>Martinique</td><td>43</td></tr><tr><td>United States</td><td>United Arab Emirates</td><td>313</td></tr><tr><td>United States</td><td>Bulgaria</td><td>1</td></tr><tr><td>Denmark</td><td>United States</td><td>153</td></tr><tr><td>China</td><td>United States</td><td>772</td></tr><tr><td>United States</td><td>Nicaragua</td><td>201</td></tr><tr><td>United States</td><td>Philippines</td><td>126</td></tr><tr><td>United States</td><td>Georgia</td><td>1</td></tr><tr><td>United States</td><td>Belgium</td><td>228</td></tr><tr><td>Cayman Islands</td><td>United States</td><td>314</td></tr><tr><td>Argentina</td><td>United States</td><td>180</td></tr><tr><td>Peru</td><td>United States</td><td>279</td></tr><tr><td>South Africa</td><td>United States</td><td>36</td></tr><tr><td>United States</td><td>Iceland</td><td>202</td></tr><tr><td>United States</td><td>Argentina</td><td>141</td></tr><tr><td>Spain</td><td>United States</td><td>420</td></tr><tr><td>Bermuda</td><td>United States</td><td>183</td></tr><tr><td>United States</td><td>Nigeria</td><td>50</td></tr><tr><td>United States</td><td>Austria</td><td>63</td></tr><tr><td>United States</td><td>Bonaire, Sint Eustatius, and Saba</td><td>59</td></tr><tr><td>Kiribati</td><td>United States</td><td>26</td></tr><tr><td>Saudi Arabia</td><td>United States</td><td>83</td></tr><tr><td>Czech Republic</td><td>United States</td><td>13</td></tr><tr><td>United States</td><td>Israel</td><td>127</td></tr><tr><td>Belgium</td><td>United States</td><td>259</td></tr><tr><td>United States</td><td>Saint Lucia</td><td>136</td></tr><tr><td>United States</td><td>Bahrain</td><td>1</td></tr><tr><td>United States</td><td>British Virgin Islands</td><td>80</td></tr><tr><td>Curacao</td><td>United States</td><td>90</td></tr><tr><td>Georgia</td><td>United States</td><td>2</td></tr><tr><td>United States</td><td>Denmark</td><td>152</td></tr><tr><td>United States</td><td>Guyana</td><td>63</td></tr><tr><td>Philippines</td><td>United States</td><td>134</td></tr><tr><td>Grenada</td><td>United States</td><td>53</td></tr><tr><td>Cape Verde</td><td>United States</td><td>20</td></tr><tr><td>Cote d'Ivoire</td><td>United States</td><td>1</td></tr><tr><td>Ukraine</td><td>United States</td><td>14</td></tr><tr><td>United States</td><td>Papua New Guinea</td><td>1</td></tr><tr><td>Russia</td><td>United States</td><td>176</td></tr><tr><td>United States</td><td>Saudi Arabia</td><td>70</td></tr><tr><td>Guatemala</td><td>United States</td><td>397</td></tr><tr><td>Saint Lucia</td><td>United States</td><td>123</td></tr><tr><td>Paraguay</td><td>United States</td><td>60</td></tr><tr><td>United States</td><td>Curacao</td><td>83</td></tr><tr><td>Kosovo</td><td>United States</td><td>1</td></tr><tr><td>United States</td><td>Taiwan</td><td>235</td></tr><tr><td>Tunisia</td><td>United States</td><td>3</td></tr><tr><td>United States</td><td>South Africa</td><td>40</td></tr><tr><td>Niger</td><td>United States</td><td>2</td></tr><tr><td>Turkey</td><td>United States</td><td>138</td></tr><tr><td>United Kingdom</td><td>United States</td><td>2025</td></tr><tr><td>Romania</td><td>United States</td><td>14</td></tr><tr><td>United States</td><td>Greenland</td><td>4</td></tr><tr><td>Papua New Guinea</td><td>United States</td><td>3</td></tr><tr><td>United States</td><td>Spain</td><td>442</td></tr><tr><td>Iraq</td><td>United States</td><td>1</td></tr><tr><td>United States</td><td>Italy</td><td>438</td></tr><tr><td>Cuba</td><td>United States</td><td>466</td></tr><tr><td>United States</td><td>Switzerland</td><td>305</td></tr><tr><td>Dominica</td><td>United States</td><td>20</td></tr><tr><td>United States</td><td>Japan</td><td>1496</td></tr><tr><td>Portugal</td><td>United States</td><td>127</td></tr><tr><td>United States</td><td>Brazil</td><td>619</td></tr><tr><td>Bahrain</td><td>United States</td><td>19</td></tr><tr><td>United States</td><td>Peru</td><td>337</td></tr><tr><td>Indonesia</td><td>United States</td><td>1</td></tr><tr><td>United States</td><td>Belize</td><td>193</td></tr><tr><td>United States</td><td>United Kingdom</td><td>1970</td></tr><tr><td>Belize</td><td>United States</td><td>188</td></tr><tr><td>United States</td><td>Ghana</td><td>20</td></tr><tr><td>United States</td><td>Indonesia</td><td>2</td></tr><tr><td>United States</td><td>Fiji</td><td>25</td></tr><tr><td>United States</td><td>Canada</td><td>8483</td></tr><tr><td>United States</td><td>Antigua and Barbuda</td><td>117</td></tr><tr><td>United States</td><td>French Polynesia</td><td>40</td></tr><tr><td>Nicaragua</td><td>United States</td><td>179</td></tr><tr><td>United States</td><td>Latvia</td><td>15</td></tr><tr><td>United States</td><td>Dominica</td><td>27</td></tr><tr><td>United States</td><td>Czech Republic</td><td>12</td></tr><tr><td>United States</td><td>Australia</td><td>258</td></tr><tr><td>United States</td><td>Cook Islands</td><td>13</td></tr><tr><td>Austria</td><td>United States</td><td>62</td></tr><tr><td>Jordan</td><td>United States</td><td>44</td></tr><tr><td>Palau</td><td>United States</td><td>30</td></tr><tr><td>South Korea</td><td>United States</td><td>1048</td></tr><tr><td>Angola</td><td>United States</td><td>15</td></tr><tr><td>Ghana</td><td>United States</td><td>18</td></tr><tr><td>New Caledonia</td><td>United States</td><td>1</td></tr><tr><td>Guadeloupe</td><td>United States</td><td>56</td></tr><tr><td>France</td><td>United States</td><td>935</td></tr><tr><td>Poland</td><td>United States</td><td>32</td></tr><tr><td>Nigeria</td><td>United States</td><td>59</td></tr><tr><td>United States</td><td>Uruguay</td><td>13</td></tr><tr><td>Greenland</td><td>United States</td><td>2</td></tr><tr><td>United States</td><td>Bermuda</td><td>193</td></tr><tr><td>Chile</td><td>United States</td><td>174</td></tr><tr><td>United States</td><td>Cuba</td><td>478</td></tr><tr><td>United States</td><td>Montenegro</td><td>1</td></tr><tr><td>United States</td><td>Colombia</td><td>867</td></tr><tr><td>United States</td><td>Barbados</td><td>130</td></tr><tr><td>United States</td><td>Qatar</td><td>109</td></tr><tr><td>Australia</td><td>United States</td><td>329</td></tr><tr><td>United States</td><td>Cayman Islands</td><td>310</td></tr><tr><td>United States</td><td>Jordan</td><td>44</td></tr><tr><td>United States</td><td>Namibia</td><td>1</td></tr><tr><td>United States</td><td>Trinidad and Tobago</td><td>217</td></tr><tr><td>United States</td><td>Bolivia</td><td>13</td></tr><tr><td>Cook Islands</td><td>United States</td><td>13</td></tr><tr><td>Bulgaria</td><td>United States</td><td>3</td></tr><tr><td>United States</td><td>Saint Kitts and Nevis</td><td>145</td></tr><tr><td>Uruguay</td><td>United States</td><td>43</td></tr><tr><td>United States</td><td>Haiti</td><td>225</td></tr><tr><td>Bonaire, Sint Eustatius, and Saba</td><td>United States</td><td>58</td></tr><tr><td>Greece</td><td>United States</td><td>30</td></tr><tr><td>United States</td><td>Saint Martin</td><td>2</td></tr><tr><td>United States</td><td>Guinea</td><td>2</td></tr><tr><td>United States</td><td>Croatia</td><td>1</td></tr><tr><td>United States</td><td>Romania</td><td>3</td></tr><tr><td>United States</td><td>Ireland</td><td>268</td></tr><tr><td>Egypt</td><td>United States</td><td>13</td></tr><tr><td>United States</td><td>India</td><td>76</td></tr><tr><td>United States</td><td>Singapore</td><td>24</td></tr><tr><td>United States</td><td>Grenada</td><td>59</td></tr><tr><td>Costa Rica</td><td>United States</td><td>494</td></tr><tr><td>Senegal</td><td>United States</td><td>29</td></tr><tr><td>Guyana</td><td>United States</td><td>26</td></tr><tr><td>United States</td><td>Marshall Islands</td><td>49</td></tr><tr><td>United States</td><td>Sint Maarten</td><td>223</td></tr><tr><td>Malta</td><td>United States</td><td>1</td></tr><tr><td>Bolivia</td><td>United States</td><td>61</td></tr><tr><td>Anguilla</td><td>United States</td><td>21</td></tr><tr><td>United States</td><td>Paraguay</td><td>3</td></tr><tr><td>United States</td><td>Gibraltar</td><td>1</td></tr><tr><td>Turks and Caicos Islands</td><td>United States</td><td>163</td></tr><tr><td>United States</td><td>Afghanistan</td><td>3</td></tr><tr><td>Saint Vincent and the Grenadines</td><td>United States</td><td>6</td></tr><tr><td>Italy</td><td>United States</td><td>428</td></tr><tr><td>United States</td><td>Russia</td><td>153</td></tr><tr><td>United States</td><td>Federated States of Micronesia</td><td>54</td></tr><tr><td>Pakistan</td><td>United States</td><td>12</td></tr><tr><td>Iceland</td><td>United States</td><td>113</td></tr><tr><td>United States</td><td>Netherlands</td><td>622</td></tr><tr><td>Marshall Islands</td><td>United States</td><td>81</td></tr><tr><td>Luxembourg</td><td>United States</td><td>120</td></tr><tr><td>Honduras</td><td>United States</td><td>386</td></tr><tr><td>The Bahamas</td><td>United States</td><td>811</td></tr><tr><td>El Salvador</td><td>United States</td><td>495</td></tr><tr><td>United States</td><td>Senegal</td><td>33</td></tr><tr><td>Samoa</td><td>United States</td><td>25</td></tr><tr><td>United States</td><td>Angola</td><td>12</td></tr><tr><td>Switzerland</td><td>United States</td><td>314</td></tr><tr><td>United States</td><td>Anguilla</td><td>20</td></tr><tr><td>Sint Maarten</td><td>United States</td><td>240</td></tr><tr><td>Hong Kong</td><td>United States</td><td>282</td></tr><tr><td>Trinidad and Tobago</td><td>United States</td><td>205</td></tr><tr><td>Latvia</td><td>United States</td><td>12</td></tr><tr><td>Yemen</td><td>United States</td><td>1</td></tr><tr><td>United States</td><td>Ecuador</td><td>351</td></tr><tr><td>Suriname</td><td>United States</td><td>11</td></tr><tr><td>Mexico</td><td>United States</td><td>5953</td></tr><tr><td>United States</td><td>Cyprus</td><td>1</td></tr><tr><td>Ecuador</td><td>United States</td><td>280</td></tr><tr><td>United States</td><td>Portugal</td><td>109</td></tr><tr><td>United States</td><td>Guatemala</td><td>340</td></tr><tr><td>United States</td><td>Costa Rica</td><td>526</td></tr><tr><td>United States</td><td>Suriname</td><td>20</td></tr><tr><td>Colombia</td><td>United States</td><td>707</td></tr><tr><td>United States</td><td>Cape Verde</td><td>19</td></tr><tr><td>United States</td><td>Jamaica</td><td>695</td></tr><tr><td>Norway</td><td>United States</td><td>25</td></tr><tr><td>United States</td><td>Malaysia</td><td>1</td></tr><tr><td>The Gambia</td><td>United States</td><td>1</td></tr><tr><td>United States</td><td>Morocco</td><td>17</td></tr><tr><td>Thailand</td><td>United States</td><td>12</td></tr><tr><td>United States</td><td>Palau</td><td>41</td></tr><tr><td>Venezuela</td><td>United States</td><td>373</td></tr><tr><td>United States</td><td>Samoa</td><td>25</td></tr><tr><td>United States</td><td>Algeria</td><td>1</td></tr><tr><td>Panama</td><td>United States</td><td>397</td></tr><tr><td>United States</td><td>Venezuela</td><td>352</td></tr><tr><td>Guinea</td><td>United States</td><td>5</td></tr><tr><td>Antigua and Barbuda</td><td>United States</td><td>146</td></tr><tr><td>United States</td><td>Finland</td><td>32</td></tr><tr><td>United States</td><td>Chile</td><td>182</td></tr><tr><td>United States</td><td>Greece</td><td>45</td></tr><tr><td>Morocco</td><td>United States</td><td>19</td></tr><tr><td>United States</td><td>The Bahamas</td><td>888</td></tr><tr><td>United States</td><td>Brunei</td><td>1</td></tr><tr><td>New Zealand</td><td>United States</td><td>96</td></tr><tr><td>United States</td><td>Hong Kong</td><td>317</td></tr><tr><td>Hungary</td><td>United States</td><td>13</td></tr><tr><td>United States</td><td>China</td><td>605</td></tr><tr><td>Sweden</td><td>United States</td><td>59</td></tr><tr><td>United States</td><td>Kuwait</td><td>27</td></tr><tr><td>United States</td><td>Dominican Republic</td><td>1100</td></tr><tr><td>United States</td><td>Egypt</td><td>15</td></tr><tr><td>Israel</td><td>United States</td><td>121</td></tr><tr><td>United States</td><td>United States</td><td>352742</td></tr><tr><td>United States</td><td>Luxembourg</td><td>170</td></tr><tr><td>Ethiopia</td><td>United States</td><td>12</td></tr><tr><td>United States</td><td>Poland</td><td>42</td></tr><tr><td>Martinique</td><td>United States</td><td>20</td></tr><tr><td>Saint Barthelemy</td><td>United States</td><td>38</td></tr><tr><td>United States</td><td>Saint Barthelemy</td><td>39</td></tr><tr><td>Barbados</td><td>United States</td><td>129</td></tr><tr><td>United States</td><td>Turkey</td><td>99</td></tr><tr><td>United States</td><td>Azerbaijan</td><td>3</td></tr><tr><td>Germany</td><td>United States</td><td>1423</td></tr><tr><td>United States</td><td>South Korea</td><td>661</td></tr><tr><td>United States</td><td>El Salvador</td><td>443</td></tr><tr><td>Ireland</td><td>United States</td><td>250</td></tr><tr><td>United States</td><td>Hungary</td><td>17</td></tr><tr><td>Malaysia</td><td>United States</td><td>2</td></tr><tr><td>United States</td><td>Panama</td><td>380</td></tr><tr><td>United States</td><td>Ethiopia</td><td>12</td></tr><tr><td>United States</td><td>Thailand</td><td>14</td></tr><tr><td>United States</td><td>Aruba</td><td>332</td></tr><tr><td>United States</td><td>Turks and Caicos Islands</td><td>177</td></tr><tr><td>Croatia</td><td>United States</td><td>2</td></tr><tr><td>United States</td><td>Pakistan</td><td>24</td></tr><tr><td>United States</td><td>Honduras</td><td>388</td></tr><tr><td>Qatar</td><td>United States</td><td>48</td></tr><tr><td>Fiji</td><td>United States</td><td>49</td></tr><tr><td>Saint Kitts and Nevis</td><td>United States</td><td>105</td></tr><tr><td>Taiwan</td><td>United States</td><td>248</td></tr><tr><td>Haiti</td><td>United States</td><td>188</td></tr><tr><td>Kuwait</td><td>United States</td><td>27</td></tr><tr><td>Canada</td><td>United States</td><td>8514</td></tr><tr><td>Belarus</td><td>United States</td><td>1</td></tr><tr><td>Federated States of Micronesia</td><td>United States</td><td>48</td></tr><tr><td>Jamaica</td><td>United States</td><td>675</td></tr><tr><td>United States</td><td>Malta</td><td>3</td></tr><tr><td>Dominican Republic</td><td>United States</td><td>1020</td></tr><tr><td>Japan</td><td>United States</td><td>1532</td></tr><tr><td>United States</td><td>Lithuania</td><td>1</td></tr><tr><td>United States</td><td>Saint Vincent and the Grenadines</td><td>17</td></tr><tr><td>Finland</td><td>United States</td><td>33</td></tr><tr><td>United States</td><td>Ukraine</td><td>15</td></tr><tr><td>United States</td><td>Guadeloupe</td><td>31</td></tr><tr><td>United States</td><td>France</td><td>914</td></tr><tr><td>Aruba</td><td>United States</td><td>347</td></tr><tr><td>French Guiana</td><td>United States</td><td>14</td></tr><tr><td>United States</td><td>Norway</td><td>33</td></tr><tr><td>United States</td><td>Kiribati</td><td>28</td></tr><tr><td>India</td><td>United States</td><td>73</td></tr><tr><td>British Virgin Islands</td><td>United States</td><td>73</td></tr><tr><td>United States</td><td>Germany</td><td>1480</td></tr><tr><td>Brazil</td><td>United States</td><td>969</td></tr><tr><td>United States</td><td>New Zealand</td><td>77</td></tr><tr><td>French Polynesia</td><td>United States</td><td>36</td></tr><tr><td>United Arab Emirates</td><td>United States</td><td>157</td></tr><tr><td>Singapore</td><td>United States</td><td>27</td></tr><tr><td>United States</td><td>Mexico</td><td>6000</td></tr><tr><td>Netherlands</td><td>United States</td><td>635</td></tr><tr><td>United States</td><td>Sweden</td><td>68</td></tr><tr><td>United States</td><td>Martinique</td><td>20</td></tr><tr><td>United States</td><td>United Arab Emirates</td><td>142</td></tr><tr><td>China</td><td>United States</td><td>504</td></tr><tr><td>United States</td><td>Philippines</td><td>109</td></tr><tr><td>United States</td><td>Nicaragua</td><td>173</td></tr><tr><td>Denmark</td><td>United States</td><td>95</td></tr><tr><td>United States</td><td>Georgia</td><td>1</td></tr><tr><td>United States</td><td>Belgium</td><td>369</td></tr><tr><td>Libya</td><td>United States</td><td>1</td></tr><tr><td>Argentina</td><td>United States</td><td>183</td></tr><tr><td>Peru</td><td>United States</td><td>246</td></tr><tr><td>Cayman Islands</td><td>United States</td><td>251</td></tr><tr><td>South Africa</td><td>United States</td><td>24</td></tr><tr><td>United States</td><td>Argentina</td><td>152</td></tr><tr><td>United States</td><td>Iceland</td><td>138</td></tr><tr><td>Spain</td><td>United States</td><td>445</td></tr><tr><td>Bermuda</td><td>United States</td><td>191</td></tr><tr><td>United States</td><td>Austria</td><td>34</td></tr><tr><td>United States</td><td>Nigeria</td><td>26</td></tr><tr><td>United States</td><td>Bonaire, Sint Eustatius, and Saba</td><td>49</td></tr><tr><td>Kiribati</td><td>United States</td><td>28</td></tr><tr><td>Czech Republic</td><td>United States</td><td>23</td></tr><tr><td>Saudi Arabia</td><td>United States</td><td>83</td></tr><tr><td>Macau</td><td>United States</td><td>2</td></tr><tr><td>Belgium</td><td>United States</td><td>376</td></tr><tr><td>United States</td><td>Israel</td><td>126</td></tr><tr><td>United States</td><td>Saint Lucia</td><td>102</td></tr><tr><td>United States</td><td>Bahrain</td><td>2</td></tr><tr><td>United States</td><td>British Virgin Islands</td><td>65</td></tr><tr><td>Afghanistan</td><td>United States</td><td>8</td></tr><tr><td>Curacao</td><td>United States</td><td>106</td></tr><tr><td>Georgia</td><td>United States</td><td>1</td></tr><tr><td>United States</td><td>Guyana</td><td>29</td></tr><tr><td>Philippines</td><td>United States</td><td>127</td></tr><tr><td>United States</td><td>Denmark</td><td>103</td></tr><tr><td>Grenada</td><td>United States</td><td>67</td></tr><tr><td>Cape Verde</td><td>United States</td><td>13</td></tr><tr><td>Ukraine</td><td>United States</td><td>15</td></tr><tr><td>United States</td><td>Papua New Guinea</td><td>1</td></tr><tr><td>Russia</td><td>United States</td><td>199</td></tr><tr><td>United States</td><td>Saudi Arabia</td><td>77</td></tr><tr><td>Guatemala</td><td>United States</td><td>407</td></tr><tr><td>Saint Lucia</td><td>United States</td><td>102</td></tr><tr><td>Paraguay</td><td>United States</td><td>85</td></tr><tr><td>United States</td><td>Curacao</td><td>97</td></tr><tr><td>United States</td><td>Taiwan</td><td>231</td></tr><tr><td>United States</td><td>South Africa</td><td>21</td></tr><tr><td>Togo</td><td>United States</td><td>1</td></tr><tr><td>Turkey</td><td>United States</td><td>104</td></tr><tr><td>United Kingdom</td><td>United States</td><td>1726</td></tr><tr><td>Romania</td><td>United States</td><td>4</td></tr><tr><td>United States</td><td>Greenland</td><td>2</td></tr><tr><td>United States</td><td>Spain</td><td>472</td></tr><tr><td>Cuba</td><td>United States</td><td>320</td></tr><tr><td>United States</td><td>Italy</td><td>447</td></tr><tr><td>United States</td><td>Switzerland</td><td>319</td></tr><tr><td>Dominica</td><td>United States</td><td>25</td></tr><tr><td>United States</td><td>Japan</td><td>1412</td></tr><tr><td>Portugal</td><td>United States</td><td>95</td></tr><tr><td>United States</td><td>Brazil</td><td>575</td></tr><tr><td>Bahrain</td><td>United States</td><td>40</td></tr><tr><td>United States</td><td>Peru</td><td>288</td></tr><tr><td>Vietnam</td><td>United States</td><td>1</td></tr><tr><td>United States</td><td>United Kingdom</td><td>1649</td></tr><tr><td>United States</td><td>Belize</td><td>112</td></tr><tr><td>Belize</td><td>United States</td><td>113</td></tr><tr><td>United States</td><td>Ghana</td><td>39</td></tr><tr><td>Mauritania</td><td>United States</td><td>1</td></tr><tr><td>Saint Martin</td><td>United States</td><td>1</td></tr><tr><td>United States</td><td>Indonesia</td><td>1</td></tr><tr><td>United States</td><td>Fiji</td><td>48</td></tr><tr><td>United States</td><td>Mauritania</td><td>1</td></tr><tr><td>United States</td><td>Canada</td><td>8650</td></tr><tr><td>United States</td><td>Antigua and Barbuda</td><td>152</td></tr><tr><td>United States</td><td>French Polynesia</td><td>36</td></tr><tr><td>Nicaragua</td><td>United States</td><td>180</td></tr><tr><td>Namibia</td><td>United States</td><td>1</td></tr><tr><td>United States</td><td>Latvia</td><td>12</td></tr><tr><td>United States</td><td>Dominica</td><td>29</td></tr><tr><td>United States</td><td>Czech Republic</td><td>25</td></tr><tr><td>United States</td><td>Australia</td><td>231</td></tr><tr><td>United States</td><td>Cook Islands</td><td>12</td></tr><tr><td>Austria</td><td>United States</td><td>34</td></tr><tr><td>Palau</td><td>United States</td><td>41</td></tr><tr><td>Jordan</td><td>United States</td><td>42</td></tr><tr><td>South Korea</td><td>United States</td><td>713</td></tr><tr><td>Ghana</td><td>United States</td><td>39</td></tr><tr><td>Angola</td><td>United States</td><td>13</td></tr><tr><td>Guadeloupe</td><td>United States</td><td>33</td></tr><tr><td>France</td><td>United States</td><td>876</td></tr><tr><td>Nigeria</td><td>United States</td><td>31</td></tr><tr><td>Poland</td><td>United States</td><td>39</td></tr><tr><td>United States</td><td>Uruguay</td><td>27</td></tr><tr><td>Greenland</td><td>United States</td><td>1</td></tr><tr><td>Chile</td><td>United States</td><td>178</td></tr><tr><td>United States</td><td>Bermuda</td><td>196</td></tr><tr><td>Lebanon</td><td>United States</td><td>1</td></tr><tr><td>United States</td><td>Cuba</td><td>326</td></tr><tr><td>United States</td><td>Colombia</td><td>777</td></tr><tr><td>United States</td><td>Barbados</td><td>125</td></tr><tr><td>United States</td><td>Qatar</td><td>48</td></tr><tr><td>Australia</td><td>United States</td><td>280</td></tr><tr><td>United States</td><td>Cayman Islands</td><td>262</td></tr><tr><td>United States</td><td>Jordan</td><td>45</td></tr><tr><td>United States</td><td>Bolivia</td><td>51</td></tr><tr><td>United States</td><td>Trinidad and Tobago</td><td>213</td></tr><tr><td>Uruguay</td><td>United States</td><td>50</td></tr><tr><td>Cook Islands</td><td>United States</td><td>12</td></tr><tr><td>United States</td><td>Saint Kitts and Nevis</td><td>120</td></tr><tr><td>Bulgaria</td><td>United States</td><td>4</td></tr><tr><td>United States</td><td>French Guiana</td><td>11</td></tr><tr><td>United States</td><td>Haiti</td><td>197</td></tr><tr><td>Bonaire, Sint Eustatius, and Saba</td><td>United States</td><td>50</td></tr><tr><td>Greece</td><td>United States</td><td>38</td></tr><tr><td>United States</td><td>Romania</td><td>12</td></tr><tr><td>United States</td><td>Croatia</td><td>1</td></tr><tr><td>United States</td><td>Ireland</td><td>266</td></tr><tr><td>Egypt</td><td>United States</td><td>13</td></tr><tr><td>United States</td><td>India</td><td>60</td></tr><tr><td>Equatorial Guinea</td><td>United States</td><td>1</td></tr><tr><td>United States</td><td>Niger</td><td>1</td></tr><tr><td>United States</td><td>Singapore</td><td>22</td></tr><tr><td>United States</td><td>Grenada</td><td>40</td></tr><tr><td>Costa Rica</td><td>United States</td><td>509</td></tr><tr><td>Senegal</td><td>United States</td><td>28</td></tr><tr><td>Guyana</td><td>United States</td><td>34</td></tr><tr><td>United States</td><td>Sint Maarten</td><td>260</td></tr><tr><td>United States</td><td>Marshall Islands</td><td>33</td></tr><tr><td>Bolivia</td><td>United States</td><td>33</td></tr><tr><td>Anguilla</td><td>United States</td><td>22</td></tr><tr><td>United States</td><td>Paraguay</td><td>15</td></tr><tr><td>Algeria</td><td>United States</td><td>2</td></tr><tr><td>Turks and Caicos Islands</td><td>United States</td><td>181</td></tr><tr><td>Saint Vincent and the Grenadines</td><td>United States</td><td>4</td></tr><tr><td>Lithuania</td><td>United States</td><td>1</td></tr><tr><td>Pakistan</td><td>United States</td><td>14</td></tr><tr><td>Italy</td><td>United States</td><td>327</td></tr><tr><td>United States</td><td>Russia</td><td>167</td></tr><tr><td>United States</td><td>Federated States of Micronesia</td><td>62</td></tr><tr><td>United States</td><td>Netherlands</td><td>618</td></tr><tr><td>Iceland</td><td>United States</td><td>146</td></tr><tr><td>Marshall Islands</td><td>United States</td><td>50</td></tr><tr><td>Luxembourg</td><td>United States</td><td>160</td></tr><tr><td>Honduras</td><td>United States</td><td>423</td></tr><tr><td>Rwanda</td><td>United States</td><td>1</td></tr><tr><td>The Bahamas</td><td>United States</td><td>865</td></tr><tr><td>El Salvador</td><td>United States</td><td>551</td></tr><tr><td>United States</td><td>Senegal</td><td>32</td></tr><tr><td>Samoa</td><td>United States</td><td>25</td></tr><tr><td>United States</td><td>Angola</td><td>12</td></tr><tr><td>Kazakhstan</td><td>United States</td><td>2</td></tr><tr><td>Switzerland</td><td>United States</td><td>288</td></tr><tr><td>United States</td><td>Anguilla</td><td>18</td></tr><tr><td>United States</td><td>Mali</td><td>1</td></tr><tr><td>Sint Maarten</td><td>United States</td><td>271</td></tr><tr><td>Hong Kong</td><td>United States</td><td>282</td></tr><tr><td>Trinidad and Tobago</td><td>United States</td><td>183</td></tr><tr><td>Latvia</td><td>United States</td><td>29</td></tr><tr><td>United States</td><td>Ecuador</td><td>307</td></tr><tr><td>Suriname</td><td>United States</td><td>15</td></tr><tr><td>Mexico</td><td>United States</td><td>6372</td></tr><tr><td>Ecuador</td><td>United States</td><td>252</td></tr><tr><td>United States</td><td>Portugal</td><td>126</td></tr><tr><td>United States</td><td>Costa Rica</td><td>549</td></tr><tr><td>United States</td><td>Guatemala</td><td>331</td></tr><tr><td>United States</td><td>Suriname</td><td>21</td></tr><tr><td>Colombia</td><td>United States</td><td>798</td></tr><tr><td>United States</td><td>Cape Verde</td><td>15</td></tr><tr><td>Norway</td><td>United States</td><td>48</td></tr><tr><td>United States</td><td>Jamaica</td><td>599</td></tr><tr><td>United States</td><td>Malaysia</td><td>1</td></tr><tr><td>United States</td><td>Morocco</td><td>16</td></tr><tr><td>Thailand</td><td>United States</td><td>2</td></tr><tr><td>Burundi</td><td>United States</td><td>1</td></tr><tr><td>Venezuela</td><td>United States</td><td>350</td></tr><tr><td>United States</td><td>Samoa</td><td>25</td></tr><tr><td>United States</td><td>Palau</td><td>35</td></tr><tr><td>United States</td><td>Venezuela</td><td>295</td></tr><tr><td>Panama</td><td>United States</td><td>418</td></tr><tr><td>United States</td><td>Finland</td><td>15</td></tr><tr><td>Morocco</td><td>United States</td><td>18</td></tr><tr><td>Antigua and Barbuda</td><td>United States</td><td>123</td></tr><tr><td>United States</td><td>Chile</td><td>171</td></tr><tr><td>Azerbaijan</td><td>United States</td><td>3</td></tr><tr><td>United States</td><td>Greece</td><td>14</td></tr><tr><td>United States</td><td>The Bahamas</td><td>897</td></tr><tr><td>New Zealand</td><td>United States</td><td>114</td></tr><tr><td>United States</td><td>Hong Kong</td><td>344</td></tr><tr><td>Hungary</td><td>United States</td><td>1</td></tr><tr><td>United States</td><td>China</td><td>614</td></tr><tr><td>United States</td><td>Kuwait</td><td>24</td></tr><tr><td>Sweden</td><td>United States</td><td>70</td></tr><tr><td>United States</td><td>Egypt</td><td>12</td></tr><tr><td>United States</td><td>Dominican Republic</td><td>1119</td></tr><tr><td>Israel</td><td>United States</td><td>119</td></tr><tr><td>United States</td><td>United States</td><td>343132</td></tr><tr><td>United States</td><td>Luxembourg</td><td>134</td></tr><tr><td>Ethiopia</td><td>United States</td><td>12</td></tr><tr><td>United States</td><td>Poland</td><td>37</td></tr><tr><td>Martinique</td><td>United States</td><td>26</td></tr><tr><td>United States</td><td>Zimbabwe</td><td>2</td></tr><tr><td>United States</td><td>Saint Barthelemy</td><td>58</td></tr><tr><td>Saint Barthelemy</td><td>United States</td><td>67</td></tr><tr><td>United States</td><td>Turkey</td><td>100</td></tr><tr><td>Barbados</td><td>United States</td><td>97</td></tr><tr><td>Germany</td><td>United States</td><td>1423</td></tr><tr><td>Kyrgyzstan</td><td>United States</td><td>1</td></tr><tr><td>United States</td><td>South Korea</td><td>687</td></tr><tr><td>United States</td><td>El Salvador</td><td>466</td></tr><tr><td>Ireland</td><td>United States</td><td>255</td></tr><tr><td>Malaysia</td><td>United States</td><td>2</td></tr><tr><td>United States</td><td>Aruba</td><td>344</td></tr><tr><td>United States</td><td>Panama</td><td>419</td></tr><tr><td>United States</td><td>Ethiopia</td><td>12</td></tr><tr><td>United States</td><td>Turks and Caicos Islands</td><td>178</td></tr><tr><td>United States</td><td>Pakistan</td><td>12</td></tr><tr><td>Cyprus</td><td>United States</td><td>2</td></tr><tr><td>United States</td><td>Honduras</td><td>392</td></tr><tr><td>Fiji</td><td>United States</td><td>34</td></tr><tr><td>Qatar</td><td>United States</td><td>71</td></tr><tr><td>Saint Kitts and Nevis</td><td>United States</td><td>99</td></tr><tr><td>Kuwait</td><td>United States</td><td>24</td></tr><tr><td>Haiti</td><td>United States</td><td>199</td></tr><tr><td>Taiwan</td><td>United States</td><td>243</td></tr><tr><td>Canada</td><td>United States</td><td>7860</td></tr><tr><td>Federated States of Micronesia</td><td>United States</td><td>53</td></tr><tr><td>Jamaica</td><td>United States</td><td>581</td></tr><tr><td>Dominican Republic</td><td>United States</td><td>1068</td></tr><tr><td>Japan</td><td>United States</td><td>1613</td></tr><tr><td>United States</td><td>Saint Vincent and the Grenadines</td><td>10</td></tr><tr><td>Finland</td><td>United States</td><td>17</td></tr><tr><td>United States</td><td>Ukraine</td><td>4</td></tr><tr><td>United States</td><td>Guadeloupe</td><td>42</td></tr><tr><td>United States</td><td>France</td><td>848</td></tr><tr><td>United States</td><td>Norway</td><td>46</td></tr><tr><td>Aruba</td><td>United States</td><td>352</td></tr><tr><td>French Guiana</td><td>United States</td><td>7</td></tr><tr><td>United States</td><td>Kiribati</td><td>29</td></tr><tr><td>Zimbabwe</td><td>United States</td><td>2</td></tr><tr><td>India</td><td>United States</td><td>61</td></tr><tr><td>British Virgin Islands</td><td>United States</td><td>101</td></tr><tr><td>United States</td><td>Germany</td><td>1402</td></tr><tr><td>United States</td><td>New Zealand</td><td>77</td></tr><tr><td>Brazil</td><td>United States</td><td>912</td></tr><tr><td>Saint Helena, Ascension, and Tristan da Cunha</td><td>United States</td><td>1</td></tr><tr><td>United States</td><td>Cambodia</td><td>3</td></tr><tr><td>French Polynesia</td><td>United States</td><td>43</td></tr><tr><td>United Arab Emirates</td><td>United States</td><td>202</td></tr><tr><td>Singapore</td><td>United States</td><td>21</td></tr><tr><td>Tanzania</td><td>United States</td><td>2</td></tr><tr><td>United States</td><td>Mexico</td><td>6354</td></tr><tr><td>Netherlands</td><td>United States</td><td>640</td></tr><tr><td>United States</td><td>Sweden</td><td>73</td></tr><tr><td>United States</td><td>Martinique</td><td>24</td></tr><tr><td>United States</td><td>United Arab Emirates</td><td>187</td></tr><tr><td>Denmark</td><td>United States</td><td>104</td></tr><tr><td>China</td><td>United States</td><td>543</td></tr><tr><td>United States</td><td>Nicaragua</td><td>185</td></tr><tr><td>United States</td><td>Philippines</td><td>112</td></tr><tr><td>United States</td><td>Belgium</td><td>193</td></tr><tr><td>Nepal</td><td>United States</td><td>1</td></tr><tr><td>Libya</td><td>United States</td><td>1</td></tr><tr><td>Argentina</td><td>United States</td><td>176</td></tr><tr><td>Peru</td><td>United States</td><td>255</td></tr><tr><td>Cayman Islands</td><td>United States</td><td>274</td></tr><tr><td>South Africa</td><td>United States</td><td>24</td></tr><tr><td>United States</td><td>Iceland</td><td>151</td></tr><tr><td>United States</td><td>Argentina</td><td>140</td></tr><tr><td>Spain</td><td>United States</td><td>370</td></tr><tr><td>Bermuda</td><td>United States</td><td>163</td></tr><tr><td>United States</td><td>Nigeria</td><td>49</td></tr><tr><td>United States</td><td>Austria</td><td>39</td></tr><tr><td>United States</td><td>Bonaire, Sint Eustatius, and Saba</td><td>54</td></tr><tr><td>Kiribati</td><td>United States</td><td>29</td></tr><tr><td>Saudi Arabia</td><td>United States</td><td>86</td></tr><tr><td>Czech Republic</td><td>United States</td><td>10</td></tr><tr><td>Macau</td><td>United States</td><td>2</td></tr><tr><td>Belgium</td><td>United States</td><td>265</td></tr><tr><td>United States</td><td>Israel</td><td>107</td></tr><tr><td>United States</td><td>Saint Lucia</td><td>92</td></tr><tr><td>Sierra Leone</td><td>United States</td><td>1</td></tr><tr><td>United States</td><td>Bahrain</td><td>1</td></tr><tr><td>United States</td><td>British Virgin Islands</td><td>94</td></tr><tr><td>United States</td><td>Saint Helena, Ascension, and Tristan da Cunha</td><td>2</td></tr><tr><td>Curacao</td><td>United States</td><td>97</td></tr><tr><td>United States</td><td>Denmark</td><td>106</td></tr><tr><td>United States</td><td>Guyana</td><td>52</td></tr><tr><td>Philippines</td><td>United States</td><td>136</td></tr><tr><td>Grenada</td><td>United States</td><td>42</td></tr><tr><td>Cape Verde</td><td>United States</td><td>21</td></tr><tr><td>Ukraine</td><td>United States</td><td>4</td></tr><tr><td>Russia</td><td>United States</td><td>194</td></tr><tr><td>United States</td><td>Saudi Arabia</td><td>84</td></tr><tr><td>Guatemala</td><td>United States</td><td>376</td></tr><tr><td>Saint Lucia</td><td>United States</td><td>91</td></tr><tr><td>Paraguay</td><td>United States</td><td>75</td></tr><tr><td>United States</td><td>Curacao</td><td>89</td></tr><tr><td>United States</td><td>Taiwan</td><td>235</td></tr><tr><td>United States</td><td>South Africa</td><td>26</td></tr><tr><td>Niger</td><td>United States</td><td>1</td></tr><tr><td>Turkey</td><td>United States</td><td>99</td></tr><tr><td>United Kingdom</td><td>United States</td><td>1802</td></tr><tr><td>Romania</td><td>United States</td><td>14</td></tr><tr><td>United States</td><td>Greenland</td><td>3</td></tr><tr><td>Papua New Guinea</td><td>United States</td><td>2</td></tr><tr><td>United States</td><td>Spain</td><td>377</td></tr><tr><td>United States</td><td>Italy</td><td>333</td></tr><tr><td>Cuba</td><td>United States</td><td>337</td></tr><tr><td>United States</td><td>Switzerland</td><td>285</td></tr><tr><td>Dominica</td><td>United States</td><td>19</td></tr><tr><td>Portugal</td><td>United States</td><td>116</td></tr><tr><td>United States</td><td>Japan</td><td>1476</td></tr><tr><td>United States</td><td>Brazil</td><td>510</td></tr><tr><td>Bahrain</td><td>United States</td><td>50</td></tr><tr><td>United States</td><td>Peru</td><td>300</td></tr><tr><td>Indonesia</td><td>United States</td><td>1</td></tr><tr><td>United States</td><td>United Kingdom</td><td>1711</td></tr><tr><td>United States</td><td>Belize</td><td>127</td></tr><tr><td>Belize</td><td>United States</td><td>137</td></tr><tr><td>Kenya</td><td>United States</td><td>1</td></tr><tr><td>United States</td><td>Ghana</td><td>16</td></tr><tr><td>United States</td><td>Fiji</td><td>30</td></tr><tr><td>United States</td><td>Canada</td><td>7983</td></tr><tr><td>United States</td><td>French Polynesia</td><td>40</td></tr><tr><td>United States</td><td>Antigua and Barbuda</td><td>123</td></tr><tr><td>Brunei</td><td>United States</td><td>1</td></tr><tr><td>Nicaragua</td><td>United States</td><td>178</td></tr><tr><td>United States</td><td>Latvia</td><td>12</td></tr><tr><td>United States</td><td>Dominica</td><td>25</td></tr><tr><td>United States</td><td>Czech Republic</td><td>9</td></tr><tr><td>United States</td><td>Cook Islands</td><td>12</td></tr><tr><td>Austria</td><td>United States</td><td>35</td></tr><tr><td>United States</td><td>Australia</td><td>222</td></tr><tr><td>Jordan</td><td>United States</td><td>74</td></tr><tr><td>Palau</td><td>United States</td><td>35</td></tr><tr><td>South Korea</td><td>United States</td><td>842</td></tr><tr><td>Angola</td><td>United States</td><td>12</td></tr><tr><td>Ghana</td><td>United States</td><td>16</td></tr><tr><td>New Caledonia</td><td>United States</td><td>1</td></tr><tr><td>Guadeloupe</td><td>United States</td><td>41</td></tr><tr><td>France</td><td>United States</td><td>837</td></tr><tr><td>Poland</td><td>United States</td><td>40</td></tr><tr><td>Nigeria</td><td>United States</td><td>58</td></tr><tr><td>United States</td><td>Uruguay</td><td>20</td></tr><tr><td>Greenland</td><td>United States</td><td>1</td></tr><tr><td>Chile</td><td>United States</td><td>147</td></tr><tr><td>United States</td><td>Bermuda</td><td>166</td></tr><tr><td>Lebanon</td><td>United States</td><td>1</td></tr></tbody></table>Showing the first 1000 rows.</div>"
      ]
     },
     "metadata": {
      "application/vnd.databricks.v1+output": {
       "addedWidgets": {},
       "aggData": [],
       "aggError": "",
       "aggOverflow": false,
       "aggSchema": [],
       "aggSeriesLimitReached": false,
       "aggType": "",
       "arguments": {},
       "columnCustomDisplayInfos": {},
       "data": [
        [
         "United States",
         "Romania",
         1
        ],
        [
         "United States",
         "Ireland",
         264
        ],
        [
         "United States",
         "India",
         69
        ],
        [
         "Egypt",
         "United States",
         24
        ],
        [
         "Equatorial Guinea",
         "United States",
         1
        ],
        [
         "United States",
         "Singapore",
         25
        ],
        [
         "United States",
         "Grenada",
         54
        ],
        [
         "Costa Rica",
         "United States",
         477
        ],
        [
         "Senegal",
         "United States",
         29
        ],
        [
         "United States",
         "Marshall Islands",
         44
        ],
        [
         "Guyana",
         "United States",
         17
        ],
        [
         "United States",
         "Sint Maarten",
         53
        ],
        [
         "Malta",
         "United States",
         1
        ],
        [
         "Bolivia",
         "United States",
         46
        ],
        [
         "Anguilla",
         "United States",
         21
        ],
        [
         "Turks and Caicos Islands",
         "United States",
         136
        ],
        [
         "United States",
         "Afghanistan",
         2
        ],
        [
         "Saint Vincent and the Grenadines",
         "United States",
         1
        ],
        [
         "Italy",
         "United States",
         390
        ],
        [
         "United States",
         "Russia",
         156
        ],
        [
         "United States",
         "Federated States of Micronesia",
         48
        ],
        [
         "Pakistan",
         "United States",
         9
        ],
        [
         "United States",
         "Netherlands",
         570
        ],
        [
         "Iceland",
         "United States",
         118
        ],
        [
         "Marshall Islands",
         "United States",
         77
        ],
        [
         "Luxembourg",
         "United States",
         91
        ],
        [
         "Honduras",
         "United States",
         391
        ],
        [
         "The Bahamas",
         "United States",
         903
        ],
        [
         "El Salvador",
         "United States",
         519
        ],
        [
         "United States",
         "Senegal",
         46
        ],
        [
         "Samoa",
         "United States",
         28
        ],
        [
         "United States",
         "Angola",
         18
        ],
        [
         "Kazakhstan",
         "United States",
         3
        ],
        [
         "Switzerland",
         "United States",
         315
        ],
        [
         "United States",
         "Anguilla",
         20
        ],
        [
         "Sint Maarten",
         "United States",
         61
        ],
        [
         "Hong Kong",
         "United States",
         252
        ],
        [
         "Trinidad and Tobago",
         "United States",
         187
        ],
        [
         "Latvia",
         "United States",
         12
        ],
        [
         "United States",
         "Ecuador",
         345
        ],
        [
         "Slovakia",
         "United States",
         1
        ],
        [
         "Suriname",
         "United States",
         12
        ],
        [
         "Mexico",
         "United States",
         6200
        ],
        [
         "United States",
         "Cyprus",
         1
        ],
        [
         "Ecuador",
         "United States",
         272
        ],
        [
         "United States",
         "Bosnia and Herzegovina",
         1
        ],
        [
         "United States",
         "Portugal",
         104
        ],
        [
         "United States",
         "Costa Rica",
         501
        ],
        [
         "United States",
         "Guatemala",
         333
        ],
        [
         "United States",
         "Suriname",
         13
        ],
        [
         "Colombia",
         "United States",
         785
        ],
        [
         "United States",
         "Cape Verde",
         18
        ],
        [
         "United States",
         "Jamaica",
         757
        ],
        [
         "United States",
         "Malaysia",
         3
        ],
        [
         "Norway",
         "United States",
         29
        ],
        [
         "United States",
         "Morocco",
         16
        ],
        [
         "Thailand",
         "United States",
         16
        ],
        [
         "Venezuela",
         "United States",
         377
        ],
        [
         "United States",
         "Palau",
         30
        ],
        [
         "United States",
         "Samoa",
         28
        ],
        [
         "United States",
         "Algeria",
         1
        ],
        [
         "United States",
         "Venezuela",
         341
        ],
        [
         "Panama",
         "United States",
         355
        ],
        [
         "United States",
         "Finland",
         20
        ],
        [
         "United States",
         "Chile",
         176
        ],
        [
         "Morocco",
         "United States",
         16
        ],
        [
         "United States",
         "Greece",
         61
        ],
        [
         "Antigua and Barbuda",
         "United States",
         123
        ],
        [
         "Azerbaijan",
         "United States",
         1
        ],
        [
         "United States",
         "The Bahamas",
         959
        ],
        [
         "New Zealand",
         "United States",
         86
        ],
        [
         "Liberia",
         "United States",
         1
        ],
        [
         "United States",
         "Hong Kong",
         293
        ],
        [
         "Hungary",
         "United States",
         14
        ],
        [
         "United States",
         "China",
         505
        ],
        [
         "United States",
         "Vietnam",
         1
        ],
        [
         "Sweden",
         "United States",
         65
        ],
        [
         "United States",
         "Kuwait",
         25
        ],
        [
         "United States",
         "Dominican Republic",
         1150
        ],
        [
         "United States",
         "Egypt",
         25
        ],
        [
         "Israel",
         "United States",
         117
        ],
        [
         "United States",
         "United States",
         348113
        ],
        [
         "United States",
         "Luxembourg",
         90
        ],
        [
         "Ethiopia",
         "United States",
         12
        ],
        [
         "United States",
         "Poland",
         61
        ],
        [
         "Martinique",
         "United States",
         23
        ],
        [
         "Saint Barthelemy",
         "United States",
         28
        ],
        [
         "United States",
         "Saint Barthelemy",
         29
        ],
        [
         "United States",
         "Turkey",
         87
        ],
        [
         "Barbados",
         "United States",
         130
        ],
        [
         "United States",
         "Estonia",
         1
        ],
        [
         "United States",
         "Azerbaijan",
         1
        ],
        [
         "Germany",
         "United States",
         1392
        ],
        [
         "Kyrgyzstan",
         "United States",
         2
        ],
        [
         "United States",
         "South Korea",
         621
        ],
        [
         "United States",
         "El Salvador",
         464
        ],
        [
         "Ireland",
         "United States",
         231
        ],
        [
         "United States",
         "Hungary",
         15
        ],
        [
         "United States",
         "Serbia",
         1
        ],
        [
         "Malaysia",
         "United States",
         1
        ],
        [
         "United States",
         "Panama",
         363
        ],
        [
         "United States",
         "Ethiopia",
         12
        ],
        [
         "United States",
         "Aruba",
         349
        ],
        [
         "United States",
         "Thailand",
         13
        ],
        [
         "United States",
         "Netherlands Antilles",
         289
        ],
        [
         "United States",
         "Turks and Caicos Islands",
         147
        ],
        [
         "Cyprus",
         "United States",
         2
        ],
        [
         "United States",
         "Pakistan",
         15
        ],
        [
         "United States",
         "Honduras",
         393
        ],
        [
         "Qatar",
         "United States",
         41
        ],
        [
         "Fiji",
         "United States",
         53
        ],
        [
         "Saint Kitts and Nevis",
         "United States",
         113
        ],
        [
         "Taiwan",
         "United States",
         275
        ],
        [
         "Haiti",
         "United States",
         238
        ],
        [
         "Kuwait",
         "United States",
         26
        ],
        [
         "Canada",
         "United States",
         8271
        ],
        [
         "Federated States of Micronesia",
         "United States",
         46
        ],
        [
         "United States",
         "Liberia",
         1
        ],
        [
         "Jamaica",
         "United States",
         733
        ],
        [
         "United States",
         "Malta",
         2
        ],
        [
         "Dominican Republic",
         "United States",
         1109
        ],
        [
         "Japan",
         "United States",
         1383
        ],
        [
         "United States",
         "Saint Vincent and the Grenadines",
         16
        ],
        [
         "United States",
         "Guadeloupe",
         33
        ],
        [
         "Finland",
         "United States",
         24
        ],
        [
         "United States",
         "Ukraine",
         17
        ],
        [
         "United States",
         "France",
         776
        ],
        [
         "United States",
         "Norway",
         36
        ],
        [
         "Aruba",
         "United States",
         359
        ],
        [
         "French Guiana",
         "United States",
         4
        ],
        [
         "United States",
         "Kiribati",
         18
        ],
        [
         "India",
         "United States",
         66
        ],
        [
         "British Virgin Islands",
         "United States",
         49
        ],
        [
         "United States",
         "Germany",
         1406
        ],
        [
         "Brazil",
         "United States",
         995
        ],
        [
         "United States",
         "New Zealand",
         71
        ],
        [
         "French Polynesia",
         "United States",
         38
        ],
        [
         "United Arab Emirates",
         "United States",
         165
        ],
        [
         "Singapore",
         "United States",
         25
        ],
        [
         "United States",
         "Mexico",
         6220
        ],
        [
         "Netherlands",
         "United States",
         586
        ],
        [
         "United States",
         "Sweden",
         73
        ],
        [
         "United States",
         "Gabon",
         1
        ],
        [
         "United States",
         "Martinique",
         20
        ],
        [
         "United States",
         "United Arab Emirates",
         156
        ],
        [
         "United States",
         "Bulgaria",
         2
        ],
        [
         "China",
         "United States",
         448
        ],
        [
         "Denmark",
         "United States",
         98
        ],
        [
         "United States",
         "Philippines",
         116
        ],
        [
         "United States",
         "Nicaragua",
         181
        ],
        [
         "United States",
         "Belgium",
         355
        ],
        [
         "Peru",
         "United States",
         212
        ],
        [
         "Argentina",
         "United States",
         184
        ],
        [
         "Cayman Islands",
         "United States",
         247
        ],
        [
         "South Africa",
         "United States",
         25
        ],
        [
         "United States",
         "Iceland",
         129
        ],
        [
         "United States",
         "Argentina",
         159
        ],
        [
         "Spain",
         "United States",
         422
        ],
        [
         "Netherlands Antilles",
         "United States",
         286
        ],
        [
         "Bermuda",
         "United States",
         183
        ],
        [
         "United States",
         "Austria",
         34
        ],
        [
         "United States",
         "Nigeria",
         18
        ],
        [
         "United States",
         "Bonaire, Sint Eustatius, and Saba",
         16
        ],
        [
         "Kiribati",
         "United States",
         17
        ],
        [
         "Saudi Arabia",
         "United States",
         42
        ],
        [
         "Czech Republic",
         "United States",
         21
        ],
        [
         "Belgium",
         "United States",
         408
        ],
        [
         "United States",
         "Israel",
         122
        ],
        [
         "United States",
         "Bahrain",
         1
        ],
        [
         "United States",
         "Saint Lucia",
         121
        ],
        [
         "Afghanistan",
         "United States",
         11
        ],
        [
         "United States",
         "British Virgin Islands",
         47
        ],
        [
         "Curacao",
         "United States",
         20
        ],
        [
         "Georgia",
         "United States",
         2
        ],
        [
         "United States",
         "Guyana",
         20
        ],
        [
         "United States",
         "Denmark",
         107
        ],
        [
         "Philippines",
         "United States",
         132
        ],
        [
         "Grenada",
         "United States",
         65
        ],
        [
         "Cape Verde",
         "United States",
         18
        ],
        [
         "Ukraine",
         "United States",
         19
        ],
        [
         "United States",
         "Papua New Guinea",
         1
        ],
        [
         "United States",
         "Saudi Arabia",
         54
        ],
        [
         "Russia",
         "United States",
         152
        ],
        [
         "Guatemala",
         "United States",
         386
        ],
        [
         "Saint Lucia",
         "United States",
         116
        ],
        [
         "Paraguay",
         "United States",
         90
        ],
        [
         "United States",
         "Curacao",
         14
        ],
        [
         "United States",
         "Taiwan",
         252
        ],
        [
         "United States",
         "South Africa",
         15
        ],
        [
         "Turkey",
         "United States",
         75
        ],
        [
         "United Kingdom",
         "United States",
         1629
        ],
        [
         "United States",
         "Greenland",
         2
        ],
        [
         "United States",
         "Spain",
         442
        ],
        [
         "Cuba",
         "United States",
         243
        ],
        [
         "United States",
         "Italy",
         433
        ],
        [
         "United States",
         "Switzerland",
         334
        ],
        [
         "Dominica",
         "United States",
         28
        ],
        [
         "United States",
         "Japan",
         1307
        ],
        [
         "Portugal",
         "United States",
         102
        ],
        [
         "United States",
         "Brazil",
         578
        ],
        [
         "Bahrain",
         "United States",
         30
        ],
        [
         "United States",
         "Peru",
         284
        ],
        [
         "Vietnam",
         "United States",
         1
        ],
        [
         "United States",
         "United Kingdom",
         1503
        ],
        [
         "United States",
         "Belize",
         118
        ],
        [
         "Belize",
         "United States",
         121
        ],
        [
         "United States",
         "Ghana",
         28
        ],
        [
         "United States",
         "Indonesia",
         1
        ],
        [
         "United States",
         "Fiji",
         51
        ],
        [
         "United States",
         "Canada",
         8305
        ],
        [
         "United States",
         "French Polynesia",
         38
        ],
        [
         "United States",
         "Antigua and Barbuda",
         121
        ],
        [
         "United States",
         "Burkina Faso",
         1
        ],
        [
         "Nicaragua",
         "United States",
         178
        ],
        [
         "United States",
         "Latvia",
         13
        ],
        [
         "United States",
         "Dominica",
         32
        ],
        [
         "United States",
         "Czech Republic",
         22
        ],
        [
         "United States",
         "Australia",
         216
        ],
        [
         "Austria",
         "United States",
         36
        ],
        [
         "United States",
         "Cook Islands",
         12
        ],
        [
         "Jordan",
         "United States",
         50
        ],
        [
         "Palau",
         "United States",
         31
        ],
        [
         "Uganda",
         "United States",
         2
        ],
        [
         "United States",
         "Cameroon",
         1
        ],
        [
         "South Korea",
         "United States",
         683
        ],
        [
         "Angola",
         "United States",
         14
        ],
        [
         "Ghana",
         "United States",
         27
        ],
        [
         "Guadeloupe",
         "United States",
         40
        ],
        [
         "France",
         "United States",
         774
        ],
        [
         "United States",
         "Kyrgyzstan",
         12
        ],
        [
         "Poland",
         "United States",
         62
        ],
        [
         "Nigeria",
         "United States",
         16
        ],
        [
         "United States",
         "Uruguay",
         24
        ],
        [
         "Greenland",
         "United States",
         2
        ],
        [
         "Chile",
         "United States",
         166
        ],
        [
         "United States",
         "Bermuda",
         180
        ],
        [
         "United States",
         "Cuba",
         235
        ],
        [
         "United States",
         "Colombia",
         832
        ],
        [
         "United States",
         "Qatar",
         40
        ],
        [
         "United States",
         "Barbados",
         119
        ],
        [
         "Australia",
         "United States",
         290
        ],
        [
         "United States",
         "Jordan",
         51
        ],
        [
         "United States",
         "Cayman Islands",
         251
        ],
        [
         "United States",
         "Trinidad and Tobago",
         200
        ],
        [
         "United States",
         "Bolivia",
         39
        ],
        [
         "United States",
         "Slovakia",
         1
        ],
        [
         "Uruguay",
         "United States",
         54
        ],
        [
         "Cook Islands",
         "United States",
         13
        ],
        [
         "United States",
         "Saint Kitts and Nevis",
         127
        ],
        [
         "Bulgaria",
         "United States",
         1
        ],
        [
         "United States",
         "French Guiana",
         1
        ],
        [
         "United States",
         "Haiti",
         226
        ],
        [
         "United States",
         "Uganda",
         1
        ],
        [
         "Bonaire, Sint Eustatius, and Saba",
         "United States",
         16
        ],
        [
         "Greece",
         "United States",
         50
        ],
        [
         "United States",
         "Romania",
         15
        ],
        [
         "United States",
         "Croatia",
         1
        ],
        [
         "United States",
         "Ireland",
         344
        ],
        [
         "Egypt",
         "United States",
         15
        ],
        [
         "United States",
         "India",
         62
        ],
        [
         "United States",
         "Singapore",
         1
        ],
        [
         "United States",
         "Grenada",
         62
        ],
        [
         "Costa Rica",
         "United States",
         588
        ],
        [
         "Senegal",
         "United States",
         40
        ],
        [
         "Moldova",
         "United States",
         1
        ],
        [
         "United States",
         "Sint Maarten",
         325
        ],
        [
         "United States",
         "Marshall Islands",
         39
        ],
        [
         "Guyana",
         "United States",
         64
        ],
        [
         "Malta",
         "United States",
         1
        ],
        [
         "Anguilla",
         "United States",
         41
        ],
        [
         "Bolivia",
         "United States",
         30
        ],
        [
         "United States",
         "Paraguay",
         6
        ],
        [
         "Algeria",
         "United States",
         4
        ],
        [
         "Turks and Caicos Islands",
         "United States",
         230
        ],
        [
         "United States",
         "Gibraltar",
         1
        ],
        [
         "Saint Vincent and the Grenadines",
         "United States",
         1
        ],
        [
         "Italy",
         "United States",
         382
        ],
        [
         "United States",
         "Federated States of Micronesia",
         69
        ],
        [
         "United States",
         "Russia",
         161
        ],
        [
         "Pakistan",
         "United States",
         12
        ],
        [
         "United States",
         "Netherlands",
         660
        ],
        [
         "Iceland",
         "United States",
         181
        ],
        [
         "Marshall Islands",
         "United States",
         42
        ],
        [
         "Luxembourg",
         "United States",
         155
        ],
        [
         "Honduras",
         "United States",
         362
        ],
        [
         "The Bahamas",
         "United States",
         955
        ],
        [
         "United States",
         "Senegal",
         42
        ],
        [
         "El Salvador",
         "United States",
         561
        ],
        [
         "Samoa",
         "United States",
         25
        ],
        [
         "United States",
         "Angola",
         13
        ],
        [
         "Switzerland",
         "United States",
         294
        ],
        [
         "United States",
         "Anguilla",
         38
        ],
        [
         "Sint Maarten",
         "United States",
         325
        ],
        [
         "Hong Kong",
         "United States",
         332
        ],
        [
         "Trinidad and Tobago",
         "United States",
         211
        ],
        [
         "Latvia",
         "United States",
         19
        ],
        [
         "United States",
         "Ecuador",
         300
        ],
        [
         "Suriname",
         "United States",
         1
        ],
        [
         "Mexico",
         "United States",
         7140
        ],
        [
         "United States",
         "Cyprus",
         1
        ],
        [
         "Ecuador",
         "United States",
         268
        ],
        [
         "United States",
         "Portugal",
         134
        ],
        [
         "United States",
         "Costa Rica",
         608
        ],
        [
         "United States",
         "Guatemala",
         318
        ],
        [
         "United States",
         "Suriname",
         34
        ],
        [
         "Colombia",
         "United States",
         873
        ],
        [
         "United States",
         "Cape Verde",
         14
        ],
        [
         "United States",
         "Jamaica",
         712
        ],
        [
         "Norway",
         "United States",
         121
        ],
        [
         "United States",
         "Malaysia",
         3
        ],
        [
         "United States",
         "Morocco",
         19
        ],
        [
         "Thailand",
         "United States",
         3
        ],
        [
         "United States",
         "Samoa",
         25
        ],
        [
         "Venezuela",
         "United States",
         290
        ],
        [
         "United States",
         "Palau",
         31
        ],
        [
         "United States",
         "Venezuela",
         246
        ],
        [
         "Panama",
         "United States",
         510
        ],
        [
         "Antigua and Barbuda",
         "United States",
         126
        ],
        [
         "United States",
         "Chile",
         185
        ],
        [
         "Morocco",
         "United States",
         15
        ],
        [
         "United States",
         "Finland",
         28
        ],
        [
         "Azerbaijan",
         "United States",
         21
        ],
        [
         "United States",
         "Greece",
         23
        ],
        [
         "United States",
         "The Bahamas",
         986
        ],
        [
         "New Zealand",
         "United States",
         111
        ],
        [
         "Liberia",
         "United States",
         2
        ],
        [
         "United States",
         "Hong Kong",
         414
        ],
        [
         "Hungary",
         "United States",
         2
        ],
        [
         "United States",
         "China",
         920
        ],
        [
         "United States",
         "Vietnam",
         2
        ],
        [
         "Burkina Faso",
         "United States",
         1
        ],
        [
         "Sweden",
         "United States",
         118
        ],
        [
         "United States",
         "Kuwait",
         28
        ],
        [
         "United States",
         "Dominican Republic",
         1420
        ],
        [
         "United States",
         "Egypt",
         12
        ],
        [
         "Israel",
         "United States",
         134
        ],
        [
         "United States",
         "United States",
         370002
        ],
        [
         "Ethiopia",
         "United States",
         13
        ],
        [
         "United States",
         "Luxembourg",
         134
        ],
        [
         "United States",
         "Poland",
         33
        ],
        [
         "Martinique",
         "United States",
         44
        ],
        [
         "United States",
         "Saint Barthelemy",
         41
        ],
        [
         "Saint Barthelemy",
         "United States",
         39
        ],
        [
         "Barbados",
         "United States",
         154
        ],
        [
         "United States",
         "Turkey",
         129
        ],
        [
         "Djibouti",
         "United States",
         1
        ],
        [
         "United States",
         "Azerbaijan",
         21
        ],
        [
         "United States",
         "Estonia",
         1
        ],
        [
         "Germany",
         "United States",
         1468
        ],
        [
         "United States",
         "South Korea",
         827
        ],
        [
         "United States",
         "El Salvador",
         508
        ],
        [
         "Ireland",
         "United States",
         335
        ],
        [
         "United States",
         "Hungary",
         3
        ],
        [
         "Zambia",
         "United States",
         1
        ],
        [
         "Malaysia",
         "United States",
         2
        ],
        [
         "United States",
         "Ethiopia",
         12
        ],
        [
         "United States",
         "Panama",
         465
        ],
        [
         "United States",
         "Aruba",
         342
        ],
        [
         "United States",
         "Thailand",
         4
        ],
        [
         "United States",
         "Turks and Caicos Islands",
         236
        ],
        [
         "Croatia",
         "United States",
         2
        ],
        [
         "United States",
         "Pakistan",
         12
        ],
        [
         "Cyprus",
         "United States",
         1
        ],
        [
         "United States",
         "Honduras",
         407
        ],
        [
         "Fiji",
         "United States",
         24
        ],
        [
         "Qatar",
         "United States",
         108
        ],
        [
         "Saint Kitts and Nevis",
         "United States",
         139
        ],
        [
         "Kuwait",
         "United States",
         32
        ],
        [
         "Taiwan",
         "United States",
         266
        ],
        [
         "Haiti",
         "United States",
         226
        ],
        [
         "Canada",
         "United States",
         8399
        ],
        [
         "Federated States of Micronesia",
         "United States",
         69
        ],
        [
         "United States",
         "Liberia",
         2
        ],
        [
         "Jamaica",
         "United States",
         666
        ],
        [
         "United States",
         "Malta",
         2
        ],
        [
         "Dominican Republic",
         "United States",
         1353
        ],
        [
         "Japan",
         "United States",
         1548
        ],
        [
         "United States",
         "Lithuania",
         1
        ],
        [
         "Finland",
         "United States",
         26
        ],
        [
         "United States",
         "Guadeloupe",
         59
        ],
        [
         "United States",
         "Ukraine",
         13
        ],
        [
         "United States",
         "France",
         952
        ],
        [
         "United States",
         "Norway",
         115
        ],
        [
         "Aruba",
         "United States",
         346
        ],
        [
         "French Guiana",
         "United States",
         5
        ],
        [
         "United States",
         "Kiribati",
         35
        ],
        [
         "India",
         "United States",
         61
        ],
        [
         "British Virgin Islands",
         "United States",
         107
        ],
        [
         "Brazil",
         "United States",
         853
        ],
        [
         "United States",
         "Germany",
         1336
        ],
        [
         "United States",
         "New Zealand",
         74
        ],
        [
         "French Polynesia",
         "United States",
         43
        ],
        [
         "United Arab Emirates",
         "United States",
         320
        ],
        [
         "Singapore",
         "United States",
         3
        ],
        [
         "United States",
         "Mexico",
         7187
        ],
        [
         "United States",
         "Sweden",
         119
        ],
        [
         "Netherlands",
         "United States",
         776
        ],
        [
         "United States",
         "Martinique",
         43
        ],
        [
         "United States",
         "United Arab Emirates",
         313
        ],
        [
         "United States",
         "Bulgaria",
         1
        ],
        [
         "Denmark",
         "United States",
         153
        ],
        [
         "China",
         "United States",
         772
        ],
        [
         "United States",
         "Nicaragua",
         201
        ],
        [
         "United States",
         "Philippines",
         126
        ],
        [
         "United States",
         "Georgia",
         1
        ],
        [
         "United States",
         "Belgium",
         228
        ],
        [
         "Cayman Islands",
         "United States",
         314
        ],
        [
         "Argentina",
         "United States",
         180
        ],
        [
         "Peru",
         "United States",
         279
        ],
        [
         "South Africa",
         "United States",
         36
        ],
        [
         "United States",
         "Iceland",
         202
        ],
        [
         "United States",
         "Argentina",
         141
        ],
        [
         "Spain",
         "United States",
         420
        ],
        [
         "Bermuda",
         "United States",
         183
        ],
        [
         "United States",
         "Nigeria",
         50
        ],
        [
         "United States",
         "Austria",
         63
        ],
        [
         "United States",
         "Bonaire, Sint Eustatius, and Saba",
         59
        ],
        [
         "Kiribati",
         "United States",
         26
        ],
        [
         "Saudi Arabia",
         "United States",
         83
        ],
        [
         "Czech Republic",
         "United States",
         13
        ],
        [
         "United States",
         "Israel",
         127
        ],
        [
         "Belgium",
         "United States",
         259
        ],
        [
         "United States",
         "Saint Lucia",
         136
        ],
        [
         "United States",
         "Bahrain",
         1
        ],
        [
         "United States",
         "British Virgin Islands",
         80
        ],
        [
         "Curacao",
         "United States",
         90
        ],
        [
         "Georgia",
         "United States",
         2
        ],
        [
         "United States",
         "Denmark",
         152
        ],
        [
         "United States",
         "Guyana",
         63
        ],
        [
         "Philippines",
         "United States",
         134
        ],
        [
         "Grenada",
         "United States",
         53
        ],
        [
         "Cape Verde",
         "United States",
         20
        ],
        [
         "Cote d'Ivoire",
         "United States",
         1
        ],
        [
         "Ukraine",
         "United States",
         14
        ],
        [
         "United States",
         "Papua New Guinea",
         1
        ],
        [
         "Russia",
         "United States",
         176
        ],
        [
         "United States",
         "Saudi Arabia",
         70
        ],
        [
         "Guatemala",
         "United States",
         397
        ],
        [
         "Saint Lucia",
         "United States",
         123
        ],
        [
         "Paraguay",
         "United States",
         60
        ],
        [
         "United States",
         "Curacao",
         83
        ],
        [
         "Kosovo",
         "United States",
         1
        ],
        [
         "United States",
         "Taiwan",
         235
        ],
        [
         "Tunisia",
         "United States",
         3
        ],
        [
         "United States",
         "South Africa",
         40
        ],
        [
         "Niger",
         "United States",
         2
        ],
        [
         "Turkey",
         "United States",
         138
        ],
        [
         "United Kingdom",
         "United States",
         2025
        ],
        [
         "Romania",
         "United States",
         14
        ],
        [
         "United States",
         "Greenland",
         4
        ],
        [
         "Papua New Guinea",
         "United States",
         3
        ],
        [
         "United States",
         "Spain",
         442
        ],
        [
         "Iraq",
         "United States",
         1
        ],
        [
         "United States",
         "Italy",
         438
        ],
        [
         "Cuba",
         "United States",
         466
        ],
        [
         "United States",
         "Switzerland",
         305
        ],
        [
         "Dominica",
         "United States",
         20
        ],
        [
         "United States",
         "Japan",
         1496
        ],
        [
         "Portugal",
         "United States",
         127
        ],
        [
         "United States",
         "Brazil",
         619
        ],
        [
         "Bahrain",
         "United States",
         19
        ],
        [
         "United States",
         "Peru",
         337
        ],
        [
         "Indonesia",
         "United States",
         1
        ],
        [
         "United States",
         "Belize",
         193
        ],
        [
         "United States",
         "United Kingdom",
         1970
        ],
        [
         "Belize",
         "United States",
         188
        ],
        [
         "United States",
         "Ghana",
         20
        ],
        [
         "United States",
         "Indonesia",
         2
        ],
        [
         "United States",
         "Fiji",
         25
        ],
        [
         "United States",
         "Canada",
         8483
        ],
        [
         "United States",
         "Antigua and Barbuda",
         117
        ],
        [
         "United States",
         "French Polynesia",
         40
        ],
        [
         "Nicaragua",
         "United States",
         179
        ],
        [
         "United States",
         "Latvia",
         15
        ],
        [
         "United States",
         "Dominica",
         27
        ],
        [
         "United States",
         "Czech Republic",
         12
        ],
        [
         "United States",
         "Australia",
         258
        ],
        [
         "United States",
         "Cook Islands",
         13
        ],
        [
         "Austria",
         "United States",
         62
        ],
        [
         "Jordan",
         "United States",
         44
        ],
        [
         "Palau",
         "United States",
         30
        ],
        [
         "South Korea",
         "United States",
         1048
        ],
        [
         "Angola",
         "United States",
         15
        ],
        [
         "Ghana",
         "United States",
         18
        ],
        [
         "New Caledonia",
         "United States",
         1
        ],
        [
         "Guadeloupe",
         "United States",
         56
        ],
        [
         "France",
         "United States",
         935
        ],
        [
         "Poland",
         "United States",
         32
        ],
        [
         "Nigeria",
         "United States",
         59
        ],
        [
         "United States",
         "Uruguay",
         13
        ],
        [
         "Greenland",
         "United States",
         2
        ],
        [
         "United States",
         "Bermuda",
         193
        ],
        [
         "Chile",
         "United States",
         174
        ],
        [
         "United States",
         "Cuba",
         478
        ],
        [
         "United States",
         "Montenegro",
         1
        ],
        [
         "United States",
         "Colombia",
         867
        ],
        [
         "United States",
         "Barbados",
         130
        ],
        [
         "United States",
         "Qatar",
         109
        ],
        [
         "Australia",
         "United States",
         329
        ],
        [
         "United States",
         "Cayman Islands",
         310
        ],
        [
         "United States",
         "Jordan",
         44
        ],
        [
         "United States",
         "Namibia",
         1
        ],
        [
         "United States",
         "Trinidad and Tobago",
         217
        ],
        [
         "United States",
         "Bolivia",
         13
        ],
        [
         "Cook Islands",
         "United States",
         13
        ],
        [
         "Bulgaria",
         "United States",
         3
        ],
        [
         "United States",
         "Saint Kitts and Nevis",
         145
        ],
        [
         "Uruguay",
         "United States",
         43
        ],
        [
         "United States",
         "Haiti",
         225
        ],
        [
         "Bonaire, Sint Eustatius, and Saba",
         "United States",
         58
        ],
        [
         "Greece",
         "United States",
         30
        ],
        [
         "United States",
         "Saint Martin",
         2
        ],
        [
         "United States",
         "Guinea",
         2
        ],
        [
         "United States",
         "Croatia",
         1
        ],
        [
         "United States",
         "Romania",
         3
        ],
        [
         "United States",
         "Ireland",
         268
        ],
        [
         "Egypt",
         "United States",
         13
        ],
        [
         "United States",
         "India",
         76
        ],
        [
         "United States",
         "Singapore",
         24
        ],
        [
         "United States",
         "Grenada",
         59
        ],
        [
         "Costa Rica",
         "United States",
         494
        ],
        [
         "Senegal",
         "United States",
         29
        ],
        [
         "Guyana",
         "United States",
         26
        ],
        [
         "United States",
         "Marshall Islands",
         49
        ],
        [
         "United States",
         "Sint Maarten",
         223
        ],
        [
         "Malta",
         "United States",
         1
        ],
        [
         "Bolivia",
         "United States",
         61
        ],
        [
         "Anguilla",
         "United States",
         21
        ],
        [
         "United States",
         "Paraguay",
         3
        ],
        [
         "United States",
         "Gibraltar",
         1
        ],
        [
         "Turks and Caicos Islands",
         "United States",
         163
        ],
        [
         "United States",
         "Afghanistan",
         3
        ],
        [
         "Saint Vincent and the Grenadines",
         "United States",
         6
        ],
        [
         "Italy",
         "United States",
         428
        ],
        [
         "United States",
         "Russia",
         153
        ],
        [
         "United States",
         "Federated States of Micronesia",
         54
        ],
        [
         "Pakistan",
         "United States",
         12
        ],
        [
         "Iceland",
         "United States",
         113
        ],
        [
         "United States",
         "Netherlands",
         622
        ],
        [
         "Marshall Islands",
         "United States",
         81
        ],
        [
         "Luxembourg",
         "United States",
         120
        ],
        [
         "Honduras",
         "United States",
         386
        ],
        [
         "The Bahamas",
         "United States",
         811
        ],
        [
         "El Salvador",
         "United States",
         495
        ],
        [
         "United States",
         "Senegal",
         33
        ],
        [
         "Samoa",
         "United States",
         25
        ],
        [
         "United States",
         "Angola",
         12
        ],
        [
         "Switzerland",
         "United States",
         314
        ],
        [
         "United States",
         "Anguilla",
         20
        ],
        [
         "Sint Maarten",
         "United States",
         240
        ],
        [
         "Hong Kong",
         "United States",
         282
        ],
        [
         "Trinidad and Tobago",
         "United States",
         205
        ],
        [
         "Latvia",
         "United States",
         12
        ],
        [
         "Yemen",
         "United States",
         1
        ],
        [
         "United States",
         "Ecuador",
         351
        ],
        [
         "Suriname",
         "United States",
         11
        ],
        [
         "Mexico",
         "United States",
         5953
        ],
        [
         "United States",
         "Cyprus",
         1
        ],
        [
         "Ecuador",
         "United States",
         280
        ],
        [
         "United States",
         "Portugal",
         109
        ],
        [
         "United States",
         "Guatemala",
         340
        ],
        [
         "United States",
         "Costa Rica",
         526
        ],
        [
         "United States",
         "Suriname",
         20
        ],
        [
         "Colombia",
         "United States",
         707
        ],
        [
         "United States",
         "Cape Verde",
         19
        ],
        [
         "United States",
         "Jamaica",
         695
        ],
        [
         "Norway",
         "United States",
         25
        ],
        [
         "United States",
         "Malaysia",
         1
        ],
        [
         "The Gambia",
         "United States",
         1
        ],
        [
         "United States",
         "Morocco",
         17
        ],
        [
         "Thailand",
         "United States",
         12
        ],
        [
         "United States",
         "Palau",
         41
        ],
        [
         "Venezuela",
         "United States",
         373
        ],
        [
         "United States",
         "Samoa",
         25
        ],
        [
         "United States",
         "Algeria",
         1
        ],
        [
         "Panama",
         "United States",
         397
        ],
        [
         "United States",
         "Venezuela",
         352
        ],
        [
         "Guinea",
         "United States",
         5
        ],
        [
         "Antigua and Barbuda",
         "United States",
         146
        ],
        [
         "United States",
         "Finland",
         32
        ],
        [
         "United States",
         "Chile",
         182
        ],
        [
         "United States",
         "Greece",
         45
        ],
        [
         "Morocco",
         "United States",
         19
        ],
        [
         "United States",
         "The Bahamas",
         888
        ],
        [
         "United States",
         "Brunei",
         1
        ],
        [
         "New Zealand",
         "United States",
         96
        ],
        [
         "United States",
         "Hong Kong",
         317
        ],
        [
         "Hungary",
         "United States",
         13
        ],
        [
         "United States",
         "China",
         605
        ],
        [
         "Sweden",
         "United States",
         59
        ],
        [
         "United States",
         "Kuwait",
         27
        ],
        [
         "United States",
         "Dominican Republic",
         1100
        ],
        [
         "United States",
         "Egypt",
         15
        ],
        [
         "Israel",
         "United States",
         121
        ],
        [
         "United States",
         "United States",
         352742
        ],
        [
         "United States",
         "Luxembourg",
         170
        ],
        [
         "Ethiopia",
         "United States",
         12
        ],
        [
         "United States",
         "Poland",
         42
        ],
        [
         "Martinique",
         "United States",
         20
        ],
        [
         "Saint Barthelemy",
         "United States",
         38
        ],
        [
         "United States",
         "Saint Barthelemy",
         39
        ],
        [
         "Barbados",
         "United States",
         129
        ],
        [
         "United States",
         "Turkey",
         99
        ],
        [
         "United States",
         "Azerbaijan",
         3
        ],
        [
         "Germany",
         "United States",
         1423
        ],
        [
         "United States",
         "South Korea",
         661
        ],
        [
         "United States",
         "El Salvador",
         443
        ],
        [
         "Ireland",
         "United States",
         250
        ],
        [
         "United States",
         "Hungary",
         17
        ],
        [
         "Malaysia",
         "United States",
         2
        ],
        [
         "United States",
         "Panama",
         380
        ],
        [
         "United States",
         "Ethiopia",
         12
        ],
        [
         "United States",
         "Thailand",
         14
        ],
        [
         "United States",
         "Aruba",
         332
        ],
        [
         "United States",
         "Turks and Caicos Islands",
         177
        ],
        [
         "Croatia",
         "United States",
         2
        ],
        [
         "United States",
         "Pakistan",
         24
        ],
        [
         "United States",
         "Honduras",
         388
        ],
        [
         "Qatar",
         "United States",
         48
        ],
        [
         "Fiji",
         "United States",
         49
        ],
        [
         "Saint Kitts and Nevis",
         "United States",
         105
        ],
        [
         "Taiwan",
         "United States",
         248
        ],
        [
         "Haiti",
         "United States",
         188
        ],
        [
         "Kuwait",
         "United States",
         27
        ],
        [
         "Canada",
         "United States",
         8514
        ],
        [
         "Belarus",
         "United States",
         1
        ],
        [
         "Federated States of Micronesia",
         "United States",
         48
        ],
        [
         "Jamaica",
         "United States",
         675
        ],
        [
         "United States",
         "Malta",
         3
        ],
        [
         "Dominican Republic",
         "United States",
         1020
        ],
        [
         "Japan",
         "United States",
         1532
        ],
        [
         "United States",
         "Lithuania",
         1
        ],
        [
         "United States",
         "Saint Vincent and the Grenadines",
         17
        ],
        [
         "Finland",
         "United States",
         33
        ],
        [
         "United States",
         "Ukraine",
         15
        ],
        [
         "United States",
         "Guadeloupe",
         31
        ],
        [
         "United States",
         "France",
         914
        ],
        [
         "Aruba",
         "United States",
         347
        ],
        [
         "French Guiana",
         "United States",
         14
        ],
        [
         "United States",
         "Norway",
         33
        ],
        [
         "United States",
         "Kiribati",
         28
        ],
        [
         "India",
         "United States",
         73
        ],
        [
         "British Virgin Islands",
         "United States",
         73
        ],
        [
         "United States",
         "Germany",
         1480
        ],
        [
         "Brazil",
         "United States",
         969
        ],
        [
         "United States",
         "New Zealand",
         77
        ],
        [
         "French Polynesia",
         "United States",
         36
        ],
        [
         "United Arab Emirates",
         "United States",
         157
        ],
        [
         "Singapore",
         "United States",
         27
        ],
        [
         "United States",
         "Mexico",
         6000
        ],
        [
         "Netherlands",
         "United States",
         635
        ],
        [
         "United States",
         "Sweden",
         68
        ],
        [
         "United States",
         "Martinique",
         20
        ],
        [
         "United States",
         "United Arab Emirates",
         142
        ],
        [
         "China",
         "United States",
         504
        ],
        [
         "United States",
         "Philippines",
         109
        ],
        [
         "United States",
         "Nicaragua",
         173
        ],
        [
         "Denmark",
         "United States",
         95
        ],
        [
         "United States",
         "Georgia",
         1
        ],
        [
         "United States",
         "Belgium",
         369
        ],
        [
         "Libya",
         "United States",
         1
        ],
        [
         "Argentina",
         "United States",
         183
        ],
        [
         "Peru",
         "United States",
         246
        ],
        [
         "Cayman Islands",
         "United States",
         251
        ],
        [
         "South Africa",
         "United States",
         24
        ],
        [
         "United States",
         "Argentina",
         152
        ],
        [
         "United States",
         "Iceland",
         138
        ],
        [
         "Spain",
         "United States",
         445
        ],
        [
         "Bermuda",
         "United States",
         191
        ],
        [
         "United States",
         "Austria",
         34
        ],
        [
         "United States",
         "Nigeria",
         26
        ],
        [
         "United States",
         "Bonaire, Sint Eustatius, and Saba",
         49
        ],
        [
         "Kiribati",
         "United States",
         28
        ],
        [
         "Czech Republic",
         "United States",
         23
        ],
        [
         "Saudi Arabia",
         "United States",
         83
        ],
        [
         "Macau",
         "United States",
         2
        ],
        [
         "Belgium",
         "United States",
         376
        ],
        [
         "United States",
         "Israel",
         126
        ],
        [
         "United States",
         "Saint Lucia",
         102
        ],
        [
         "United States",
         "Bahrain",
         2
        ],
        [
         "United States",
         "British Virgin Islands",
         65
        ],
        [
         "Afghanistan",
         "United States",
         8
        ],
        [
         "Curacao",
         "United States",
         106
        ],
        [
         "Georgia",
         "United States",
         1
        ],
        [
         "United States",
         "Guyana",
         29
        ],
        [
         "Philippines",
         "United States",
         127
        ],
        [
         "United States",
         "Denmark",
         103
        ],
        [
         "Grenada",
         "United States",
         67
        ],
        [
         "Cape Verde",
         "United States",
         13
        ],
        [
         "Ukraine",
         "United States",
         15
        ],
        [
         "United States",
         "Papua New Guinea",
         1
        ],
        [
         "Russia",
         "United States",
         199
        ],
        [
         "United States",
         "Saudi Arabia",
         77
        ],
        [
         "Guatemala",
         "United States",
         407
        ],
        [
         "Saint Lucia",
         "United States",
         102
        ],
        [
         "Paraguay",
         "United States",
         85
        ],
        [
         "United States",
         "Curacao",
         97
        ],
        [
         "United States",
         "Taiwan",
         231
        ],
        [
         "United States",
         "South Africa",
         21
        ],
        [
         "Togo",
         "United States",
         1
        ],
        [
         "Turkey",
         "United States",
         104
        ],
        [
         "United Kingdom",
         "United States",
         1726
        ],
        [
         "Romania",
         "United States",
         4
        ],
        [
         "United States",
         "Greenland",
         2
        ],
        [
         "United States",
         "Spain",
         472
        ],
        [
         "Cuba",
         "United States",
         320
        ],
        [
         "United States",
         "Italy",
         447
        ],
        [
         "United States",
         "Switzerland",
         319
        ],
        [
         "Dominica",
         "United States",
         25
        ],
        [
         "United States",
         "Japan",
         1412
        ],
        [
         "Portugal",
         "United States",
         95
        ],
        [
         "United States",
         "Brazil",
         575
        ],
        [
         "Bahrain",
         "United States",
         40
        ],
        [
         "United States",
         "Peru",
         288
        ],
        [
         "Vietnam",
         "United States",
         1
        ],
        [
         "United States",
         "United Kingdom",
         1649
        ],
        [
         "United States",
         "Belize",
         112
        ],
        [
         "Belize",
         "United States",
         113
        ],
        [
         "United States",
         "Ghana",
         39
        ],
        [
         "Mauritania",
         "United States",
         1
        ],
        [
         "Saint Martin",
         "United States",
         1
        ],
        [
         "United States",
         "Indonesia",
         1
        ],
        [
         "United States",
         "Fiji",
         48
        ],
        [
         "United States",
         "Mauritania",
         1
        ],
        [
         "United States",
         "Canada",
         8650
        ],
        [
         "United States",
         "Antigua and Barbuda",
         152
        ],
        [
         "United States",
         "French Polynesia",
         36
        ],
        [
         "Nicaragua",
         "United States",
         180
        ],
        [
         "Namibia",
         "United States",
         1
        ],
        [
         "United States",
         "Latvia",
         12
        ],
        [
         "United States",
         "Dominica",
         29
        ],
        [
         "United States",
         "Czech Republic",
         25
        ],
        [
         "United States",
         "Australia",
         231
        ],
        [
         "United States",
         "Cook Islands",
         12
        ],
        [
         "Austria",
         "United States",
         34
        ],
        [
         "Palau",
         "United States",
         41
        ],
        [
         "Jordan",
         "United States",
         42
        ],
        [
         "South Korea",
         "United States",
         713
        ],
        [
         "Ghana",
         "United States",
         39
        ],
        [
         "Angola",
         "United States",
         13
        ],
        [
         "Guadeloupe",
         "United States",
         33
        ],
        [
         "France",
         "United States",
         876
        ],
        [
         "Nigeria",
         "United States",
         31
        ],
        [
         "Poland",
         "United States",
         39
        ],
        [
         "United States",
         "Uruguay",
         27
        ],
        [
         "Greenland",
         "United States",
         1
        ],
        [
         "Chile",
         "United States",
         178
        ],
        [
         "United States",
         "Bermuda",
         196
        ],
        [
         "Lebanon",
         "United States",
         1
        ],
        [
         "United States",
         "Cuba",
         326
        ],
        [
         "United States",
         "Colombia",
         777
        ],
        [
         "United States",
         "Barbados",
         125
        ],
        [
         "United States",
         "Qatar",
         48
        ],
        [
         "Australia",
         "United States",
         280
        ],
        [
         "United States",
         "Cayman Islands",
         262
        ],
        [
         "United States",
         "Jordan",
         45
        ],
        [
         "United States",
         "Bolivia",
         51
        ],
        [
         "United States",
         "Trinidad and Tobago",
         213
        ],
        [
         "Uruguay",
         "United States",
         50
        ],
        [
         "Cook Islands",
         "United States",
         12
        ],
        [
         "United States",
         "Saint Kitts and Nevis",
         120
        ],
        [
         "Bulgaria",
         "United States",
         4
        ],
        [
         "United States",
         "French Guiana",
         11
        ],
        [
         "United States",
         "Haiti",
         197
        ],
        [
         "Bonaire, Sint Eustatius, and Saba",
         "United States",
         50
        ],
        [
         "Greece",
         "United States",
         38
        ],
        [
         "United States",
         "Romania",
         12
        ],
        [
         "United States",
         "Croatia",
         1
        ],
        [
         "United States",
         "Ireland",
         266
        ],
        [
         "Egypt",
         "United States",
         13
        ],
        [
         "United States",
         "India",
         60
        ],
        [
         "Equatorial Guinea",
         "United States",
         1
        ],
        [
         "United States",
         "Niger",
         1
        ],
        [
         "United States",
         "Singapore",
         22
        ],
        [
         "United States",
         "Grenada",
         40
        ],
        [
         "Costa Rica",
         "United States",
         509
        ],
        [
         "Senegal",
         "United States",
         28
        ],
        [
         "Guyana",
         "United States",
         34
        ],
        [
         "United States",
         "Sint Maarten",
         260
        ],
        [
         "United States",
         "Marshall Islands",
         33
        ],
        [
         "Bolivia",
         "United States",
         33
        ],
        [
         "Anguilla",
         "United States",
         22
        ],
        [
         "United States",
         "Paraguay",
         15
        ],
        [
         "Algeria",
         "United States",
         2
        ],
        [
         "Turks and Caicos Islands",
         "United States",
         181
        ],
        [
         "Saint Vincent and the Grenadines",
         "United States",
         4
        ],
        [
         "Lithuania",
         "United States",
         1
        ],
        [
         "Pakistan",
         "United States",
         14
        ],
        [
         "Italy",
         "United States",
         327
        ],
        [
         "United States",
         "Russia",
         167
        ],
        [
         "United States",
         "Federated States of Micronesia",
         62
        ],
        [
         "United States",
         "Netherlands",
         618
        ],
        [
         "Iceland",
         "United States",
         146
        ],
        [
         "Marshall Islands",
         "United States",
         50
        ],
        [
         "Luxembourg",
         "United States",
         160
        ],
        [
         "Honduras",
         "United States",
         423
        ],
        [
         "Rwanda",
         "United States",
         1
        ],
        [
         "The Bahamas",
         "United States",
         865
        ],
        [
         "El Salvador",
         "United States",
         551
        ],
        [
         "United States",
         "Senegal",
         32
        ],
        [
         "Samoa",
         "United States",
         25
        ],
        [
         "United States",
         "Angola",
         12
        ],
        [
         "Kazakhstan",
         "United States",
         2
        ],
        [
         "Switzerland",
         "United States",
         288
        ],
        [
         "United States",
         "Anguilla",
         18
        ],
        [
         "United States",
         "Mali",
         1
        ],
        [
         "Sint Maarten",
         "United States",
         271
        ],
        [
         "Hong Kong",
         "United States",
         282
        ],
        [
         "Trinidad and Tobago",
         "United States",
         183
        ],
        [
         "Latvia",
         "United States",
         29
        ],
        [
         "United States",
         "Ecuador",
         307
        ],
        [
         "Suriname",
         "United States",
         15
        ],
        [
         "Mexico",
         "United States",
         6372
        ],
        [
         "Ecuador",
         "United States",
         252
        ],
        [
         "United States",
         "Portugal",
         126
        ],
        [
         "United States",
         "Costa Rica",
         549
        ],
        [
         "United States",
         "Guatemala",
         331
        ],
        [
         "United States",
         "Suriname",
         21
        ],
        [
         "Colombia",
         "United States",
         798
        ],
        [
         "United States",
         "Cape Verde",
         15
        ],
        [
         "Norway",
         "United States",
         48
        ],
        [
         "United States",
         "Jamaica",
         599
        ],
        [
         "United States",
         "Malaysia",
         1
        ],
        [
         "United States",
         "Morocco",
         16
        ],
        [
         "Thailand",
         "United States",
         2
        ],
        [
         "Burundi",
         "United States",
         1
        ],
        [
         "Venezuela",
         "United States",
         350
        ],
        [
         "United States",
         "Samoa",
         25
        ],
        [
         "United States",
         "Palau",
         35
        ],
        [
         "United States",
         "Venezuela",
         295
        ],
        [
         "Panama",
         "United States",
         418
        ],
        [
         "United States",
         "Finland",
         15
        ],
        [
         "Morocco",
         "United States",
         18
        ],
        [
         "Antigua and Barbuda",
         "United States",
         123
        ],
        [
         "United States",
         "Chile",
         171
        ],
        [
         "Azerbaijan",
         "United States",
         3
        ],
        [
         "United States",
         "Greece",
         14
        ],
        [
         "United States",
         "The Bahamas",
         897
        ],
        [
         "New Zealand",
         "United States",
         114
        ],
        [
         "United States",
         "Hong Kong",
         344
        ],
        [
         "Hungary",
         "United States",
         1
        ],
        [
         "United States",
         "China",
         614
        ],
        [
         "United States",
         "Kuwait",
         24
        ],
        [
         "Sweden",
         "United States",
         70
        ],
        [
         "United States",
         "Egypt",
         12
        ],
        [
         "United States",
         "Dominican Republic",
         1119
        ],
        [
         "Israel",
         "United States",
         119
        ],
        [
         "United States",
         "United States",
         343132
        ],
        [
         "United States",
         "Luxembourg",
         134
        ],
        [
         "Ethiopia",
         "United States",
         12
        ],
        [
         "United States",
         "Poland",
         37
        ],
        [
         "Martinique",
         "United States",
         26
        ],
        [
         "United States",
         "Zimbabwe",
         2
        ],
        [
         "United States",
         "Saint Barthelemy",
         58
        ],
        [
         "Saint Barthelemy",
         "United States",
         67
        ],
        [
         "United States",
         "Turkey",
         100
        ],
        [
         "Barbados",
         "United States",
         97
        ],
        [
         "Germany",
         "United States",
         1423
        ],
        [
         "Kyrgyzstan",
         "United States",
         1
        ],
        [
         "United States",
         "South Korea",
         687
        ],
        [
         "United States",
         "El Salvador",
         466
        ],
        [
         "Ireland",
         "United States",
         255
        ],
        [
         "Malaysia",
         "United States",
         2
        ],
        [
         "United States",
         "Aruba",
         344
        ],
        [
         "United States",
         "Panama",
         419
        ],
        [
         "United States",
         "Ethiopia",
         12
        ],
        [
         "United States",
         "Turks and Caicos Islands",
         178
        ],
        [
         "United States",
         "Pakistan",
         12
        ],
        [
         "Cyprus",
         "United States",
         2
        ],
        [
         "United States",
         "Honduras",
         392
        ],
        [
         "Fiji",
         "United States",
         34
        ],
        [
         "Qatar",
         "United States",
         71
        ],
        [
         "Saint Kitts and Nevis",
         "United States",
         99
        ],
        [
         "Kuwait",
         "United States",
         24
        ],
        [
         "Haiti",
         "United States",
         199
        ],
        [
         "Taiwan",
         "United States",
         243
        ],
        [
         "Canada",
         "United States",
         7860
        ],
        [
         "Federated States of Micronesia",
         "United States",
         53
        ],
        [
         "Jamaica",
         "United States",
         581
        ],
        [
         "Dominican Republic",
         "United States",
         1068
        ],
        [
         "Japan",
         "United States",
         1613
        ],
        [
         "United States",
         "Saint Vincent and the Grenadines",
         10
        ],
        [
         "Finland",
         "United States",
         17
        ],
        [
         "United States",
         "Ukraine",
         4
        ],
        [
         "United States",
         "Guadeloupe",
         42
        ],
        [
         "United States",
         "France",
         848
        ],
        [
         "United States",
         "Norway",
         46
        ],
        [
         "Aruba",
         "United States",
         352
        ],
        [
         "French Guiana",
         "United States",
         7
        ],
        [
         "United States",
         "Kiribati",
         29
        ],
        [
         "Zimbabwe",
         "United States",
         2
        ],
        [
         "India",
         "United States",
         61
        ],
        [
         "British Virgin Islands",
         "United States",
         101
        ],
        [
         "United States",
         "Germany",
         1402
        ],
        [
         "United States",
         "New Zealand",
         77
        ],
        [
         "Brazil",
         "United States",
         912
        ],
        [
         "Saint Helena, Ascension, and Tristan da Cunha",
         "United States",
         1
        ],
        [
         "United States",
         "Cambodia",
         3
        ],
        [
         "French Polynesia",
         "United States",
         43
        ],
        [
         "United Arab Emirates",
         "United States",
         202
        ],
        [
         "Singapore",
         "United States",
         21
        ],
        [
         "Tanzania",
         "United States",
         2
        ],
        [
         "United States",
         "Mexico",
         6354
        ],
        [
         "Netherlands",
         "United States",
         640
        ],
        [
         "United States",
         "Sweden",
         73
        ],
        [
         "United States",
         "Martinique",
         24
        ],
        [
         "United States",
         "United Arab Emirates",
         187
        ],
        [
         "Denmark",
         "United States",
         104
        ],
        [
         "China",
         "United States",
         543
        ],
        [
         "United States",
         "Nicaragua",
         185
        ],
        [
         "United States",
         "Philippines",
         112
        ],
        [
         "United States",
         "Belgium",
         193
        ],
        [
         "Nepal",
         "United States",
         1
        ],
        [
         "Libya",
         "United States",
         1
        ],
        [
         "Argentina",
         "United States",
         176
        ],
        [
         "Peru",
         "United States",
         255
        ],
        [
         "Cayman Islands",
         "United States",
         274
        ],
        [
         "South Africa",
         "United States",
         24
        ],
        [
         "United States",
         "Iceland",
         151
        ],
        [
         "United States",
         "Argentina",
         140
        ],
        [
         "Spain",
         "United States",
         370
        ],
        [
         "Bermuda",
         "United States",
         163
        ],
        [
         "United States",
         "Nigeria",
         49
        ],
        [
         "United States",
         "Austria",
         39
        ],
        [
         "United States",
         "Bonaire, Sint Eustatius, and Saba",
         54
        ],
        [
         "Kiribati",
         "United States",
         29
        ],
        [
         "Saudi Arabia",
         "United States",
         86
        ],
        [
         "Czech Republic",
         "United States",
         10
        ],
        [
         "Macau",
         "United States",
         2
        ],
        [
         "Belgium",
         "United States",
         265
        ],
        [
         "United States",
         "Israel",
         107
        ],
        [
         "United States",
         "Saint Lucia",
         92
        ],
        [
         "Sierra Leone",
         "United States",
         1
        ],
        [
         "United States",
         "Bahrain",
         1
        ],
        [
         "United States",
         "British Virgin Islands",
         94
        ],
        [
         "United States",
         "Saint Helena, Ascension, and Tristan da Cunha",
         2
        ],
        [
         "Curacao",
         "United States",
         97
        ],
        [
         "United States",
         "Denmark",
         106
        ],
        [
         "United States",
         "Guyana",
         52
        ],
        [
         "Philippines",
         "United States",
         136
        ],
        [
         "Grenada",
         "United States",
         42
        ],
        [
         "Cape Verde",
         "United States",
         21
        ],
        [
         "Ukraine",
         "United States",
         4
        ],
        [
         "Russia",
         "United States",
         194
        ],
        [
         "United States",
         "Saudi Arabia",
         84
        ],
        [
         "Guatemala",
         "United States",
         376
        ],
        [
         "Saint Lucia",
         "United States",
         91
        ],
        [
         "Paraguay",
         "United States",
         75
        ],
        [
         "United States",
         "Curacao",
         89
        ],
        [
         "United States",
         "Taiwan",
         235
        ],
        [
         "United States",
         "South Africa",
         26
        ],
        [
         "Niger",
         "United States",
         1
        ],
        [
         "Turkey",
         "United States",
         99
        ],
        [
         "United Kingdom",
         "United States",
         1802
        ],
        [
         "Romania",
         "United States",
         14
        ],
        [
         "United States",
         "Greenland",
         3
        ],
        [
         "Papua New Guinea",
         "United States",
         2
        ],
        [
         "United States",
         "Spain",
         377
        ],
        [
         "United States",
         "Italy",
         333
        ],
        [
         "Cuba",
         "United States",
         337
        ],
        [
         "United States",
         "Switzerland",
         285
        ],
        [
         "Dominica",
         "United States",
         19
        ],
        [
         "Portugal",
         "United States",
         116
        ],
        [
         "United States",
         "Japan",
         1476
        ],
        [
         "United States",
         "Brazil",
         510
        ],
        [
         "Bahrain",
         "United States",
         50
        ],
        [
         "United States",
         "Peru",
         300
        ],
        [
         "Indonesia",
         "United States",
         1
        ],
        [
         "United States",
         "United Kingdom",
         1711
        ],
        [
         "United States",
         "Belize",
         127
        ],
        [
         "Belize",
         "United States",
         137
        ],
        [
         "Kenya",
         "United States",
         1
        ],
        [
         "United States",
         "Ghana",
         16
        ],
        [
         "United States",
         "Fiji",
         30
        ],
        [
         "United States",
         "Canada",
         7983
        ],
        [
         "United States",
         "French Polynesia",
         40
        ],
        [
         "United States",
         "Antigua and Barbuda",
         123
        ],
        [
         "Brunei",
         "United States",
         1
        ],
        [
         "Nicaragua",
         "United States",
         178
        ],
        [
         "United States",
         "Latvia",
         12
        ],
        [
         "United States",
         "Dominica",
         25
        ],
        [
         "United States",
         "Czech Republic",
         9
        ],
        [
         "United States",
         "Cook Islands",
         12
        ],
        [
         "Austria",
         "United States",
         35
        ],
        [
         "United States",
         "Australia",
         222
        ],
        [
         "Jordan",
         "United States",
         74
        ],
        [
         "Palau",
         "United States",
         35
        ],
        [
         "South Korea",
         "United States",
         842
        ],
        [
         "Angola",
         "United States",
         12
        ],
        [
         "Ghana",
         "United States",
         16
        ],
        [
         "New Caledonia",
         "United States",
         1
        ],
        [
         "Guadeloupe",
         "United States",
         41
        ],
        [
         "France",
         "United States",
         837
        ],
        [
         "Poland",
         "United States",
         40
        ],
        [
         "Nigeria",
         "United States",
         58
        ],
        [
         "United States",
         "Uruguay",
         20
        ],
        [
         "Greenland",
         "United States",
         1
        ],
        [
         "Chile",
         "United States",
         147
        ],
        [
         "United States",
         "Bermuda",
         166
        ],
        [
         "Lebanon",
         "United States",
         1
        ]
       ],
       "datasetInfos": [],
       "dbfsResultPath": null,
       "isJsonSchema": true,
       "metadata": {},
       "overflow": true,
       "plotOptions": {
        "customPlotOptions": {},
        "displayType": "table",
        "pivotAggregation": null,
        "pivotColumns": null,
        "xColumns": null,
        "yColumns": null
       },
       "removedWidgets": [],
       "schema": [
        {
         "metadata": "{}",
         "name": "dest",
         "type": "\"string\""
        },
        {
         "metadata": "{}",
         "name": "origin",
         "type": "\"string\""
        },
        {
         "metadata": "{}",
         "name": "count",
         "type": "\"long\""
        }
       ],
       "type": "table"
      }
     },
     "output_type": "display_data"
    }
   ],
   "source": [
    "myschema = StructType([\n",
    "          StructField(\"dest\", StringType()),\n",
    "          StructField(\"origin\", StringType()),\n",
    "          StructField(\"count\", LongType()) ])\n",
    " \n",
    "flightsAllDF = spark.read\\\n",
    "               .csv('dbfs:/databricks-datasets/definitive-guide/data/flight-data/csv/*.csv',\n",
    "               schema = myschema,\n",
    "               header = True)\n",
    "display(flightsAllDF)"
   ]
  },
  {
   "cell_type": "code",
   "execution_count": 0,
   "metadata": {
    "application/vnd.databricks.v1+cell": {
     "inputWidgets": {},
     "nuid": "b001619a-a2d2-4b74-881e-e7a3579e4dc1",
     "showTitle": false,
     "title": ""
    }
   },
   "outputs": [
    {
     "data": {
      "text/html": [
       "<style scoped>\n",
       "  .ansiout {\n",
       "    display: block;\n",
       "    unicode-bidi: embed;\n",
       "    white-space: pre-wrap;\n",
       "    word-wrap: break-word;\n",
       "    word-break: break-all;\n",
       "    font-family: \"Source Code Pro\", \"Menlo\", monospace;;\n",
       "    font-size: 13px;\n",
       "    color: #555;\n",
       "    margin-left: 4px;\n",
       "    line-height: 19px;\n",
       "  }\n",
       "</style>"
      ]
     },
     "metadata": {
      "application/vnd.databricks.v1+output": {
       "arguments": {},
       "data": "",
       "errorSummary": "",
       "errorTraceType": null,
       "metadata": {},
       "type": "ipynbError"
      }
     },
     "output_type": "display_data"
    }
   ],
   "source": [
    "4. b)"
   ]
  },
  {
   "cell_type": "code",
   "execution_count": 0,
   "metadata": {
    "application/vnd.databricks.v1+cell": {
     "inputWidgets": {},
     "nuid": "b5d2ef6f-ed48-401d-a8ab-6d19deae8b3c",
     "showTitle": false,
     "title": ""
    }
   },
   "outputs": [
    {
     "data": {
      "text/plain": [
       "root\n",
       " |-- dest: string (nullable = true)\n",
       " |-- origin: string (nullable = true)\n",
       " |-- count: long (nullable = true)\n",
       "\n"
      ]
     },
     "metadata": {
      "application/vnd.databricks.v1+output": {
       "addedWidgets": {},
       "arguments": {},
       "data": "root\n |-- dest: string (nullable = true)\n |-- origin: string (nullable = true)\n |-- count: long (nullable = true)\n\n",
       "datasetInfos": [],
       "metadata": {},
       "removedWidgets": [],
       "type": "ansi"
      }
     },
     "output_type": "display_data"
    }
   ],
   "source": [
    "flightsAllDF.printSchema()"
   ]
  },
  {
   "cell_type": "code",
   "execution_count": 0,
   "metadata": {
    "application/vnd.databricks.v1+cell": {
     "inputWidgets": {},
     "nuid": "78bdc183-19f3-43ec-aad6-f25676871906",
     "showTitle": false,
     "title": ""
    }
   },
   "outputs": [
    {
     "data": {
      "text/html": [
       "<style scoped>\n",
       "  .ansiout {\n",
       "    display: block;\n",
       "    unicode-bidi: embed;\n",
       "    white-space: pre-wrap;\n",
       "    word-wrap: break-word;\n",
       "    word-break: break-all;\n",
       "    font-family: \"Source Code Pro\", \"Menlo\", monospace;;\n",
       "    font-size: 13px;\n",
       "    color: #555;\n",
       "    margin-left: 4px;\n",
       "    line-height: 19px;\n",
       "  }\n",
       "</style>"
      ]
     },
     "metadata": {
      "application/vnd.databricks.v1+output": {
       "arguments": {},
       "data": "",
       "errorSummary": "",
       "errorTraceType": null,
       "metadata": {},
       "type": "ipynbError"
      }
     },
     "output_type": "display_data"
    }
   ],
   "source": [
    "4. c)"
   ]
  },
  {
   "cell_type": "code",
   "execution_count": 0,
   "metadata": {
    "application/vnd.databricks.v1+cell": {
     "inputWidgets": {},
     "nuid": "05ac903a-393e-4b4d-b332-e9e32aeaf06e",
     "showTitle": false,
     "title": ""
    }
   },
   "outputs": [
    {
     "data": {
      "text/plain": [
       "Out[36]: [('dest', 'string'), ('origin', 'string'), ('count', 'bigint')]"
      ]
     },
     "metadata": {
      "application/vnd.databricks.v1+output": {
       "addedWidgets": {},
       "arguments": {},
       "data": "Out[36]: [('dest', 'string'), ('origin', 'string'), ('count', 'bigint')]",
       "datasetInfos": [],
       "metadata": {},
       "removedWidgets": [],
       "type": "ansi"
      }
     },
     "output_type": "display_data"
    }
   ],
   "source": [
    "flightsAllDF.dtypes"
   ]
  },
  {
   "cell_type": "code",
   "execution_count": 0,
   "metadata": {
    "application/vnd.databricks.v1+cell": {
     "inputWidgets": {},
     "nuid": "f9ec8e20-4ede-4463-8797-f40921f942f5",
     "showTitle": false,
     "title": ""
    }
   },
   "outputs": [
    {
     "data": {
      "text/html": [
       "<style scoped>\n",
       "  .ansiout {\n",
       "    display: block;\n",
       "    unicode-bidi: embed;\n",
       "    white-space: pre-wrap;\n",
       "    word-wrap: break-word;\n",
       "    word-break: break-all;\n",
       "    font-family: \"Source Code Pro\", \"Menlo\", monospace;;\n",
       "    font-size: 13px;\n",
       "    color: #555;\n",
       "    margin-left: 4px;\n",
       "    line-height: 19px;\n",
       "  }\n",
       "</style>"
      ]
     },
     "metadata": {
      "application/vnd.databricks.v1+output": {
       "arguments": {},
       "data": "",
       "errorSummary": "",
       "errorTraceType": null,
       "metadata": {},
       "type": "ipynbError"
      }
     },
     "output_type": "display_data"
    }
   ],
   "source": [
    "4. d)"
   ]
  },
  {
   "cell_type": "code",
   "execution_count": 0,
   "metadata": {
    "application/vnd.databricks.v1+cell": {
     "inputWidgets": {},
     "nuid": "dc92279a-e778-44db-9245-b918f9958011",
     "showTitle": false,
     "title": ""
    }
   },
   "outputs": [
    {
     "data": {
      "text/plain": [
       "1502\n",
       "1328\n"
      ]
     },
     "metadata": {
      "application/vnd.databricks.v1+output": {
       "addedWidgets": {},
       "arguments": {},
       "data": "1502\n1328\n",
       "datasetInfos": [],
       "metadata": {},
       "removedWidgets": [],
       "type": "ansi"
      }
     },
     "output_type": "display_data"
    }
   ],
   "source": [
    "print(flightsAllDF.count())\n",
    "print(flightsAllDF.distinct().count())"
   ]
  },
  {
   "cell_type": "code",
   "execution_count": 0,
   "metadata": {
    "application/vnd.databricks.v1+cell": {
     "inputWidgets": {},
     "nuid": "457b6d16-0be7-43b9-893c-0593e8c8ed71",
     "showTitle": false,
     "title": ""
    }
   },
   "outputs": [
    {
     "data": {
      "text/html": [
       "<style scoped>\n",
       "  .ansiout {\n",
       "    display: block;\n",
       "    unicode-bidi: embed;\n",
       "    white-space: pre-wrap;\n",
       "    word-wrap: break-word;\n",
       "    word-break: break-all;\n",
       "    font-family: \"Source Code Pro\", \"Menlo\", monospace;;\n",
       "    font-size: 13px;\n",
       "    color: #555;\n",
       "    margin-left: 4px;\n",
       "    line-height: 19px;\n",
       "  }\n",
       "</style>"
      ]
     },
     "metadata": {
      "application/vnd.databricks.v1+output": {
       "arguments": {},
       "data": "",
       "errorSummary": "",
       "errorTraceType": null,
       "metadata": {},
       "type": "ipynbError"
      }
     },
     "output_type": "display_data"
    }
   ],
   "source": [
    "#same values are present in DEST, ORIGIN and count, hence the duplicates. Also Year column is missing in the data\n"
   ]
  },
  {
   "cell_type": "markdown",
   "metadata": {
    "application/vnd.databricks.v1+cell": {
     "inputWidgets": {},
     "nuid": "a6bed651-a9a2-489a-8783-ee201e9eb978",
     "showTitle": false,
     "title": ""
    }
   },
   "source": [
    "##Task 5"
   ]
  },
  {
   "cell_type": "code",
   "execution_count": 0,
   "metadata": {
    "application/vnd.databricks.v1+cell": {
     "inputWidgets": {},
     "nuid": "b841bc67-3738-4c6f-a237-a95eebbd1122",
     "showTitle": false,
     "title": ""
    }
   },
   "outputs": [
    {
     "data": {
      "text/html": [
       "<style scoped>\n",
       "  .ansiout {\n",
       "    display: block;\n",
       "    unicode-bidi: embed;\n",
       "    white-space: pre-wrap;\n",
       "    word-wrap: break-word;\n",
       "    word-break: break-all;\n",
       "    font-family: \"Source Code Pro\", \"Menlo\", monospace;;\n",
       "    font-size: 13px;\n",
       "    color: #555;\n",
       "    margin-left: 4px;\n",
       "    line-height: 19px;\n",
       "  }\n",
       "</style>"
      ]
     },
     "metadata": {
      "application/vnd.databricks.v1+output": {
       "arguments": {},
       "data": "",
       "errorSummary": "",
       "errorTraceType": null,
       "metadata": {},
       "type": "ipynbError"
      }
     },
     "output_type": "display_data"
    }
   ],
   "source": [
    "# 5. a)"
   ]
  },
  {
   "cell_type": "code",
   "execution_count": 0,
   "metadata": {
    "application/vnd.databricks.v1+cell": {
     "inputWidgets": {},
     "nuid": "39a3adf3-401a-4552-84be-031a7963d84a",
     "showTitle": false,
     "title": ""
    }
   },
   "outputs": [
    {
     "data": {
      "text/plain": [
       "Out[38]: [Row(dest='United States', origin='Romania', count=1),\n",
       " Row(dest='United States', origin='Ireland', count=264),\n",
       " Row(dest='United States', origin='India', count=69),\n",
       " Row(dest='Egypt', origin='United States', count=24),\n",
       " Row(dest='Equatorial Guinea', origin='United States', count=1),\n",
       " Row(dest='United States', origin='Singapore', count=25),\n",
       " Row(dest='United States', origin='Grenada', count=54),\n",
       " Row(dest='Costa Rica', origin='United States', count=477),\n",
       " Row(dest='Senegal', origin='United States', count=29),\n",
       " Row(dest='United States', origin='Marshall Islands', count=44),\n",
       " Row(dest='Guyana', origin='United States', count=17),\n",
       " Row(dest='United States', origin='Sint Maarten', count=53),\n",
       " Row(dest='Malta', origin='United States', count=1),\n",
       " Row(dest='Bolivia', origin='United States', count=46),\n",
       " Row(dest='Anguilla', origin='United States', count=21),\n",
       " Row(dest='Turks and Caicos Islands', origin='United States', count=136),\n",
       " Row(dest='United States', origin='Afghanistan', count=2),\n",
       " Row(dest='Saint Vincent and the Grenadines', origin='United States', count=1),\n",
       " Row(dest='Italy', origin='United States', count=390),\n",
       " Row(dest='United States', origin='Russia', count=156),\n",
       " Row(dest='United States', origin='Federated States of Micronesia', count=48),\n",
       " Row(dest='Pakistan', origin='United States', count=9),\n",
       " Row(dest='United States', origin='Netherlands', count=570),\n",
       " Row(dest='Iceland', origin='United States', count=118),\n",
       " Row(dest='Marshall Islands', origin='United States', count=77),\n",
       " Row(dest='Luxembourg', origin='United States', count=91),\n",
       " Row(dest='Honduras', origin='United States', count=391),\n",
       " Row(dest='The Bahamas', origin='United States', count=903),\n",
       " Row(dest='El Salvador', origin='United States', count=519),\n",
       " Row(dest='United States', origin='Senegal', count=46),\n",
       " Row(dest='Samoa', origin='United States', count=28),\n",
       " Row(dest='United States', origin='Angola', count=18),\n",
       " Row(dest='Kazakhstan', origin='United States', count=3),\n",
       " Row(dest='Switzerland', origin='United States', count=315),\n",
       " Row(dest='United States', origin='Anguilla', count=20),\n",
       " Row(dest='Sint Maarten', origin='United States', count=61),\n",
       " Row(dest='Hong Kong', origin='United States', count=252),\n",
       " Row(dest='Trinidad and Tobago', origin='United States', count=187),\n",
       " Row(dest='Latvia', origin='United States', count=12),\n",
       " Row(dest='United States', origin='Ecuador', count=345),\n",
       " Row(dest='Slovakia', origin='United States', count=1),\n",
       " Row(dest='Suriname', origin='United States', count=12),\n",
       " Row(dest='Mexico', origin='United States', count=6200),\n",
       " Row(dest='United States', origin='Cyprus', count=1),\n",
       " Row(dest='Ecuador', origin='United States', count=272),\n",
       " Row(dest='United States', origin='Bosnia and Herzegovina', count=1),\n",
       " Row(dest='United States', origin='Portugal', count=104),\n",
       " Row(dest='United States', origin='Costa Rica', count=501),\n",
       " Row(dest='United States', origin='Guatemala', count=333),\n",
       " Row(dest='United States', origin='Suriname', count=13),\n",
       " Row(dest='Colombia', origin='United States', count=785),\n",
       " Row(dest='United States', origin='Cape Verde', count=18),\n",
       " Row(dest='United States', origin='Jamaica', count=757),\n",
       " Row(dest='United States', origin='Malaysia', count=3),\n",
       " Row(dest='Norway', origin='United States', count=29),\n",
       " Row(dest='United States', origin='Morocco', count=16),\n",
       " Row(dest='Thailand', origin='United States', count=16),\n",
       " Row(dest='Venezuela', origin='United States', count=377),\n",
       " Row(dest='United States', origin='Palau', count=30),\n",
       " Row(dest='United States', origin='Samoa', count=28),\n",
       " Row(dest='United States', origin='Algeria', count=1),\n",
       " Row(dest='United States', origin='Venezuela', count=341),\n",
       " Row(dest='Panama', origin='United States', count=355),\n",
       " Row(dest='United States', origin='Finland', count=20),\n",
       " Row(dest='United States', origin='Chile', count=176),\n",
       " Row(dest='Morocco', origin='United States', count=16),\n",
       " Row(dest='United States', origin='Greece', count=61),\n",
       " Row(dest='Antigua and Barbuda', origin='United States', count=123),\n",
       " Row(dest='Azerbaijan', origin='United States', count=1),\n",
       " Row(dest='United States', origin='The Bahamas', count=959),\n",
       " Row(dest='New Zealand', origin='United States', count=86),\n",
       " Row(dest='Liberia', origin='United States', count=1),\n",
       " Row(dest='United States', origin='Hong Kong', count=293),\n",
       " Row(dest='Hungary', origin='United States', count=14),\n",
       " Row(dest='United States', origin='China', count=505),\n",
       " Row(dest='United States', origin='Vietnam', count=1),\n",
       " Row(dest='Sweden', origin='United States', count=65),\n",
       " Row(dest='United States', origin='Kuwait', count=25),\n",
       " Row(dest='United States', origin='Dominican Republic', count=1150),\n",
       " Row(dest='United States', origin='Egypt', count=25),\n",
       " Row(dest='Israel', origin='United States', count=117),\n",
       " Row(dest='United States', origin='United States', count=348113),\n",
       " Row(dest='United States', origin='Luxembourg', count=90),\n",
       " Row(dest='Ethiopia', origin='United States', count=12),\n",
       " Row(dest='United States', origin='Poland', count=61),\n",
       " Row(dest='Martinique', origin='United States', count=23),\n",
       " Row(dest='Saint Barthelemy', origin='United States', count=28),\n",
       " Row(dest='United States', origin='Saint Barthelemy', count=29),\n",
       " Row(dest='United States', origin='Turkey', count=87),\n",
       " Row(dest='Barbados', origin='United States', count=130),\n",
       " Row(dest='United States', origin='Estonia', count=1),\n",
       " Row(dest='United States', origin='Azerbaijan', count=1),\n",
       " Row(dest='Germany', origin='United States', count=1392),\n",
       " Row(dest='Kyrgyzstan', origin='United States', count=2),\n",
       " Row(dest='United States', origin='South Korea', count=621),\n",
       " Row(dest='United States', origin='El Salvador', count=464),\n",
       " Row(dest='Ireland', origin='United States', count=231),\n",
       " Row(dest='United States', origin='Hungary', count=15),\n",
       " Row(dest='United States', origin='Serbia', count=1),\n",
       " Row(dest='Malaysia', origin='United States', count=1),\n",
       " Row(dest='United States', origin='Panama', count=363),\n",
       " Row(dest='United States', origin='Ethiopia', count=12),\n",
       " Row(dest='United States', origin='Aruba', count=349),\n",
       " Row(dest='United States', origin='Thailand', count=13),\n",
       " Row(dest='United States', origin='Netherlands Antilles', count=289),\n",
       " Row(dest='United States', origin='Turks and Caicos Islands', count=147),\n",
       " Row(dest='Cyprus', origin='United States', count=2),\n",
       " Row(dest='United States', origin='Pakistan', count=15),\n",
       " Row(dest='United States', origin='Honduras', count=393),\n",
       " Row(dest='Qatar', origin='United States', count=41),\n",
       " Row(dest='Fiji', origin='United States', count=53),\n",
       " Row(dest='Saint Kitts and Nevis', origin='United States', count=113),\n",
       " Row(dest='Taiwan', origin='United States', count=275),\n",
       " Row(dest='Haiti', origin='United States', count=238),\n",
       " Row(dest='Kuwait', origin='United States', count=26),\n",
       " Row(dest='Canada', origin='United States', count=8271),\n",
       " Row(dest='Federated States of Micronesia', origin='United States', count=46),\n",
       " Row(dest='United States', origin='Liberia', count=1),\n",
       " Row(dest='Jamaica', origin='United States', count=733),\n",
       " Row(dest='United States', origin='Malta', count=2),\n",
       " Row(dest='Dominican Republic', origin='United States', count=1109),\n",
       " Row(dest='Japan', origin='United States', count=1383),\n",
       " Row(dest='United States', origin='Saint Vincent and the Grenadines', count=16),\n",
       " Row(dest='United States', origin='Guadeloupe', count=33),\n",
       " Row(dest='Finland', origin='United States', count=24),\n",
       " Row(dest='United States', origin='Ukraine', count=17),\n",
       " Row(dest='United States', origin='France', count=776),\n",
       " Row(dest='United States', origin='Norway', count=36),\n",
       " Row(dest='Aruba', origin='United States', count=359),\n",
       " Row(dest='French Guiana', origin='United States', count=4),\n",
       " Row(dest='United States', origin='Kiribati', count=18),\n",
       " Row(dest='India', origin='United States', count=66),\n",
       " Row(dest='British Virgin Islands', origin='United States', count=49),\n",
       " Row(dest='United States', origin='Germany', count=1406),\n",
       " Row(dest='Brazil', origin='United States', count=995),\n",
       " Row(dest='United States', origin='New Zealand', count=71),\n",
       " Row(dest='French Polynesia', origin='United States', count=38),\n",
       " Row(dest='United Arab Emirates', origin='United States', count=165),\n",
       " Row(dest='Singapore', origin='United States', count=25),\n",
       " Row(dest='United States', origin='Mexico', count=6220),\n",
       " Row(dest='Netherlands', origin='United States', count=586),\n",
       " Row(dest='United States', origin='Sweden', count=73),\n",
       " Row(dest='United States', origin='Gabon', count=1),\n",
       " Row(dest='United States', origin='Martinique', count=20),\n",
       " Row(dest='United States', origin='United Arab Emirates', count=156),\n",
       " Row(dest='United States', origin='Bulgaria', count=2),\n",
       " Row(dest='China', origin='United States', count=448),\n",
       " Row(dest='Denmark', origin='United States', count=98),\n",
       " Row(dest='United States', origin='Philippines', count=116),\n",
       " Row(dest='United States', origin='Nicaragua', count=181),\n",
       " Row(dest='United States', origin='Belgium', count=355),\n",
       " Row(dest='Peru', origin='United States', count=212),\n",
       " Row(dest='Argentina', origin='United States', count=184),\n",
       " Row(dest='Cayman Islands', origin='United States', count=247),\n",
       " Row(dest='South Africa', origin='United States', count=25),\n",
       " Row(dest='United States', origin='Iceland', count=129),\n",
       " Row(dest='United States', origin='Argentina', count=159),\n",
       " Row(dest='Spain', origin='United States', count=422),\n",
       " Row(dest='Netherlands Antilles', origin='United States', count=286),\n",
       " Row(dest='Bermuda', origin='United States', count=183),\n",
       " Row(dest='United States', origin='Austria', count=34),\n",
       " Row(dest='United States', origin='Nigeria', count=18),\n",
       " Row(dest='United States', origin='Bonaire, Sint Eustatius, and Saba', count=16),\n",
       " Row(dest='Kiribati', origin='United States', count=17),\n",
       " Row(dest='Saudi Arabia', origin='United States', count=42),\n",
       " Row(dest='Czech Republic', origin='United States', count=21),\n",
       " Row(dest='Belgium', origin='United States', count=408),\n",
       " Row(dest='United States', origin='Israel', count=122),\n",
       " Row(dest='United States', origin='Bahrain', count=1),\n",
       " Row(dest='United States', origin='Saint Lucia', count=121),\n",
       " Row(dest='Afghanistan', origin='United States', count=11),\n",
       " Row(dest='United States', origin='British Virgin Islands', count=47),\n",
       " Row(dest='Curacao', origin='United States', count=20),\n",
       " Row(dest='Georgia', origin='United States', count=2),\n",
       " Row(dest='United States', origin='Guyana', count=20),\n",
       " Row(dest='United States', origin='Denmark', count=107),\n",
       " Row(dest='Philippines', origin='United States', count=132),\n",
       " Row(dest='Grenada', origin='United States', count=65),\n",
       " Row(dest='Cape Verde', origin='United States', count=18),\n",
       " Row(dest='Ukraine', origin='United States', count=19),\n",
       " Row(dest='United States', origin='Papua New Guinea', count=1),\n",
       " Row(dest='United States', origin='Saudi Arabia', count=54),\n",
       " Row(dest='Russia', origin='United States', count=152),\n",
       " Row(dest='Guatemala', origin='United States', count=386),\n",
       " Row(dest='Saint Lucia', origin='United States', count=116),\n",
       " Row(dest='Paraguay', origin='United States', count=90),\n",
       " Row(dest='United States', origin='Curacao', count=14),\n",
       " Row(dest='United States', origin='Taiwan', count=252),\n",
       " Row(dest='United States', origin='South Africa', count=15),\n",
       " Row(dest='Turkey', origin='United States', count=75),\n",
       " Row(dest='United Kingdom', origin='United States', count=1629),\n",
       " Row(dest='United States', origin='Greenland', count=2),\n",
       " Row(dest='United States', origin='Spain', count=442),\n",
       " Row(dest='Cuba', origin='United States', count=243),\n",
       " Row(dest='United States', origin='Italy', count=433),\n",
       " Row(dest='United States', origin='Switzerland', count=334),\n",
       " Row(dest='Dominica', origin='United States', count=28),\n",
       " Row(dest='United States', origin='Japan', count=1307),\n",
       " Row(dest='Portugal', origin='United States', count=102),\n",
       " Row(dest='United States', origin='Brazil', count=578),\n",
       " Row(dest='Bahrain', origin='United States', count=30),\n",
       " Row(dest='United States', origin='Peru', count=284),\n",
       " Row(dest='Vietnam', origin='United States', count=1),\n",
       " Row(dest='United States', origin='United Kingdom', count=1503),\n",
       " Row(dest='United States', origin='Belize', count=118),\n",
       " Row(dest='Belize', origin='United States', count=121),\n",
       " Row(dest='United States', origin='Ghana', count=28),\n",
       " Row(dest='United States', origin='Indonesia', count=1),\n",
       " Row(dest='United States', origin='Fiji', count=51),\n",
       " Row(dest='United States', origin='Canada', count=8305),\n",
       " Row(dest='United States', origin='French Polynesia', count=38),\n",
       " Row(dest='United States', origin='Antigua and Barbuda', count=121),\n",
       " Row(dest='United States', origin='Burkina Faso', count=1),\n",
       " Row(dest='Nicaragua', origin='United States', count=178),\n",
       " Row(dest='United States', origin='Latvia', count=13),\n",
       " Row(dest='United States', origin='Dominica', count=32),\n",
       " Row(dest='United States', origin='Czech Republic', count=22),\n",
       " Row(dest='United States', origin='Australia', count=216),\n",
       " Row(dest='Austria', origin='United States', count=36),\n",
       " Row(dest='United States', origin='Cook Islands', count=12),\n",
       " Row(dest='Jordan', origin='United States', count=50),\n",
       " Row(dest='Palau', origin='United States', count=31),\n",
       " Row(dest='Uganda', origin='United States', count=2),\n",
       " Row(dest='United States', origin='Cameroon', count=1),\n",
       " Row(dest='South Korea', origin='United States', count=683),\n",
       " Row(dest='Angola', origin='United States', count=14),\n",
       " Row(dest='Ghana', origin='United States', count=27),\n",
       " Row(dest='Guadeloupe', origin='United States', count=40),\n",
       " Row(dest='France', origin='United States', count=774),\n",
       " Row(dest='United States', origin='Kyrgyzstan', count=12),\n",
       " Row(dest='Poland', origin='United States', count=62),\n",
       " Row(dest='Nigeria', origin='United States', count=16),\n",
       " Row(dest='United States', origin='Uruguay', count=24),\n",
       " Row(dest='Greenland', origin='United States', count=2),\n",
       " Row(dest='Chile', origin='United States', count=166),\n",
       " Row(dest='United States', origin='Bermuda', count=180),\n",
       " Row(dest='United States', origin='Cuba', count=235),\n",
       " Row(dest='United States', origin='Colombia', count=832),\n",
       " Row(dest='United States', origin='Qatar', count=40),\n",
       " Row(dest='United States', origin='Barbados', count=119),\n",
       " Row(dest='Australia', origin='United States', count=290),\n",
       " Row(dest='United States', origin='Jordan', count=51),\n",
       " Row(dest='United States', origin='Cayman Islands', count=251),\n",
       " Row(dest='United States', origin='Trinidad and Tobago', count=200),\n",
       " Row(dest='United States', origin='Bolivia', count=39),\n",
       " Row(dest='United States', origin='Slovakia', count=1),\n",
       " Row(dest='Uruguay', origin='United States', count=54),\n",
       " Row(dest='Cook Islands', origin='United States', count=13),\n",
       " Row(dest='United States', origin='Saint Kitts and Nevis', count=127),\n",
       " Row(dest='Bulgaria', origin='United States', count=1),\n",
       " Row(dest='United States', origin='French Guiana', count=1),\n",
       " Row(dest='United States', origin='Haiti', count=226),\n",
       " Row(dest='United States', origin='Uganda', count=1),\n",
       " Row(dest='Bonaire, Sint Eustatius, and Saba', origin='United States', count=16),\n",
       " Row(dest='Greece', origin='United States', count=50),\n",
       " Row(dest='United States', origin='Romania', count=15),\n",
       " Row(dest='United States', origin='Croatia', count=1),\n",
       " Row(dest='United States', origin='Ireland', count=344),\n",
       " Row(dest='Egypt', origin='United States', count=15),\n",
       " Row(dest='United States', origin='India', count=62),\n",
       " Row(dest='United States', origin='Singapore', count=1),\n",
       " Row(dest='United States', origin='Grenada', count=62),\n",
       " Row(dest='Costa Rica', origin='United States', count=588),\n",
       " Row(dest='Senegal', origin='United States', count=40),\n",
       " Row(dest='Moldova', origin='United States', count=1),\n",
       " Row(dest='United States', origin='Sint Maarten', count=325),\n",
       " Row(dest='United States', origin='Marshall Islands', count=39),\n",
       " Row(dest='Guyana', origin='United States', count=64),\n",
       " Row(dest='Malta', origin='United States', count=1),\n",
       " Row(dest='Anguilla', origin='United States', count=41),\n",
       " Row(dest='Bolivia', origin='United States', count=30),\n",
       " Row(dest='United States', origin='Paraguay', count=6),\n",
       " Row(dest='Algeria', origin='United States', count=4),\n",
       " Row(dest='Turks and Caicos Islands', origin='United States', count=230),\n",
       " Row(dest='United States', origin='Gibraltar', count=1),\n",
       " Row(dest='Saint Vincent and the Grenadines', origin='United States', count=1),\n",
       " Row(dest='Italy', origin='United States', count=382),\n",
       " Row(dest='United States', origin='Federated States of Micronesia', count=69),\n",
       " Row(dest='United States', origin='Russia', count=161),\n",
       " Row(dest='Pakistan', origin='United States', count=12),\n",
       " Row(dest='United States', origin='Netherlands', count=660),\n",
       " Row(dest='Iceland', origin='United States', count=181),\n",
       " Row(dest='Marshall Islands', origin='United States', count=42),\n",
       " Row(dest='Luxembourg', origin='United States', count=155),\n",
       " Row(dest='Honduras', origin='United States', count=362),\n",
       " Row(dest='The Bahamas', origin='United States', count=955),\n",
       " Row(dest='United States', origin='Senegal', count=42),\n",
       " Row(dest='El Salvador', origin='United States', count=561),\n",
       " Row(dest='Samoa', origin='United States', count=25),\n",
       " Row(dest='United States', origin='Angola', count=13),\n",
       " Row(dest='Switzerland', origin='United States', count=294),\n",
       " Row(dest='United States', origin='Anguilla', count=38),\n",
       " Row(dest='Sint Maarten', origin='United States', count=325),\n",
       " Row(dest='Hong Kong', origin='United States', count=332),\n",
       " Row(dest='Trinidad and Tobago', origin='United States', count=211),\n",
       " Row(dest='Latvia', origin='United States', count=19),\n",
       " Row(dest='United States', origin='Ecuador', count=300),\n",
       " Row(dest='Suriname', origin='United States', count=1),\n",
       " Row(dest='Mexico', origin='United States', count=7140),\n",
       " Row(dest='United States', origin='Cyprus', count=1),\n",
       " Row(dest='Ecuador', origin='United States', count=268),\n",
       " Row(dest='United States', origin='Portugal', count=134),\n",
       " Row(dest='United States', origin='Costa Rica', count=608),\n",
       " Row(dest='United States', origin='Guatemala', count=318),\n",
       " Row(dest='United States', origin='Suriname', count=34),\n",
       " Row(dest='Colombia', origin='United States', count=873),\n",
       " Row(dest='United States', origin='Cape Verde', count=14),\n",
       " Row(dest='United States', origin='Jamaica', count=712),\n",
       " Row(dest='Norway', origin='United States', count=121),\n",
       " Row(dest='United States', origin='Malaysia', count=3),\n",
       " Row(dest='United States', origin='Morocco', count=19),\n",
       " Row(dest='Thailand', origin='United States', count=3),\n",
       " Row(dest='United States', origin='Samoa', count=25),\n",
       " Row(dest='Venezuela', origin='United States', count=290),\n",
       " Row(dest='United States', origin='Palau', count=31),\n",
       " Row(dest='United States', origin='Venezuela', count=246),\n",
       " Row(dest='Panama', origin='United States', count=510),\n",
       " Row(dest='Antigua and Barbuda', origin='United States', count=126),\n",
       " Row(dest='United States', origin='Chile', count=185),\n",
       " Row(dest='Morocco', origin='United States', count=15),\n",
       " Row(dest='United States', origin='Finland', count=28),\n",
       " Row(dest='Azerbaijan', origin='United States', count=21),\n",
       " Row(dest='United States', origin='Greece', count=23),\n",
       " Row(dest='United States', origin='The Bahamas', count=986),\n",
       " Row(dest='New Zealand', origin='United States', count=111),\n",
       " Row(dest='Liberia', origin='United States', count=2),\n",
       " Row(dest='United States', origin='Hong Kong', count=414),\n",
       " Row(dest='Hungary', origin='United States', count=2),\n",
       " Row(dest='United States', origin='China', count=920),\n",
       " Row(dest='United States', origin='Vietnam', count=2),\n",
       " Row(dest='Burkina Faso', origin='United States', count=1),\n",
       " Row(dest='Sweden', origin='United States', count=118),\n",
       " Row(dest='United States', origin='Kuwait', count=28),\n",
       " Row(dest='United States', origin='Dominican Republic', count=1420),\n",
       " Row(dest='United States', origin='Egypt', count=12),\n",
       " Row(dest='Israel', origin='United States', count=134),\n",
       " Row(dest='United States', origin='United States', count=370002),\n",
       " Row(dest='Ethiopia', origin='United States', count=13),\n",
       " Row(dest='United States', origin='Luxembourg', count=134),\n",
       " Row(dest='United States', origin='Poland', count=33),\n",
       " Row(dest='Martinique', origin='United States', count=44),\n",
       " Row(dest='United States', origin='Saint Barthelemy', count=41),\n",
       " Row(dest='Saint Barthelemy', origin='United States', count=39),\n",
       " Row(dest='Barbados', origin='United States', count=154),\n",
       " Row(dest='United States', origin='Turkey', count=129),\n",
       " Row(dest='Djibouti', origin='United States', count=1),\n",
       " Row(dest='United States', origin='Azerbaijan', count=21),\n",
       " Row(dest='United States', origin='Estonia', count=1),\n",
       " Row(dest='Germany', origin='United States', count=1468),\n",
       " Row(dest='United States', origin='South Korea', count=827),\n",
       " Row(dest='United States', origin='El Salvador', count=508),\n",
       " Row(dest='Ireland', origin='United States', count=335),\n",
       " Row(dest='United States', origin='Hungary', count=3),\n",
       " Row(dest='Zambia', origin='United States', count=1),\n",
       " Row(dest='Malaysia', origin='United States', count=2),\n",
       " Row(dest='United States', origin='Ethiopia', count=12),\n",
       " Row(dest='United States', origin='Panama', count=465),\n",
       " Row(dest='United States', origin='Aruba', count=342),\n",
       " Row(dest='United States', origin='Thailand', count=4),\n",
       " Row(dest='United States', origin='Turks and Caicos Islands', count=236),\n",
       " Row(dest='Croatia', origin='United States', count=2),\n",
       " Row(dest='United States', origin='Pakistan', count=12),\n",
       " Row(dest='Cyprus', origin='United States', count=1),\n",
       " Row(dest='United States', origin='Honduras', count=407),\n",
       " Row(dest='Fiji', origin='United States', count=24),\n",
       " Row(dest='Qatar', origin='United States', count=108),\n",
       " Row(dest='Saint Kitts and Nevis', origin='United States', count=139),\n",
       " Row(dest='Kuwait', origin='United States', count=32),\n",
       " Row(dest='Taiwan', origin='United States', count=266),\n",
       " Row(dest='Haiti', origin='United States', count=226),\n",
       " Row(dest='Canada', origin='United States', count=8399),\n",
       " Row(dest='Federated States of Micronesia', origin='United States', count=69),\n",
       " Row(dest='United States', origin='Liberia', count=2),\n",
       " Row(dest='Jamaica', origin='United States', count=666),\n",
       " Row(dest='United States', origin='Malta', count=2),\n",
       " Row(dest='Dominican Republic', origin='United States', count=1353),\n",
       " Row(dest='Japan', origin='United States', count=1548),\n",
       " Row(dest='United States', origin='Lithuania', count=1),\n",
       " Row(dest='Finland', origin='United States', count=26),\n",
       " Row(dest='United States', origin='Guadeloupe', count=59),\n",
       " Row(dest='United States', origin='Ukraine', count=13),\n",
       " Row(dest='United States', origin='France', count=952),\n",
       " Row(dest='United States', origin='Norway', count=115),\n",
       " Row(dest='Aruba', origin='United States', count=346),\n",
       " Row(dest='French Guiana', origin='United States', count=5),\n",
       " Row(dest='United States', origin='Kiribati', count=35),\n",
       " Row(dest='India', origin='United States', count=61),\n",
       " Row(dest='British Virgin Islands', origin='United States', count=107),\n",
       " Row(dest='Brazil', origin='United States', count=853),\n",
       " Row(dest='United States', origin='Germany', count=1336),\n",
       " Row(dest='United States', origin='New Zealand', count=74),\n",
       " Row(dest='French Polynesia', origin='United States', count=43),\n",
       " Row(dest='United Arab Emirates', origin='United States', count=320),\n",
       " Row(dest='Singapore', origin='United States', count=3),\n",
       " Row(dest='United States', origin='Mexico', count=7187),\n",
       " Row(dest='United States', origin='Sweden', count=119),\n",
       " Row(dest='Netherlands', origin='United States', count=776),\n",
       " Row(dest='United States', origin='Martinique', count=43),\n",
       " Row(dest='United States', origin='United Arab Emirates', count=313),\n",
       " Row(dest='United States', origin='Bulgaria', count=1),\n",
       " Row(dest='Denmark', origin='United States', count=153),\n",
       " Row(dest='China', origin='United States', count=772),\n",
       " Row(dest='United States', origin='Nicaragua', count=201),\n",
       " Row(dest='United States', origin='Philippines', count=126),\n",
       " Row(dest='United States', origin='Georgia', count=1),\n",
       " Row(dest='United States', origin='Belgium', count=228),\n",
       " Row(dest='Cayman Islands', origin='United States', count=314),\n",
       " Row(dest='Argentina', origin='United States', count=180),\n",
       " Row(dest='Peru', origin='United States', count=279),\n",
       " Row(dest='South Africa', origin='United States', count=36),\n",
       " Row(dest='United States', origin='Iceland', count=202),\n",
       " Row(dest='United States', origin='Argentina', count=141),\n",
       " Row(dest='Spain', origin='United States', count=420),\n",
       " Row(dest='Bermuda', origin='United States', count=183),\n",
       " Row(dest='United States', origin='Nigeria', count=50),\n",
       " Row(dest='United States', origin='Austria', count=63),\n",
       " Row(dest='United States', origin='Bonaire, Sint Eustatius, and Saba', count=59),\n",
       " Row(dest='Kiribati', origin='United States', count=26),\n",
       " Row(dest='Saudi Arabia', origin='United States', count=83),\n",
       " Row(dest='Czech Republic', origin='United States', count=13),\n",
       " Row(dest='United States', origin='Israel', count=127),\n",
       " Row(dest='Belgium', origin='United States', count=259),\n",
       " Row(dest='United States', origin='Saint Lucia', count=136),\n",
       " Row(dest='United States', origin='Bahrain', count=1),\n",
       " Row(dest='United States', origin='British Virgin Islands', count=80),\n",
       " Row(dest='Curacao', origin='United States', count=90),\n",
       " Row(dest='Georgia', origin='United States', count=2),\n",
       " Row(dest='United States', origin='Denmark', count=152),\n",
       " Row(dest='United States', origin='Guyana', count=63),\n",
       " Row(dest='Philippines', origin='United States', count=134),\n",
       " Row(dest='Grenada', origin='United States', count=53),\n",
       " Row(dest='Cape Verde', origin='United States', count=20),\n",
       " Row(dest=\"Cote d'Ivoire\", origin='United States', count=1),\n",
       " Row(dest='Ukraine', origin='United States', count=14),\n",
       " Row(dest='United States', origin='Papua New Guinea', count=1),\n",
       " Row(dest='Russia', origin='United States', count=176),\n",
       " Row(dest='United States', origin='Saudi Arabia', count=70),\n",
       " Row(dest='Guatemala', origin='United States', count=397),\n",
       " Row(dest='Saint Lucia', origin='United States', count=123),\n",
       " Row(dest='Paraguay', origin='United States', count=60),\n",
       " Row(dest='United States', origin='Curacao', count=83),\n",
       " Row(dest='Kosovo', origin='United States', count=1),\n",
       " Row(dest='United States', origin='Taiwan', count=235),\n",
       " Row(dest='Tunisia', origin='United States', count=3),\n",
       " Row(dest='United States', origin='South Africa', count=40),\n",
       " Row(dest='Niger', origin='United States', count=2),\n",
       " Row(dest='Turkey', origin='United States', count=138),\n",
       " Row(dest='United Kingdom', origin='United States', count=2025),\n",
       " Row(dest='Romania', origin='United States', count=14),\n",
       " Row(dest='United States', origin='Greenland', count=4),\n",
       " Row(dest='Papua New Guinea', origin='United States', count=3),\n",
       " Row(dest='United States', origin='Spain', count=442),\n",
       " Row(dest='Iraq', origin='United States', count=1),\n",
       " Row(dest='United States', origin='Italy', count=438),\n",
       " Row(dest='Cuba', origin='United States', count=466),\n",
       " Row(dest='United States', origin='Switzerland', count=305),\n",
       " Row(dest='Dominica', origin='United States', count=20),\n",
       " Row(dest='United States', origin='Japan', count=1496),\n",
       " Row(dest='Portugal', origin='United States', count=127),\n",
       " Row(dest='United States', origin='Brazil', count=619),\n",
       " Row(dest='Bahrain', origin='United States', count=19),\n",
       " Row(dest='United States', origin='Peru', count=337),\n",
       " Row(dest='Indonesia', origin='United States', count=1),\n",
       " Row(dest='United States', origin='Belize', count=193),\n",
       " Row(dest='United States', origin='United Kingdom', count=1970),\n",
       " Row(dest='Belize', origin='United States', count=188),\n",
       " Row(dest='United States', origin='Ghana', count=20),\n",
       " Row(dest='United States', origin='Indonesia', count=2),\n",
       " Row(dest='United States', origin='Fiji', count=25),\n",
       " Row(dest='United States', origin='Canada', count=8483),\n",
       " Row(dest='United States', origin='Antigua and Barbuda', count=117),\n",
       " Row(dest='United States', origin='French Polynesia', count=40),\n",
       " Row(dest='Nicaragua', origin='United States', count=179),\n",
       " Row(dest='United States', origin='Latvia', count=15),\n",
       " Row(dest='United States', origin='Dominica', count=27),\n",
       " Row(dest='United States', origin='Czech Republic', count=12),\n",
       " Row(dest='United States', origin='Australia', count=258),\n",
       " Row(dest='United States', origin='Cook Islands', count=13),\n",
       " Row(dest='Austria', origin='United States', count=62),\n",
       " Row(dest='Jordan', origin='United States', count=44),\n",
       " Row(dest='Palau', origin='United States', count=30),\n",
       " Row(dest='South Korea', origin='United States', count=1048),\n",
       " Row(dest='Angola', origin='United States', count=15),\n",
       " Row(dest='Ghana', origin='United States', count=18),\n",
       " Row(dest='New Caledonia', origin='United States', count=1),\n",
       " Row(dest='Guadeloupe', origin='United States', count=56),\n",
       " Row(dest='France', origin='United States', count=935),\n",
       " Row(dest='Poland', origin='United States', count=32),\n",
       " Row(dest='Nigeria', origin='United States', count=59),\n",
       " Row(dest='United States', origin='Uruguay', count=13),\n",
       " Row(dest='Greenland', origin='United States', count=2),\n",
       " Row(dest='United States', origin='Bermuda', count=193),\n",
       " Row(dest='Chile', origin='United States', count=174),\n",
       " Row(dest='United States', origin='Cuba', count=478),\n",
       " Row(dest='United States', origin='Montenegro', count=1),\n",
       " Row(dest='United States', origin='Colombia', count=867),\n",
       " Row(dest='United States', origin='Barbados', count=130),\n",
       " Row(dest='United States', origin='Qatar', count=109),\n",
       " Row(dest='Australia', origin='United States', count=329),\n",
       " Row(dest='United States', origin='Cayman Islands', count=310),\n",
       " Row(dest='United States', origin='Jordan', count=44),\n",
       " Row(dest='United States', origin='Namibia', count=1),\n",
       " Row(dest='United States', origin='Trinidad and Tobago', count=217),\n",
       " Row(dest='United States', origin='Bolivia', count=13),\n",
       " Row(dest='Cook Islands', origin='United States', count=13),\n",
       " Row(dest='Bulgaria', origin='United States', count=3),\n",
       " Row(dest='United States', origin='Saint Kitts and Nevis', count=145),\n",
       " Row(dest='Uruguay', origin='United States', count=43),\n",
       " Row(dest='United States', origin='Haiti', count=225),\n",
       " Row(dest='Bonaire, Sint Eustatius, and Saba', origin='United States', count=58),\n",
       " Row(dest='Greece', origin='United States', count=30),\n",
       " Row(dest='United States', origin='Saint Martin', count=2),\n",
       " Row(dest='United States', origin='Guinea', count=2),\n",
       " Row(dest='United States', origin='Croatia', count=1),\n",
       " Row(dest='United States', origin='Romania', count=3),\n",
       " Row(dest='United States', origin='Ireland', count=268),\n",
       " Row(dest='Egypt', origin='United States', count=13),\n",
       " Row(dest='United States', origin='India', count=76),\n",
       " Row(dest='United States', origin='Singapore', count=24),\n",
       " Row(dest='United States', origin='Grenada', count=59),\n",
       " Row(dest='Costa Rica', origin='United States', count=494),\n",
       " Row(dest='Senegal', origin='United States', count=29),\n",
       " Row(dest='Guyana', origin='United States', count=26),\n",
       " Row(dest='United States', origin='Marshall Islands', count=49),\n",
       " Row(dest='United States', origin='Sint Maarten', count=223),\n",
       " Row(dest='Malta', origin='United States', count=1),\n",
       " Row(dest='Bolivia', origin='United States', count=61),\n",
       " Row(dest='Anguilla', origin='United States', count=21),\n",
       " Row(dest='United States', origin='Paraguay', count=3),\n",
       " Row(dest='United States', origin='Gibraltar', count=1),\n",
       " Row(dest='Turks and Caicos Islands', origin='United States', count=163),\n",
       " Row(dest='United States', origin='Afghanistan', count=3),\n",
       " Row(dest='Saint Vincent and the Grenadines', origin='United States', count=6),\n",
       " Row(dest='Italy', origin='United States', count=428),\n",
       " Row(dest='United States', origin='Russia', count=153),\n",
       " Row(dest='United States', origin='Federated States of Micronesia', count=54),\n",
       " Row(dest='Pakistan', origin='United States', count=12),\n",
       " Row(dest='Iceland', origin='United States', count=113),\n",
       " Row(dest='United States', origin='Netherlands', count=622),\n",
       " Row(dest='Marshall Islands', origin='United States', count=81),\n",
       " Row(dest='Luxembourg', origin='United States', count=120),\n",
       " Row(dest='Honduras', origin='United States', count=386),\n",
       " Row(dest='The Bahamas', origin='United States', count=811),\n",
       " Row(dest='El Salvador', origin='United States', count=495),\n",
       " Row(dest='United States', origin='Senegal', count=33),\n",
       " Row(dest='Samoa', origin='United States', count=25),\n",
       " Row(dest='United States', origin='Angola', count=12),\n",
       " Row(dest='Switzerland', origin='United States', count=314),\n",
       " Row(dest='United States', origin='Anguilla', count=20),\n",
       " Row(dest='Sint Maarten', origin='United States', count=240),\n",
       " Row(dest='Hong Kong', origin='United States', count=282),\n",
       " Row(dest='Trinidad and Tobago', origin='United States', count=205),\n",
       " Row(dest='Latvia', origin='United States', count=12),\n",
       " Row(dest='Yemen', origin='United States', count=1),\n",
       " Row(dest='United States', origin='Ecuador', count=351),\n",
       " Row(dest='Suriname', origin='United States', count=11),\n",
       " Row(dest='Mexico', origin='United States', count=5953),\n",
       " Row(dest='United States', origin='Cyprus', count=1),\n",
       " Row(dest='Ecuador', origin='United States', count=280),\n",
       " Row(dest='United States', origin='Portugal', count=109),\n",
       " Row(dest='United States', origin='Guatemala', count=340),\n",
       " Row(dest='United States', origin='Costa Rica', count=526),\n",
       " Row(dest='United States', origin='Suriname', count=20),\n",
       " Row(dest='Colombia', origin='United States', count=707),\n",
       " Row(dest='United States', origin='Cape Verde', count=19),\n",
       " Row(dest='United States', origin='Jamaica', count=695),\n",
       " Row(dest='Norway', origin='United States', count=25),\n",
       " Row(dest='United States', origin='Malaysia', count=1),\n",
       " Row(dest='The Gambia', origin='United States', count=1),\n",
       " Row(dest='United States', origin='Morocco', count=17),\n",
       " Row(dest='Thailand', origin='United States', count=12),\n",
       " Row(dest='United States', origin='Palau', count=41),\n",
       " Row(dest='Venezuela', origin='United States', count=373),\n",
       " Row(dest='United States', origin='Samoa', count=25),\n",
       " Row(dest='United States', origin='Algeria', count=1),\n",
       " Row(dest='Panama', origin='United States', count=397),\n",
       " Row(dest='United States', origin='Venezuela', count=352),\n",
       " Row(dest='Guinea', origin='United States', count=5),\n",
       " Row(dest='Antigua and Barbuda', origin='United States', count=146),\n",
       " Row(dest='United States', origin='Finland', count=32),\n",
       " Row(dest='United States', origin='Chile', count=182),\n",
       " Row(dest='United States', origin='Greece', count=45),\n",
       " Row(dest='Morocco', origin='United States', count=19),\n",
       " Row(dest='United States', origin='The Bahamas', count=888),\n",
       " Row(dest='United States', origin='Brunei', count=1),\n",
       " Row(dest='New Zealand', origin='United States', count=96),\n",
       " Row(dest='United States', origin='Hong Kong', count=317),\n",
       " Row(dest='Hungary', origin='United States', count=13),\n",
       " Row(dest='United States', origin='China', count=605),\n",
       " Row(dest='Sweden', origin='United States', count=59),\n",
       " Row(dest='United States', origin='Kuwait', count=27),\n",
       " Row(dest='United States', origin='Dominican Republic', count=1100),\n",
       " Row(dest='United States', origin='Egypt', count=15),\n",
       " Row(dest='Israel', origin='United States', count=121),\n",
       " Row(dest='United States', origin='United States', count=352742),\n",
       " Row(dest='United States', origin='Luxembourg', count=170),\n",
       " Row(dest='Ethiopia', origin='United States', count=12),\n",
       " Row(dest='United States', origin='Poland', count=42),\n",
       " Row(dest='Martinique', origin='United States', count=20),\n",
       " Row(dest='Saint Barthelemy', origin='United States', count=38),\n",
       " Row(dest='United States', origin='Saint Barthelemy', count=39),\n",
       " Row(dest='Barbados', origin='United States', count=129),\n",
       " Row(dest='United States', origin='Turkey', count=99),\n",
       " Row(dest='United States', origin='Azerbaijan', count=3),\n",
       " Row(dest='Germany', origin='United States', count=1423),\n",
       " Row(dest='United States', origin='South Korea', count=661),\n",
       " Row(dest='United States', origin='El Salvador', count=443),\n",
       " Row(dest='Ireland', origin='United States', count=250),\n",
       " Row(dest='United States', origin='Hungary', count=17),\n",
       " Row(dest='Malaysia', origin='United States', count=2),\n",
       " Row(dest='United States', origin='Panama', count=380),\n",
       " Row(dest='United States', origin='Ethiopia', count=12),\n",
       " Row(dest='United States', origin='Thailand', count=14),\n",
       " Row(dest='United States', origin='Aruba', count=332),\n",
       " Row(dest='United States', origin='Turks and Caicos Islands', count=177),\n",
       " Row(dest='Croatia', origin='United States', count=2),\n",
       " Row(dest='United States', origin='Pakistan', count=24),\n",
       " Row(dest='United States', origin='Honduras', count=388),\n",
       " Row(dest='Qatar', origin='United States', count=48),\n",
       " Row(dest='Fiji', origin='United States', count=49),\n",
       " Row(dest='Saint Kitts and Nevis', origin='United States', count=105),\n",
       " Row(dest='Taiwan', origin='United States', count=248),\n",
       " Row(dest='Haiti', origin='United States', count=188),\n",
       " Row(dest='Kuwait', origin='United States', count=27),\n",
       " Row(dest='Canada', origin='United States', count=8514),\n",
       " Row(dest='Belarus', origin='United States', count=1),\n",
       " Row(dest='Federated States of Micronesia', origin='United States', count=48),\n",
       " Row(dest='Jamaica', origin='United States', count=675),\n",
       " Row(dest='United States', origin='Malta', count=3),\n",
       " Row(dest='Dominican Republic', origin='United States', count=1020),\n",
       " Row(dest='Japan', origin='United States', count=1532),\n",
       " Row(dest='United States', origin='Lithuania', count=1),\n",
       " Row(dest='United States', origin='Saint Vincent and the Grenadines', count=17),\n",
       " Row(dest='Finland', origin='United States', count=33),\n",
       " Row(dest='United States', origin='Ukraine', count=15),\n",
       " Row(dest='United States', origin='Guadeloupe', count=31),\n",
       " Row(dest='United States', origin='France', count=914),\n",
       " Row(dest='Aruba', origin='United States', count=347),\n",
       " Row(dest='French Guiana', origin='United States', count=14),\n",
       " Row(dest='United States', origin='Norway', count=33),\n",
       " Row(dest='United States', origin='Kiribati', count=28),\n",
       " Row(dest='India', origin='United States', count=73),\n",
       " Row(dest='British Virgin Islands', origin='United States', count=73),\n",
       " Row(dest='United States', origin='Germany', count=1480),\n",
       " Row(dest='Brazil', origin='United States', count=969),\n",
       " Row(dest='United States', origin='New Zealand', count=77),\n",
       " Row(dest='French Polynesia', origin='United States', count=36),\n",
       " Row(dest='United Arab Emirates', origin='United States', count=157),\n",
       " Row(dest='Singapore', origin='United States', count=27),\n",
       " Row(dest='United States', origin='Mexico', count=6000),\n",
       " Row(dest='Netherlands', origin='United States', count=635),\n",
       " Row(dest='United States', origin='Sweden', count=68),\n",
       " Row(dest='United States', origin='Martinique', count=20),\n",
       " Row(dest='United States', origin='United Arab Emirates', count=142),\n",
       " Row(dest='China', origin='United States', count=504),\n",
       " Row(dest='United States', origin='Philippines', count=109),\n",
       " Row(dest='United States', origin='Nicaragua', count=173),\n",
       " Row(dest='Denmark', origin='United States', count=95),\n",
       " Row(dest='United States', origin='Georgia', count=1),\n",
       " Row(dest='United States', origin='Belgium', count=369),\n",
       " Row(dest='Libya', origin='United States', count=1),\n",
       " Row(dest='Argentina', origin='United States', count=183),\n",
       " Row(dest='Peru', origin='United States', count=246),\n",
       " Row(dest='Cayman Islands', origin='United States', count=251),\n",
       " Row(dest='South Africa', origin='United States', count=24),\n",
       " Row(dest='United States', origin='Argentina', count=152),\n",
       " Row(dest='United States', origin='Iceland', count=138),\n",
       " Row(dest='Spain', origin='United States', count=445),\n",
       " Row(dest='Bermuda', origin='United States', count=191),\n",
       " Row(dest='United States', origin='Austria', count=34),\n",
       " Row(dest='United States', origin='Nigeria', count=26),\n",
       " Row(dest='United States', origin='Bonaire, Sint Eustatius, and Saba', count=49),\n",
       " Row(dest='Kiribati', origin='United States', count=28),\n",
       " Row(dest='Czech Republic', origin='United States', count=23),\n",
       " Row(dest='Saudi Arabia', origin='United States', count=83),\n",
       " Row(dest='Macau', origin='United States', count=2),\n",
       " Row(dest='Belgium', origin='United States', count=376),\n",
       " Row(dest='United States', origin='Israel', count=126),\n",
       " Row(dest='United States', origin='Saint Lucia', count=102),\n",
       " Row(dest='United States', origin='Bahrain', count=2),\n",
       " Row(dest='United States', origin='British Virgin Islands', count=65),\n",
       " Row(dest='Afghanistan', origin='United States', count=8),\n",
       " Row(dest='Curacao', origin='United States', count=106),\n",
       " Row(dest='Georgia', origin='United States', count=1),\n",
       " Row(dest='United States', origin='Guyana', count=29),\n",
       " Row(dest='Philippines', origin='United States', count=127),\n",
       " Row(dest='United States', origin='Denmark', count=103),\n",
       " Row(dest='Grenada', origin='United States', count=67),\n",
       " Row(dest='Cape Verde', origin='United States', count=13),\n",
       " Row(dest='Ukraine', origin='United States', count=15),\n",
       " Row(dest='United States', origin='Papua New Guinea', count=1),\n",
       " Row(dest='Russia', origin='United States', count=199),\n",
       " Row(dest='United States', origin='Saudi Arabia', count=77),\n",
       " Row(dest='Guatemala', origin='United States', count=407),\n",
       " Row(dest='Saint Lucia', origin='United States', count=102),\n",
       " Row(dest='Paraguay', origin='United States', count=85),\n",
       " Row(dest='United States', origin='Curacao', count=97),\n",
       " Row(dest='United States', origin='Taiwan', count=231),\n",
       " Row(dest='United States', origin='South Africa', count=21),\n",
       " Row(dest='Togo', origin='United States', count=1),\n",
       " Row(dest='Turkey', origin='United States', count=104),\n",
       " Row(dest='United Kingdom', origin='United States', count=1726),\n",
       " Row(dest='Romania', origin='United States', count=4),\n",
       " Row(dest='United States', origin='Greenland', count=2),\n",
       " Row(dest='United States', origin='Spain', count=472),\n",
       " Row(dest='Cuba', origin='United States', count=320),\n",
       " Row(dest='United States', origin='Italy', count=447),\n",
       " Row(dest='United States', origin='Switzerland', count=319),\n",
       " Row(dest='Dominica', origin='United States', count=25),\n",
       " Row(dest='United States', origin='Japan', count=1412),\n",
       " Row(dest='Portugal', origin='United States', count=95),\n",
       " Row(dest='United States', origin='Brazil', count=575),\n",
       " Row(dest='Bahrain', origin='United States', count=40),\n",
       " Row(dest='United States', origin='Peru', count=288),\n",
       " Row(dest='Vietnam', origin='United States', count=1),\n",
       " Row(dest='United States', origin='United Kingdom', count=1649),\n",
       " Row(dest='United States', origin='Belize', count=112),\n",
       " Row(dest='Belize', origin='United States', count=113),\n",
       " Row(dest='United States', origin='Ghana', count=39),\n",
       " Row(dest='Mauritania', origin='United States', count=1),\n",
       " Row(dest='Saint Martin', origin='United States', count=1),\n",
       " Row(dest='United States', origin='Indonesia', count=1),\n",
       " Row(dest='United States', origin='Fiji', count=48),\n",
       " Row(dest='United States', origin='Mauritania', count=1),\n",
       " Row(dest='United States', origin='Canada', count=8650),\n",
       " Row(dest='United States', origin='Antigua and Barbuda', count=152),\n",
       " Row(dest='United States', origin='French Polynesia', count=36),\n",
       " Row(dest='Nicaragua', origin='United States', count=180),\n",
       " Row(dest='Namibia', origin='United States', count=1),\n",
       " Row(dest='United States', origin='Latvia', count=12),\n",
       " Row(dest='United States', origin='Dominica', count=29),\n",
       " Row(dest='United States', origin='Czech Republic', count=25),\n",
       " Row(dest='United States', origin='Australia', count=231),\n",
       " Row(dest='United States', origin='Cook Islands', count=12),\n",
       " Row(dest='Austria', origin='United States', count=34),\n",
       " Row(dest='Palau', origin='United States', count=41),\n",
       " Row(dest='Jordan', origin='United States', count=42),\n",
       " Row(dest='South Korea', origin='United States', count=713),\n",
       " Row(dest='Ghana', origin='United States', count=39),\n",
       " Row(dest='Angola', origin='United States', count=13),\n",
       " Row(dest='Guadeloupe', origin='United States', count=33),\n",
       " Row(dest='France', origin='United States', count=876),\n",
       " Row(dest='Nigeria', origin='United States', count=31),\n",
       " Row(dest='Poland', origin='United States', count=39),\n",
       " Row(dest='United States', origin='Uruguay', count=27),\n",
       " Row(dest='Greenland', origin='United States', count=1),\n",
       " Row(dest='Chile', origin='United States', count=178),\n",
       " Row(dest='United States', origin='Bermuda', count=196),\n",
       " Row(dest='Lebanon', origin='United States', count=1),\n",
       " Row(dest='United States', origin='Cuba', count=326),\n",
       " Row(dest='United States', origin='Colombia', count=777),\n",
       " Row(dest='United States', origin='Barbados', count=125),\n",
       " Row(dest='United States', origin='Qatar', count=48),\n",
       " Row(dest='Australia', origin='United States', count=280),\n",
       " Row(dest='United States', origin='Cayman Islands', count=262),\n",
       " Row(dest='United States', origin='Jordan', count=45),\n",
       " Row(dest='United States', origin='Bolivia', count=51),\n",
       " Row(dest='United States', origin='Trinidad and Tobago', count=213),\n",
       " Row(dest='Uruguay', origin='United States', count=50),\n",
       " Row(dest='Cook Islands', origin='United States', count=12),\n",
       " Row(dest='United States', origin='Saint Kitts and Nevis', count=120),\n",
       " Row(dest='Bulgaria', origin='United States', count=4),\n",
       " Row(dest='United States', origin='French Guiana', count=11),\n",
       " Row(dest='United States', origin='Haiti', count=197),\n",
       " Row(dest='Bonaire, Sint Eustatius, and Saba', origin='United States', count=50),\n",
       " Row(dest='Greece', origin='United States', count=38),\n",
       " Row(dest='United States', origin='Romania', count=12),\n",
       " Row(dest='United States', origin='Croatia', count=1),\n",
       " Row(dest='United States', origin='Ireland', count=266),\n",
       " Row(dest='Egypt', origin='United States', count=13),\n",
       " Row(dest='United States', origin='India', count=60),\n",
       " Row(dest='Equatorial Guinea', origin='United States', count=1),\n",
       " Row(dest='United States', origin='Niger', count=1),\n",
       " Row(dest='United States', origin='Singapore', count=22),\n",
       " Row(dest='United States', origin='Grenada', count=40),\n",
       " Row(dest='Costa Rica', origin='United States', count=509),\n",
       " Row(dest='Senegal', origin='United States', count=28),\n",
       " Row(dest='Guyana', origin='United States', count=34),\n",
       " Row(dest='United States', origin='Sint Maarten', count=260),\n",
       " Row(dest='United States', origin='Marshall Islands', count=33),\n",
       " Row(dest='Bolivia', origin='United States', count=33),\n",
       " Row(dest='Anguilla', origin='United States', count=22),\n",
       " Row(dest='United States', origin='Paraguay', count=15),\n",
       " Row(dest='Algeria', origin='United States', count=2),\n",
       " Row(dest='Turks and Caicos Islands', origin='United States', count=181),\n",
       " Row(dest='Saint Vincent and the Grenadines', origin='United States', count=4),\n",
       " Row(dest='Lithuania', origin='United States', count=1),\n",
       " Row(dest='Pakistan', origin='United States', count=14),\n",
       " Row(dest='Italy', origin='United States', count=327),\n",
       " Row(dest='United States', origin='Russia', count=167),\n",
       " Row(dest='United States', origin='Federated States of Micronesia', count=62),\n",
       " Row(dest='United States', origin='Netherlands', count=618),\n",
       " Row(dest='Iceland', origin='United States', count=146),\n",
       " Row(dest='Marshall Islands', origin='United States', count=50),\n",
       " Row(dest='Luxembourg', origin='United States', count=160),\n",
       " Row(dest='Honduras', origin='United States', count=423),\n",
       " Row(dest='Rwanda', origin='United States', count=1),\n",
       " Row(dest='The Bahamas', origin='United States', count=865),\n",
       " Row(dest='El Salvador', origin='United States', count=551),\n",
       " Row(dest='United States', origin='Senegal', count=32),\n",
       " Row(dest='Samoa', origin='United States', count=25),\n",
       " Row(dest='United States', origin='Angola', count=12),\n",
       " Row(dest='Kazakhstan', origin='United States', count=2),\n",
       " Row(dest='Switzerland', origin='United States', count=288),\n",
       " Row(dest='United States', origin='Anguilla', count=18),\n",
       " Row(dest='United States', origin='Mali', count=1),\n",
       " Row(dest='Sint Maarten', origin='United States', count=271),\n",
       " Row(dest='Hong Kong', origin='United States', count=282),\n",
       " Row(dest='Trinidad and Tobago', origin='United States', count=183),\n",
       " Row(dest='Latvia', origin='United States', count=29),\n",
       " Row(dest='United States', origin='Ecuador', count=307),\n",
       " Row(dest='Suriname', origin='United States', count=15),\n",
       " Row(dest='Mexico', origin='United States', count=6372),\n",
       " Row(dest='Ecuador', origin='United States', count=252),\n",
       " Row(dest='United States', origin='Portugal', count=126),\n",
       " Row(dest='United States', origin='Costa Rica', count=549),\n",
       " Row(dest='United States', origin='Guatemala', count=331),\n",
       " Row(dest='United States', origin='Suriname', count=21),\n",
       " Row(dest='Colombia', origin='United States', count=798),\n",
       " Row(dest='United States', origin='Cape Verde', count=15),\n",
       " Row(dest='Norway', origin='United States', count=48),\n",
       " Row(dest='United States', origin='Jamaica', count=599),\n",
       " Row(dest='United States', origin='Malaysia', count=1),\n",
       " Row(dest='United States', origin='Morocco', count=16),\n",
       " Row(dest='Thailand', origin='United States', count=2),\n",
       " Row(dest='Burundi', origin='United States', count=1),\n",
       " Row(dest='Venezuela', origin='United States', count=350),\n",
       " Row(dest='United States', origin='Samoa', count=25),\n",
       " Row(dest='United States', origin='Palau', count=35),\n",
       " Row(dest='United States', origin='Venezuela', count=295),\n",
       " Row(dest='Panama', origin='United States', count=418),\n",
       " Row(dest='United States', origin='Finland', count=15),\n",
       " Row(dest='Morocco', origin='United States', count=18),\n",
       " Row(dest='Antigua and Barbuda', origin='United States', count=123),\n",
       " Row(dest='United States', origin='Chile', count=171),\n",
       " Row(dest='Azerbaijan', origin='United States', count=3),\n",
       " Row(dest='United States', origin='Greece', count=14),\n",
       " Row(dest='United States', origin='The Bahamas', count=897),\n",
       " Row(dest='New Zealand', origin='United States', count=114),\n",
       " Row(dest='United States', origin='Hong Kong', count=344),\n",
       " Row(dest='Hungary', origin='United States', count=1),\n",
       " Row(dest='United States', origin='China', count=614),\n",
       " Row(dest='United States', origin='Kuwait', count=24),\n",
       " Row(dest='Sweden', origin='United States', count=70),\n",
       " Row(dest='United States', origin='Egypt', count=12),\n",
       " Row(dest='United States', origin='Dominican Republic', count=1119),\n",
       " Row(dest='Israel', origin='United States', count=119),\n",
       " Row(dest='United States', origin='United States', count=343132),\n",
       " Row(dest='United States', origin='Luxembourg', count=134),\n",
       " Row(dest='Ethiopia', origin='United States', count=12),\n",
       " Row(dest='United States', origin='Poland', count=37),\n",
       " Row(dest='Martinique', origin='United States', count=26),\n",
       " Row(dest='United States', origin='Zimbabwe', count=2),\n",
       " Row(dest='United States', origin='Saint Barthelemy', count=58),\n",
       " Row(dest='Saint Barthelemy', origin='United States', count=67),\n",
       " Row(dest='United States', origin='Turkey', count=100),\n",
       " Row(dest='Barbados', origin='United States', count=97),\n",
       " Row(dest='Germany', origin='United States', count=1423),\n",
       " Row(dest='Kyrgyzstan', origin='United States', count=1),\n",
       " Row(dest='United States', origin='South Korea', count=687),\n",
       " Row(dest='United States', origin='El Salvador', count=466),\n",
       " Row(dest='Ireland', origin='United States', count=255),\n",
       " Row(dest='Malaysia', origin='United States', count=2),\n",
       " Row(dest='United States', origin='Aruba', count=344),\n",
       " Row(dest='United States', origin='Panama', count=419),\n",
       " Row(dest='United States', origin='Ethiopia', count=12),\n",
       " Row(dest='United States', origin='Turks and Caicos Islands', count=178),\n",
       " Row(dest='United States', origin='Pakistan', count=12),\n",
       " Row(dest='Cyprus', origin='United States', count=2),\n",
       " Row(dest='United States', origin='Honduras', count=392),\n",
       " Row(dest='Fiji', origin='United States', count=34),\n",
       " Row(dest='Qatar', origin='United States', count=71),\n",
       " Row(dest='Saint Kitts and Nevis', origin='United States', count=99),\n",
       " Row(dest='Kuwait', origin='United States', count=24),\n",
       " Row(dest='Haiti', origin='United States', count=199),\n",
       " Row(dest='Taiwan', origin='United States', count=243),\n",
       " Row(dest='Canada', origin='United States', count=7860),\n",
       " Row(dest='Federated States of Micronesia', origin='United States', count=53),\n",
       " Row(dest='Jamaica', origin='United States', count=581),\n",
       " Row(dest='Dominican Republic', origin='United States', count=1068),\n",
       " Row(dest='Japan', origin='United States', count=1613),\n",
       " Row(dest='United States', origin='Saint Vincent and the Grenadines', count=10),\n",
       " Row(dest='Finland', origin='United States', count=17),\n",
       " Row(dest='United States', origin='Ukraine', count=4),\n",
       " Row(dest='United States', origin='Guadeloupe', count=42),\n",
       " Row(dest='United States', origin='France', count=848),\n",
       " Row(dest='United States', origin='Norway', count=46),\n",
       " Row(dest='Aruba', origin='United States', count=352),\n",
       " Row(dest='French Guiana', origin='United States', count=7),\n",
       " Row(dest='United States', origin='Kiribati', count=29),\n",
       " Row(dest='Zimbabwe', origin='United States', count=2),\n",
       " Row(dest='India', origin='United States', count=61),\n",
       " Row(dest='British Virgin Islands', origin='United States', count=101),\n",
       " Row(dest='United States', origin='Germany', count=1402),\n",
       " Row(dest='United States', origin='New Zealand', count=77),\n",
       " Row(dest='Brazil', origin='United States', count=912),\n",
       " Row(dest='Saint Helena, Ascension, and Tristan da Cunha', origin='United States', count=1),\n",
       " Row(dest='United States', origin='Cambodia', count=3),\n",
       " Row(dest='French Polynesia', origin='United States', count=43),\n",
       " Row(dest='United Arab Emirates', origin='United States', count=202),\n",
       " Row(dest='Singapore', origin='United States', count=21),\n",
       " Row(dest='Tanzania', origin='United States', count=2),\n",
       " Row(dest='United States', origin='Mexico', count=6354),\n",
       " Row(dest='Netherlands', origin='United States', count=640),\n",
       " Row(dest='United States', origin='Sweden', count=73),\n",
       " Row(dest='United States', origin='Martinique', count=24),\n",
       " Row(dest='United States', origin='United Arab Emirates', count=187),\n",
       " Row(dest='Denmark', origin='United States', count=104),\n",
       " Row(dest='China', origin='United States', count=543),\n",
       " Row(dest='United States', origin='Nicaragua', count=185),\n",
       " Row(dest='United States', origin='Philippines', count=112),\n",
       " Row(dest='United States', origin='Belgium', count=193),\n",
       " Row(dest='Nepal', origin='United States', count=1),\n",
       " Row(dest='Libya', origin='United States', count=1),\n",
       " Row(dest='Argentina', origin='United States', count=176),\n",
       " Row(dest='Peru', origin='United States', count=255),\n",
       " Row(dest='Cayman Islands', origin='United States', count=274),\n",
       " Row(dest='South Africa', origin='United States', count=24),\n",
       " Row(dest='United States', origin='Iceland', count=151),\n",
       " Row(dest='United States', origin='Argentina', count=140),\n",
       " Row(dest='Spain', origin='United States', count=370),\n",
       " Row(dest='Bermuda', origin='United States', count=163),\n",
       " Row(dest='United States', origin='Nigeria', count=49),\n",
       " Row(dest='United States', origin='Austria', count=39),\n",
       " Row(dest='United States', origin='Bonaire, Sint Eustatius, and Saba', count=54),\n",
       " Row(dest='Kiribati', origin='United States', count=29),\n",
       " Row(dest='Saudi Arabia', origin='United States', count=86),\n",
       " Row(dest='Czech Republic', origin='United States', count=10),\n",
       " Row(dest='Macau', origin='United States', count=2),\n",
       " Row(dest='Belgium', origin='United States', count=265),\n",
       " Row(dest='United States', origin='Israel', count=107),\n",
       " Row(dest='United States', origin='Saint Lucia', count=92),\n",
       " Row(dest='Sierra Leone', origin='United States', count=1),\n",
       " Row(dest='United States', origin='Bahrain', count=1),\n",
       " Row(dest='United States', origin='British Virgin Islands', count=94),\n",
       " Row(dest='United States', origin='Saint Helena, Ascension, and Tristan da Cunha', count=2),\n",
       " Row(dest='Curacao', origin='United States', count=97),\n",
       " Row(dest='United States', origin='Denmark', count=106),\n",
       " Row(dest='United States', origin='Guyana', count=52),\n",
       " Row(dest='Philippines', origin='United States', count=136),\n",
       " Row(dest='Grenada', origin='United States', count=42),\n",
       " Row(dest='Cape Verde', origin='United States', count=21),\n",
       " Row(dest='Ukraine', origin='United States', count=4),\n",
       " Row(dest='Russia', origin='United States', count=194),\n",
       " Row(dest='United States', origin='Saudi Arabia', count=84),\n",
       " Row(dest='Guatemala', origin='United States', count=376),\n",
       " Row(dest='Saint Lucia', origin='United States', count=91),\n",
       " Row(dest='Paraguay', origin='United States', count=75),\n",
       " Row(dest='United States', origin='Curacao', count=89),\n",
       " Row(dest='United States', origin='Taiwan', count=235),\n",
       " Row(dest='United States', origin='South Africa', count=26),\n",
       " Row(dest='Niger', origin='United States', count=1),\n",
       " Row(dest='Turkey', origin='United States', count=99),\n",
       " Row(dest='United Kingdom', origin='United States', count=1802),\n",
       " Row(dest='Romania', origin='United States', count=14),\n",
       " Row(dest='United States', origin='Greenland', count=3),\n",
       " Row(dest='Papua New Guinea', origin='United States', count=2),\n",
       " Row(dest='United States', origin='Spain', count=377),\n",
       " Row(dest='United States', origin='Italy', count=333),\n",
       " Row(dest='Cuba', origin='United States', count=337),\n",
       " Row(dest='United States', origin='Switzerland', count=285),\n",
       " Row(dest='Dominica', origin='United States', count=19),\n",
       " Row(dest='Portugal', origin='United States', count=116),\n",
       " Row(dest='United States', origin='Japan', count=1476),\n",
       " Row(dest='United States', origin='Brazil', count=510),\n",
       " Row(dest='Bahrain', origin='United States', count=50),\n",
       " Row(dest='United States', origin='Peru', count=300),\n",
       " Row(dest='Indonesia', origin='United States', count=1),\n",
       " Row(dest='United States', origin='United Kingdom', count=1711),\n",
       " Row(dest='United States', origin='Belize', count=127),\n",
       " Row(dest='Belize', origin='United States', count=137),\n",
       " Row(dest='Kenya', origin='United States', count=1),\n",
       " Row(dest='United States', origin='Ghana', count=16),\n",
       " Row(dest='United States', origin='Fiji', count=30),\n",
       " Row(dest='United States', origin='Canada', count=7983),\n",
       " Row(dest='United States', origin='French Polynesia', count=40),\n",
       " Row(dest='United States', origin='Antigua and Barbuda', count=123),\n",
       " Row(dest='Brunei', origin='United States', count=1),\n",
       " Row(dest='Nicaragua', origin='United States', count=178),\n",
       " Row(dest='United States', origin='Latvia', count=12),\n",
       " Row(dest='United States', origin='Dominica', count=25),\n",
       " Row(dest='United States', origin='Czech Republic', count=9),\n",
       " Row(dest='United States', origin='Cook Islands', count=12),\n",
       " Row(dest='Austria', origin='United States', count=35),\n",
       " Row(dest='United States', origin='Australia', count=222),\n",
       " Row(dest='Jordan', origin='United States', count=74),\n",
       " Row(dest='Palau', origin='United States', count=35),\n",
       " Row(dest='South Korea', origin='United States', count=842),\n",
       " Row(dest='Angola', origin='United States', count=12),\n",
       " Row(dest='Ghana', origin='United States', count=16),\n",
       " Row(dest='New Caledonia', origin='United States', count=1),\n",
       " Row(dest='Guadeloupe', origin='United States', count=41),\n",
       " Row(dest='France', origin='United States', count=837),\n",
       " Row(dest='Poland', origin='United States', count=40),\n",
       " Row(dest='Nigeria', origin='United States', count=58),\n",
       " Row(dest='United States', origin='Uruguay', count=20),\n",
       " Row(dest='Greenland', origin='United States', count=1),\n",
       " Row(dest='Chile', origin='United States', count=147),\n",
       " Row(dest='United States', origin='Bermuda', count=166),\n",
       " Row(dest='Lebanon', origin='United States', count=1),\n",
       " ...]"
      ]
     },
     "metadata": {
      "application/vnd.databricks.v1+output": {
       "addedWidgets": {},
       "arguments": {},
       "data": "Out[38]: [Row(dest='United States', origin='Romania', count=1),\n Row(dest='United States', origin='Ireland', count=264),\n Row(dest='United States', origin='India', count=69),\n Row(dest='Egypt', origin='United States', count=24),\n Row(dest='Equatorial Guinea', origin='United States', count=1),\n Row(dest='United States', origin='Singapore', count=25),\n Row(dest='United States', origin='Grenada', count=54),\n Row(dest='Costa Rica', origin='United States', count=477),\n Row(dest='Senegal', origin='United States', count=29),\n Row(dest='United States', origin='Marshall Islands', count=44),\n Row(dest='Guyana', origin='United States', count=17),\n Row(dest='United States', origin='Sint Maarten', count=53),\n Row(dest='Malta', origin='United States', count=1),\n Row(dest='Bolivia', origin='United States', count=46),\n Row(dest='Anguilla', origin='United States', count=21),\n Row(dest='Turks and Caicos Islands', origin='United States', count=136),\n Row(dest='United States', origin='Afghanistan', count=2),\n Row(dest='Saint Vincent and the Grenadines', origin='United States', count=1),\n Row(dest='Italy', origin='United States', count=390),\n Row(dest='United States', origin='Russia', count=156),\n Row(dest='United States', origin='Federated States of Micronesia', count=48),\n Row(dest='Pakistan', origin='United States', count=9),\n Row(dest='United States', origin='Netherlands', count=570),\n Row(dest='Iceland', origin='United States', count=118),\n Row(dest='Marshall Islands', origin='United States', count=77),\n Row(dest='Luxembourg', origin='United States', count=91),\n Row(dest='Honduras', origin='United States', count=391),\n Row(dest='The Bahamas', origin='United States', count=903),\n Row(dest='El Salvador', origin='United States', count=519),\n Row(dest='United States', origin='Senegal', count=46),\n Row(dest='Samoa', origin='United States', count=28),\n Row(dest='United States', origin='Angola', count=18),\n Row(dest='Kazakhstan', origin='United States', count=3),\n Row(dest='Switzerland', origin='United States', count=315),\n Row(dest='United States', origin='Anguilla', count=20),\n Row(dest='Sint Maarten', origin='United States', count=61),\n Row(dest='Hong Kong', origin='United States', count=252),\n Row(dest='Trinidad and Tobago', origin='United States', count=187),\n Row(dest='Latvia', origin='United States', count=12),\n Row(dest='United States', origin='Ecuador', count=345),\n Row(dest='Slovakia', origin='United States', count=1),\n Row(dest='Suriname', origin='United States', count=12),\n Row(dest='Mexico', origin='United States', count=6200),\n Row(dest='United States', origin='Cyprus', count=1),\n Row(dest='Ecuador', origin='United States', count=272),\n Row(dest='United States', origin='Bosnia and Herzegovina', count=1),\n Row(dest='United States', origin='Portugal', count=104),\n Row(dest='United States', origin='Costa Rica', count=501),\n Row(dest='United States', origin='Guatemala', count=333),\n Row(dest='United States', origin='Suriname', count=13),\n Row(dest='Colombia', origin='United States', count=785),\n Row(dest='United States', origin='Cape Verde', count=18),\n Row(dest='United States', origin='Jamaica', count=757),\n Row(dest='United States', origin='Malaysia', count=3),\n Row(dest='Norway', origin='United States', count=29),\n Row(dest='United States', origin='Morocco', count=16),\n Row(dest='Thailand', origin='United States', count=16),\n Row(dest='Venezuela', origin='United States', count=377),\n Row(dest='United States', origin='Palau', count=30),\n Row(dest='United States', origin='Samoa', count=28),\n Row(dest='United States', origin='Algeria', count=1),\n Row(dest='United States', origin='Venezuela', count=341),\n Row(dest='Panama', origin='United States', count=355),\n Row(dest='United States', origin='Finland', count=20),\n Row(dest='United States', origin='Chile', count=176),\n Row(dest='Morocco', origin='United States', count=16),\n Row(dest='United States', origin='Greece', count=61),\n Row(dest='Antigua and Barbuda', origin='United States', count=123),\n Row(dest='Azerbaijan', origin='United States', count=1),\n Row(dest='United States', origin='The Bahamas', count=959),\n Row(dest='New Zealand', origin='United States', count=86),\n Row(dest='Liberia', origin='United States', count=1),\n Row(dest='United States', origin='Hong Kong', count=293),\n Row(dest='Hungary', origin='United States', count=14),\n Row(dest='United States', origin='China', count=505),\n Row(dest='United States', origin='Vietnam', count=1),\n Row(dest='Sweden', origin='United States', count=65),\n Row(dest='United States', origin='Kuwait', count=25),\n Row(dest='United States', origin='Dominican Republic', count=1150),\n Row(dest='United States', origin='Egypt', count=25),\n Row(dest='Israel', origin='United States', count=117),\n Row(dest='United States', origin='United States', count=348113),\n Row(dest='United States', origin='Luxembourg', count=90),\n Row(dest='Ethiopia', origin='United States', count=12),\n Row(dest='United States', origin='Poland', count=61),\n Row(dest='Martinique', origin='United States', count=23),\n Row(dest='Saint Barthelemy', origin='United States', count=28),\n Row(dest='United States', origin='Saint Barthelemy', count=29),\n Row(dest='United States', origin='Turkey', count=87),\n Row(dest='Barbados', origin='United States', count=130),\n Row(dest='United States', origin='Estonia', count=1),\n Row(dest='United States', origin='Azerbaijan', count=1),\n Row(dest='Germany', origin='United States', count=1392),\n Row(dest='Kyrgyzstan', origin='United States', count=2),\n Row(dest='United States', origin='South Korea', count=621),\n Row(dest='United States', origin='El Salvador', count=464),\n Row(dest='Ireland', origin='United States', count=231),\n Row(dest='United States', origin='Hungary', count=15),\n Row(dest='United States', origin='Serbia', count=1),\n Row(dest='Malaysia', origin='United States', count=1),\n Row(dest='United States', origin='Panama', count=363),\n Row(dest='United States', origin='Ethiopia', count=12),\n Row(dest='United States', origin='Aruba', count=349),\n Row(dest='United States', origin='Thailand', count=13),\n Row(dest='United States', origin='Netherlands Antilles', count=289),\n Row(dest='United States', origin='Turks and Caicos Islands', count=147),\n Row(dest='Cyprus', origin='United States', count=2),\n Row(dest='United States', origin='Pakistan', count=15),\n Row(dest='United States', origin='Honduras', count=393),\n Row(dest='Qatar', origin='United States', count=41),\n Row(dest='Fiji', origin='United States', count=53),\n Row(dest='Saint Kitts and Nevis', origin='United States', count=113),\n Row(dest='Taiwan', origin='United States', count=275),\n Row(dest='Haiti', origin='United States', count=238),\n Row(dest='Kuwait', origin='United States', count=26),\n Row(dest='Canada', origin='United States', count=8271),\n Row(dest='Federated States of Micronesia', origin='United States', count=46),\n Row(dest='United States', origin='Liberia', count=1),\n Row(dest='Jamaica', origin='United States', count=733),\n Row(dest='United States', origin='Malta', count=2),\n Row(dest='Dominican Republic', origin='United States', count=1109),\n Row(dest='Japan', origin='United States', count=1383),\n Row(dest='United States', origin='Saint Vincent and the Grenadines', count=16),\n Row(dest='United States', origin='Guadeloupe', count=33),\n Row(dest='Finland', origin='United States', count=24),\n Row(dest='United States', origin='Ukraine', count=17),\n Row(dest='United States', origin='France', count=776),\n Row(dest='United States', origin='Norway', count=36),\n Row(dest='Aruba', origin='United States', count=359),\n Row(dest='French Guiana', origin='United States', count=4),\n Row(dest='United States', origin='Kiribati', count=18),\n Row(dest='India', origin='United States', count=66),\n Row(dest='British Virgin Islands', origin='United States', count=49),\n Row(dest='United States', origin='Germany', count=1406),\n Row(dest='Brazil', origin='United States', count=995),\n Row(dest='United States', origin='New Zealand', count=71),\n Row(dest='French Polynesia', origin='United States', count=38),\n Row(dest='United Arab Emirates', origin='United States', count=165),\n Row(dest='Singapore', origin='United States', count=25),\n Row(dest='United States', origin='Mexico', count=6220),\n Row(dest='Netherlands', origin='United States', count=586),\n Row(dest='United States', origin='Sweden', count=73),\n Row(dest='United States', origin='Gabon', count=1),\n Row(dest='United States', origin='Martinique', count=20),\n Row(dest='United States', origin='United Arab Emirates', count=156),\n Row(dest='United States', origin='Bulgaria', count=2),\n Row(dest='China', origin='United States', count=448),\n Row(dest='Denmark', origin='United States', count=98),\n Row(dest='United States', origin='Philippines', count=116),\n Row(dest='United States', origin='Nicaragua', count=181),\n Row(dest='United States', origin='Belgium', count=355),\n Row(dest='Peru', origin='United States', count=212),\n Row(dest='Argentina', origin='United States', count=184),\n Row(dest='Cayman Islands', origin='United States', count=247),\n Row(dest='South Africa', origin='United States', count=25),\n Row(dest='United States', origin='Iceland', count=129),\n Row(dest='United States', origin='Argentina', count=159),\n Row(dest='Spain', origin='United States', count=422),\n Row(dest='Netherlands Antilles', origin='United States', count=286),\n Row(dest='Bermuda', origin='United States', count=183),\n Row(dest='United States', origin='Austria', count=34),\n Row(dest='United States', origin='Nigeria', count=18),\n Row(dest='United States', origin='Bonaire, Sint Eustatius, and Saba', count=16),\n Row(dest='Kiribati', origin='United States', count=17),\n Row(dest='Saudi Arabia', origin='United States', count=42),\n Row(dest='Czech Republic', origin='United States', count=21),\n Row(dest='Belgium', origin='United States', count=408),\n Row(dest='United States', origin='Israel', count=122),\n Row(dest='United States', origin='Bahrain', count=1),\n Row(dest='United States', origin='Saint Lucia', count=121),\n Row(dest='Afghanistan', origin='United States', count=11),\n Row(dest='United States', origin='British Virgin Islands', count=47),\n Row(dest='Curacao', origin='United States', count=20),\n Row(dest='Georgia', origin='United States', count=2),\n Row(dest='United States', origin='Guyana', count=20),\n Row(dest='United States', origin='Denmark', count=107),\n Row(dest='Philippines', origin='United States', count=132),\n Row(dest='Grenada', origin='United States', count=65),\n Row(dest='Cape Verde', origin='United States', count=18),\n Row(dest='Ukraine', origin='United States', count=19),\n Row(dest='United States', origin='Papua New Guinea', count=1),\n Row(dest='United States', origin='Saudi Arabia', count=54),\n Row(dest='Russia', origin='United States', count=152),\n Row(dest='Guatemala', origin='United States', count=386),\n Row(dest='Saint Lucia', origin='United States', count=116),\n Row(dest='Paraguay', origin='United States', count=90),\n Row(dest='United States', origin='Curacao', count=14),\n Row(dest='United States', origin='Taiwan', count=252),\n Row(dest='United States', origin='South Africa', count=15),\n Row(dest='Turkey', origin='United States', count=75),\n Row(dest='United Kingdom', origin='United States', count=1629),\n Row(dest='United States', origin='Greenland', count=2),\n Row(dest='United States', origin='Spain', count=442),\n Row(dest='Cuba', origin='United States', count=243),\n Row(dest='United States', origin='Italy', count=433),\n Row(dest='United States', origin='Switzerland', count=334),\n Row(dest='Dominica', origin='United States', count=28),\n Row(dest='United States', origin='Japan', count=1307),\n Row(dest='Portugal', origin='United States', count=102),\n Row(dest='United States', origin='Brazil', count=578),\n Row(dest='Bahrain', origin='United States', count=30),\n Row(dest='United States', origin='Peru', count=284),\n Row(dest='Vietnam', origin='United States', count=1),\n Row(dest='United States', origin='United Kingdom', count=1503),\n Row(dest='United States', origin='Belize', count=118),\n Row(dest='Belize', origin='United States', count=121),\n Row(dest='United States', origin='Ghana', count=28),\n Row(dest='United States', origin='Indonesia', count=1),\n Row(dest='United States', origin='Fiji', count=51),\n Row(dest='United States', origin='Canada', count=8305),\n Row(dest='United States', origin='French Polynesia', count=38),\n Row(dest='United States', origin='Antigua and Barbuda', count=121),\n Row(dest='United States', origin='Burkina Faso', count=1),\n Row(dest='Nicaragua', origin='United States', count=178),\n Row(dest='United States', origin='Latvia', count=13),\n Row(dest='United States', origin='Dominica', count=32),\n Row(dest='United States', origin='Czech Republic', count=22),\n Row(dest='United States', origin='Australia', count=216),\n Row(dest='Austria', origin='United States', count=36),\n Row(dest='United States', origin='Cook Islands', count=12),\n Row(dest='Jordan', origin='United States', count=50),\n Row(dest='Palau', origin='United States', count=31),\n Row(dest='Uganda', origin='United States', count=2),\n Row(dest='United States', origin='Cameroon', count=1),\n Row(dest='South Korea', origin='United States', count=683),\n Row(dest='Angola', origin='United States', count=14),\n Row(dest='Ghana', origin='United States', count=27),\n Row(dest='Guadeloupe', origin='United States', count=40),\n Row(dest='France', origin='United States', count=774),\n Row(dest='United States', origin='Kyrgyzstan', count=12),\n Row(dest='Poland', origin='United States', count=62),\n Row(dest='Nigeria', origin='United States', count=16),\n Row(dest='United States', origin='Uruguay', count=24),\n Row(dest='Greenland', origin='United States', count=2),\n Row(dest='Chile', origin='United States', count=166),\n Row(dest='United States', origin='Bermuda', count=180),\n Row(dest='United States', origin='Cuba', count=235),\n Row(dest='United States', origin='Colombia', count=832),\n Row(dest='United States', origin='Qatar', count=40),\n Row(dest='United States', origin='Barbados', count=119),\n Row(dest='Australia', origin='United States', count=290),\n Row(dest='United States', origin='Jordan', count=51),\n Row(dest='United States', origin='Cayman Islands', count=251),\n Row(dest='United States', origin='Trinidad and Tobago', count=200),\n Row(dest='United States', origin='Bolivia', count=39),\n Row(dest='United States', origin='Slovakia', count=1),\n Row(dest='Uruguay', origin='United States', count=54),\n Row(dest='Cook Islands', origin='United States', count=13),\n Row(dest='United States', origin='Saint Kitts and Nevis', count=127),\n Row(dest='Bulgaria', origin='United States', count=1),\n Row(dest='United States', origin='French Guiana', count=1),\n Row(dest='United States', origin='Haiti', count=226),\n Row(dest='United States', origin='Uganda', count=1),\n Row(dest='Bonaire, Sint Eustatius, and Saba', origin='United States', count=16),\n Row(dest='Greece', origin='United States', count=50),\n Row(dest='United States', origin='Romania', count=15),\n Row(dest='United States', origin='Croatia', count=1),\n Row(dest='United States', origin='Ireland', count=344),\n Row(dest='Egypt', origin='United States', count=15),\n Row(dest='United States', origin='India', count=62),\n Row(dest='United States', origin='Singapore', count=1),\n Row(dest='United States', origin='Grenada', count=62),\n Row(dest='Costa Rica', origin='United States', count=588),\n Row(dest='Senegal', origin='United States', count=40),\n Row(dest='Moldova', origin='United States', count=1),\n Row(dest='United States', origin='Sint Maarten', count=325),\n Row(dest='United States', origin='Marshall Islands', count=39),\n Row(dest='Guyana', origin='United States', count=64),\n Row(dest='Malta', origin='United States', count=1),\n Row(dest='Anguilla', origin='United States', count=41),\n Row(dest='Bolivia', origin='United States', count=30),\n Row(dest='United States', origin='Paraguay', count=6),\n Row(dest='Algeria', origin='United States', count=4),\n Row(dest='Turks and Caicos Islands', origin='United States', count=230),\n Row(dest='United States', origin='Gibraltar', count=1),\n Row(dest='Saint Vincent and the Grenadines', origin='United States', count=1),\n Row(dest='Italy', origin='United States', count=382),\n Row(dest='United States', origin='Federated States of Micronesia', count=69),\n Row(dest='United States', origin='Russia', count=161),\n Row(dest='Pakistan', origin='United States', count=12),\n Row(dest='United States', origin='Netherlands', count=660),\n Row(dest='Iceland', origin='United States', count=181),\n Row(dest='Marshall Islands', origin='United States', count=42),\n Row(dest='Luxembourg', origin='United States', count=155),\n Row(dest='Honduras', origin='United States', count=362),\n Row(dest='The Bahamas', origin='United States', count=955),\n Row(dest='United States', origin='Senegal', count=42),\n Row(dest='El Salvador', origin='United States', count=561),\n Row(dest='Samoa', origin='United States', count=25),\n Row(dest='United States', origin='Angola', count=13),\n Row(dest='Switzerland', origin='United States', count=294),\n Row(dest='United States', origin='Anguilla', count=38),\n Row(dest='Sint Maarten', origin='United States', count=325),\n Row(dest='Hong Kong', origin='United States', count=332),\n Row(dest='Trinidad and Tobago', origin='United States', count=211),\n Row(dest='Latvia', origin='United States', count=19),\n Row(dest='United States', origin='Ecuador', count=300),\n Row(dest='Suriname', origin='United States', count=1),\n Row(dest='Mexico', origin='United States', count=7140),\n Row(dest='United States', origin='Cyprus', count=1),\n Row(dest='Ecuador', origin='United States', count=268),\n Row(dest='United States', origin='Portugal', count=134),\n Row(dest='United States', origin='Costa Rica', count=608),\n Row(dest='United States', origin='Guatemala', count=318),\n Row(dest='United States', origin='Suriname', count=34),\n Row(dest='Colombia', origin='United States', count=873),\n Row(dest='United States', origin='Cape Verde', count=14),\n Row(dest='United States', origin='Jamaica', count=712),\n Row(dest='Norway', origin='United States', count=121),\n Row(dest='United States', origin='Malaysia', count=3),\n Row(dest='United States', origin='Morocco', count=19),\n Row(dest='Thailand', origin='United States', count=3),\n Row(dest='United States', origin='Samoa', count=25),\n Row(dest='Venezuela', origin='United States', count=290),\n Row(dest='United States', origin='Palau', count=31),\n Row(dest='United States', origin='Venezuela', count=246),\n Row(dest='Panama', origin='United States', count=510),\n Row(dest='Antigua and Barbuda', origin='United States', count=126),\n Row(dest='United States', origin='Chile', count=185),\n Row(dest='Morocco', origin='United States', count=15),\n Row(dest='United States', origin='Finland', count=28),\n Row(dest='Azerbaijan', origin='United States', count=21),\n Row(dest='United States', origin='Greece', count=23),\n Row(dest='United States', origin='The Bahamas', count=986),\n Row(dest='New Zealand', origin='United States', count=111),\n Row(dest='Liberia', origin='United States', count=2),\n Row(dest='United States', origin='Hong Kong', count=414),\n Row(dest='Hungary', origin='United States', count=2),\n Row(dest='United States', origin='China', count=920),\n Row(dest='United States', origin='Vietnam', count=2),\n Row(dest='Burkina Faso', origin='United States', count=1),\n Row(dest='Sweden', origin='United States', count=118),\n Row(dest='United States', origin='Kuwait', count=28),\n Row(dest='United States', origin='Dominican Republic', count=1420),\n Row(dest='United States', origin='Egypt', count=12),\n Row(dest='Israel', origin='United States', count=134),\n Row(dest='United States', origin='United States', count=370002),\n Row(dest='Ethiopia', origin='United States', count=13),\n Row(dest='United States', origin='Luxembourg', count=134),\n Row(dest='United States', origin='Poland', count=33),\n Row(dest='Martinique', origin='United States', count=44),\n Row(dest='United States', origin='Saint Barthelemy', count=41),\n Row(dest='Saint Barthelemy', origin='United States', count=39),\n Row(dest='Barbados', origin='United States', count=154),\n Row(dest='United States', origin='Turkey', count=129),\n Row(dest='Djibouti', origin='United States', count=1),\n Row(dest='United States', origin='Azerbaijan', count=21),\n Row(dest='United States', origin='Estonia', count=1),\n Row(dest='Germany', origin='United States', count=1468),\n Row(dest='United States', origin='South Korea', count=827),\n Row(dest='United States', origin='El Salvador', count=508),\n Row(dest='Ireland', origin='United States', count=335),\n Row(dest='United States', origin='Hungary', count=3),\n Row(dest='Zambia', origin='United States', count=1),\n Row(dest='Malaysia', origin='United States', count=2),\n Row(dest='United States', origin='Ethiopia', count=12),\n Row(dest='United States', origin='Panama', count=465),\n Row(dest='United States', origin='Aruba', count=342),\n Row(dest='United States', origin='Thailand', count=4),\n Row(dest='United States', origin='Turks and Caicos Islands', count=236),\n Row(dest='Croatia', origin='United States', count=2),\n Row(dest='United States', origin='Pakistan', count=12),\n Row(dest='Cyprus', origin='United States', count=1),\n Row(dest='United States', origin='Honduras', count=407),\n Row(dest='Fiji', origin='United States', count=24),\n Row(dest='Qatar', origin='United States', count=108),\n Row(dest='Saint Kitts and Nevis', origin='United States', count=139),\n Row(dest='Kuwait', origin='United States', count=32),\n Row(dest='Taiwan', origin='United States', count=266),\n Row(dest='Haiti', origin='United States', count=226),\n Row(dest='Canada', origin='United States', count=8399),\n Row(dest='Federated States of Micronesia', origin='United States', count=69),\n Row(dest='United States', origin='Liberia', count=2),\n Row(dest='Jamaica', origin='United States', count=666),\n Row(dest='United States', origin='Malta', count=2),\n Row(dest='Dominican Republic', origin='United States', count=1353),\n Row(dest='Japan', origin='United States', count=1548),\n Row(dest='United States', origin='Lithuania', count=1),\n Row(dest='Finland', origin='United States', count=26),\n Row(dest='United States', origin='Guadeloupe', count=59),\n Row(dest='United States', origin='Ukraine', count=13),\n Row(dest='United States', origin='France', count=952),\n Row(dest='United States', origin='Norway', count=115),\n Row(dest='Aruba', origin='United States', count=346),\n Row(dest='French Guiana', origin='United States', count=5),\n Row(dest='United States', origin='Kiribati', count=35),\n Row(dest='India', origin='United States', count=61),\n Row(dest='British Virgin Islands', origin='United States', count=107),\n Row(dest='Brazil', origin='United States', count=853),\n Row(dest='United States', origin='Germany', count=1336),\n Row(dest='United States', origin='New Zealand', count=74),\n Row(dest='French Polynesia', origin='United States', count=43),\n Row(dest='United Arab Emirates', origin='United States', count=320),\n Row(dest='Singapore', origin='United States', count=3),\n Row(dest='United States', origin='Mexico', count=7187),\n Row(dest='United States', origin='Sweden', count=119),\n Row(dest='Netherlands', origin='United States', count=776),\n Row(dest='United States', origin='Martinique', count=43),\n Row(dest='United States', origin='United Arab Emirates', count=313),\n Row(dest='United States', origin='Bulgaria', count=1),\n Row(dest='Denmark', origin='United States', count=153),\n Row(dest='China', origin='United States', count=772),\n Row(dest='United States', origin='Nicaragua', count=201),\n Row(dest='United States', origin='Philippines', count=126),\n Row(dest='United States', origin='Georgia', count=1),\n Row(dest='United States', origin='Belgium', count=228),\n Row(dest='Cayman Islands', origin='United States', count=314),\n Row(dest='Argentina', origin='United States', count=180),\n Row(dest='Peru', origin='United States', count=279),\n Row(dest='South Africa', origin='United States', count=36),\n Row(dest='United States', origin='Iceland', count=202),\n Row(dest='United States', origin='Argentina', count=141),\n Row(dest='Spain', origin='United States', count=420),\n Row(dest='Bermuda', origin='United States', count=183),\n Row(dest='United States', origin='Nigeria', count=50),\n Row(dest='United States', origin='Austria', count=63),\n Row(dest='United States', origin='Bonaire, Sint Eustatius, and Saba', count=59),\n Row(dest='Kiribati', origin='United States', count=26),\n Row(dest='Saudi Arabia', origin='United States', count=83),\n Row(dest='Czech Republic', origin='United States', count=13),\n Row(dest='United States', origin='Israel', count=127),\n Row(dest='Belgium', origin='United States', count=259),\n Row(dest='United States', origin='Saint Lucia', count=136),\n Row(dest='United States', origin='Bahrain', count=1),\n Row(dest='United States', origin='British Virgin Islands', count=80),\n Row(dest='Curacao', origin='United States', count=90),\n Row(dest='Georgia', origin='United States', count=2),\n Row(dest='United States', origin='Denmark', count=152),\n Row(dest='United States', origin='Guyana', count=63),\n Row(dest='Philippines', origin='United States', count=134),\n Row(dest='Grenada', origin='United States', count=53),\n Row(dest='Cape Verde', origin='United States', count=20),\n Row(dest=\"Cote d'Ivoire\", origin='United States', count=1),\n Row(dest='Ukraine', origin='United States', count=14),\n Row(dest='United States', origin='Papua New Guinea', count=1),\n Row(dest='Russia', origin='United States', count=176),\n Row(dest='United States', origin='Saudi Arabia', count=70),\n Row(dest='Guatemala', origin='United States', count=397),\n Row(dest='Saint Lucia', origin='United States', count=123),\n Row(dest='Paraguay', origin='United States', count=60),\n Row(dest='United States', origin='Curacao', count=83),\n Row(dest='Kosovo', origin='United States', count=1),\n Row(dest='United States', origin='Taiwan', count=235),\n Row(dest='Tunisia', origin='United States', count=3),\n Row(dest='United States', origin='South Africa', count=40),\n Row(dest='Niger', origin='United States', count=2),\n Row(dest='Turkey', origin='United States', count=138),\n Row(dest='United Kingdom', origin='United States', count=2025),\n Row(dest='Romania', origin='United States', count=14),\n Row(dest='United States', origin='Greenland', count=4),\n Row(dest='Papua New Guinea', origin='United States', count=3),\n Row(dest='United States', origin='Spain', count=442),\n Row(dest='Iraq', origin='United States', count=1),\n Row(dest='United States', origin='Italy', count=438),\n Row(dest='Cuba', origin='United States', count=466),\n Row(dest='United States', origin='Switzerland', count=305),\n Row(dest='Dominica', origin='United States', count=20),\n Row(dest='United States', origin='Japan', count=1496),\n Row(dest='Portugal', origin='United States', count=127),\n Row(dest='United States', origin='Brazil', count=619),\n Row(dest='Bahrain', origin='United States', count=19),\n Row(dest='United States', origin='Peru', count=337),\n Row(dest='Indonesia', origin='United States', count=1),\n Row(dest='United States', origin='Belize', count=193),\n Row(dest='United States', origin='United Kingdom', count=1970),\n Row(dest='Belize', origin='United States', count=188),\n Row(dest='United States', origin='Ghana', count=20),\n Row(dest='United States', origin='Indonesia', count=2),\n Row(dest='United States', origin='Fiji', count=25),\n Row(dest='United States', origin='Canada', count=8483),\n Row(dest='United States', origin='Antigua and Barbuda', count=117),\n Row(dest='United States', origin='French Polynesia', count=40),\n Row(dest='Nicaragua', origin='United States', count=179),\n Row(dest='United States', origin='Latvia', count=15),\n Row(dest='United States', origin='Dominica', count=27),\n Row(dest='United States', origin='Czech Republic', count=12),\n Row(dest='United States', origin='Australia', count=258),\n Row(dest='United States', origin='Cook Islands', count=13),\n Row(dest='Austria', origin='United States', count=62),\n Row(dest='Jordan', origin='United States', count=44),\n Row(dest='Palau', origin='United States', count=30),\n Row(dest='South Korea', origin='United States', count=1048),\n Row(dest='Angola', origin='United States', count=15),\n Row(dest='Ghana', origin='United States', count=18),\n Row(dest='New Caledonia', origin='United States', count=1),\n Row(dest='Guadeloupe', origin='United States', count=56),\n Row(dest='France', origin='United States', count=935),\n Row(dest='Poland', origin='United States', count=32),\n Row(dest='Nigeria', origin='United States', count=59),\n Row(dest='United States', origin='Uruguay', count=13),\n Row(dest='Greenland', origin='United States', count=2),\n Row(dest='United States', origin='Bermuda', count=193),\n Row(dest='Chile', origin='United States', count=174),\n Row(dest='United States', origin='Cuba', count=478),\n Row(dest='United States', origin='Montenegro', count=1),\n Row(dest='United States', origin='Colombia', count=867),\n Row(dest='United States', origin='Barbados', count=130),\n Row(dest='United States', origin='Qatar', count=109),\n Row(dest='Australia', origin='United States', count=329),\n Row(dest='United States', origin='Cayman Islands', count=310),\n Row(dest='United States', origin='Jordan', count=44),\n Row(dest='United States', origin='Namibia', count=1),\n Row(dest='United States', origin='Trinidad and Tobago', count=217),\n Row(dest='United States', origin='Bolivia', count=13),\n Row(dest='Cook Islands', origin='United States', count=13),\n Row(dest='Bulgaria', origin='United States', count=3),\n Row(dest='United States', origin='Saint Kitts and Nevis', count=145),\n Row(dest='Uruguay', origin='United States', count=43),\n Row(dest='United States', origin='Haiti', count=225),\n Row(dest='Bonaire, Sint Eustatius, and Saba', origin='United States', count=58),\n Row(dest='Greece', origin='United States', count=30),\n Row(dest='United States', origin='Saint Martin', count=2),\n Row(dest='United States', origin='Guinea', count=2),\n Row(dest='United States', origin='Croatia', count=1),\n Row(dest='United States', origin='Romania', count=3),\n Row(dest='United States', origin='Ireland', count=268),\n Row(dest='Egypt', origin='United States', count=13),\n Row(dest='United States', origin='India', count=76),\n Row(dest='United States', origin='Singapore', count=24),\n Row(dest='United States', origin='Grenada', count=59),\n Row(dest='Costa Rica', origin='United States', count=494),\n Row(dest='Senegal', origin='United States', count=29),\n Row(dest='Guyana', origin='United States', count=26),\n Row(dest='United States', origin='Marshall Islands', count=49),\n Row(dest='United States', origin='Sint Maarten', count=223),\n Row(dest='Malta', origin='United States', count=1),\n Row(dest='Bolivia', origin='United States', count=61),\n Row(dest='Anguilla', origin='United States', count=21),\n Row(dest='United States', origin='Paraguay', count=3),\n Row(dest='United States', origin='Gibraltar', count=1),\n Row(dest='Turks and Caicos Islands', origin='United States', count=163),\n Row(dest='United States', origin='Afghanistan', count=3),\n Row(dest='Saint Vincent and the Grenadines', origin='United States', count=6),\n Row(dest='Italy', origin='United States', count=428),\n Row(dest='United States', origin='Russia', count=153),\n Row(dest='United States', origin='Federated States of Micronesia', count=54),\n Row(dest='Pakistan', origin='United States', count=12),\n Row(dest='Iceland', origin='United States', count=113),\n Row(dest='United States', origin='Netherlands', count=622),\n Row(dest='Marshall Islands', origin='United States', count=81),\n Row(dest='Luxembourg', origin='United States', count=120),\n Row(dest='Honduras', origin='United States', count=386),\n Row(dest='The Bahamas', origin='United States', count=811),\n Row(dest='El Salvador', origin='United States', count=495),\n Row(dest='United States', origin='Senegal', count=33),\n Row(dest='Samoa', origin='United States', count=25),\n Row(dest='United States', origin='Angola', count=12),\n Row(dest='Switzerland', origin='United States', count=314),\n Row(dest='United States', origin='Anguilla', count=20),\n Row(dest='Sint Maarten', origin='United States', count=240),\n Row(dest='Hong Kong', origin='United States', count=282),\n Row(dest='Trinidad and Tobago', origin='United States', count=205),\n Row(dest='Latvia', origin='United States', count=12),\n Row(dest='Yemen', origin='United States', count=1),\n Row(dest='United States', origin='Ecuador', count=351),\n Row(dest='Suriname', origin='United States', count=11),\n Row(dest='Mexico', origin='United States', count=5953),\n Row(dest='United States', origin='Cyprus', count=1),\n Row(dest='Ecuador', origin='United States', count=280),\n Row(dest='United States', origin='Portugal', count=109),\n Row(dest='United States', origin='Guatemala', count=340),\n Row(dest='United States', origin='Costa Rica', count=526),\n Row(dest='United States', origin='Suriname', count=20),\n Row(dest='Colombia', origin='United States', count=707),\n Row(dest='United States', origin='Cape Verde', count=19),\n Row(dest='United States', origin='Jamaica', count=695),\n Row(dest='Norway', origin='United States', count=25),\n Row(dest='United States', origin='Malaysia', count=1),\n Row(dest='The Gambia', origin='United States', count=1),\n Row(dest='United States', origin='Morocco', count=17),\n Row(dest='Thailand', origin='United States', count=12),\n Row(dest='United States', origin='Palau', count=41),\n Row(dest='Venezuela', origin='United States', count=373),\n Row(dest='United States', origin='Samoa', count=25),\n Row(dest='United States', origin='Algeria', count=1),\n Row(dest='Panama', origin='United States', count=397),\n Row(dest='United States', origin='Venezuela', count=352),\n Row(dest='Guinea', origin='United States', count=5),\n Row(dest='Antigua and Barbuda', origin='United States', count=146),\n Row(dest='United States', origin='Finland', count=32),\n Row(dest='United States', origin='Chile', count=182),\n Row(dest='United States', origin='Greece', count=45),\n Row(dest='Morocco', origin='United States', count=19),\n Row(dest='United States', origin='The Bahamas', count=888),\n Row(dest='United States', origin='Brunei', count=1),\n Row(dest='New Zealand', origin='United States', count=96),\n Row(dest='United States', origin='Hong Kong', count=317),\n Row(dest='Hungary', origin='United States', count=13),\n Row(dest='United States', origin='China', count=605),\n Row(dest='Sweden', origin='United States', count=59),\n Row(dest='United States', origin='Kuwait', count=27),\n Row(dest='United States', origin='Dominican Republic', count=1100),\n Row(dest='United States', origin='Egypt', count=15),\n Row(dest='Israel', origin='United States', count=121),\n Row(dest='United States', origin='United States', count=352742),\n Row(dest='United States', origin='Luxembourg', count=170),\n Row(dest='Ethiopia', origin='United States', count=12),\n Row(dest='United States', origin='Poland', count=42),\n Row(dest='Martinique', origin='United States', count=20),\n Row(dest='Saint Barthelemy', origin='United States', count=38),\n Row(dest='United States', origin='Saint Barthelemy', count=39),\n Row(dest='Barbados', origin='United States', count=129),\n Row(dest='United States', origin='Turkey', count=99),\n Row(dest='United States', origin='Azerbaijan', count=3),\n Row(dest='Germany', origin='United States', count=1423),\n Row(dest='United States', origin='South Korea', count=661),\n Row(dest='United States', origin='El Salvador', count=443),\n Row(dest='Ireland', origin='United States', count=250),\n Row(dest='United States', origin='Hungary', count=17),\n Row(dest='Malaysia', origin='United States', count=2),\n Row(dest='United States', origin='Panama', count=380),\n Row(dest='United States', origin='Ethiopia', count=12),\n Row(dest='United States', origin='Thailand', count=14),\n Row(dest='United States', origin='Aruba', count=332),\n Row(dest='United States', origin='Turks and Caicos Islands', count=177),\n Row(dest='Croatia', origin='United States', count=2),\n Row(dest='United States', origin='Pakistan', count=24),\n Row(dest='United States', origin='Honduras', count=388),\n Row(dest='Qatar', origin='United States', count=48),\n Row(dest='Fiji', origin='United States', count=49),\n Row(dest='Saint Kitts and Nevis', origin='United States', count=105),\n Row(dest='Taiwan', origin='United States', count=248),\n Row(dest='Haiti', origin='United States', count=188),\n Row(dest='Kuwait', origin='United States', count=27),\n Row(dest='Canada', origin='United States', count=8514),\n Row(dest='Belarus', origin='United States', count=1),\n Row(dest='Federated States of Micronesia', origin='United States', count=48),\n Row(dest='Jamaica', origin='United States', count=675),\n Row(dest='United States', origin='Malta', count=3),\n Row(dest='Dominican Republic', origin='United States', count=1020),\n Row(dest='Japan', origin='United States', count=1532),\n Row(dest='United States', origin='Lithuania', count=1),\n Row(dest='United States', origin='Saint Vincent and the Grenadines', count=17),\n Row(dest='Finland', origin='United States', count=33),\n Row(dest='United States', origin='Ukraine', count=15),\n Row(dest='United States', origin='Guadeloupe', count=31),\n Row(dest='United States', origin='France', count=914),\n Row(dest='Aruba', origin='United States', count=347),\n Row(dest='French Guiana', origin='United States', count=14),\n Row(dest='United States', origin='Norway', count=33),\n Row(dest='United States', origin='Kiribati', count=28),\n Row(dest='India', origin='United States', count=73),\n Row(dest='British Virgin Islands', origin='United States', count=73),\n Row(dest='United States', origin='Germany', count=1480),\n Row(dest='Brazil', origin='United States', count=969),\n Row(dest='United States', origin='New Zealand', count=77),\n Row(dest='French Polynesia', origin='United States', count=36),\n Row(dest='United Arab Emirates', origin='United States', count=157),\n Row(dest='Singapore', origin='United States', count=27),\n Row(dest='United States', origin='Mexico', count=6000),\n Row(dest='Netherlands', origin='United States', count=635),\n Row(dest='United States', origin='Sweden', count=68),\n Row(dest='United States', origin='Martinique', count=20),\n Row(dest='United States', origin='United Arab Emirates', count=142),\n Row(dest='China', origin='United States', count=504),\n Row(dest='United States', origin='Philippines', count=109),\n Row(dest='United States', origin='Nicaragua', count=173),\n Row(dest='Denmark', origin='United States', count=95),\n Row(dest='United States', origin='Georgia', count=1),\n Row(dest='United States', origin='Belgium', count=369),\n Row(dest='Libya', origin='United States', count=1),\n Row(dest='Argentina', origin='United States', count=183),\n Row(dest='Peru', origin='United States', count=246),\n Row(dest='Cayman Islands', origin='United States', count=251),\n Row(dest='South Africa', origin='United States', count=24),\n Row(dest='United States', origin='Argentina', count=152),\n Row(dest='United States', origin='Iceland', count=138),\n Row(dest='Spain', origin='United States', count=445),\n Row(dest='Bermuda', origin='United States', count=191),\n Row(dest='United States', origin='Austria', count=34),\n Row(dest='United States', origin='Nigeria', count=26),\n Row(dest='United States', origin='Bonaire, Sint Eustatius, and Saba', count=49),\n Row(dest='Kiribati', origin='United States', count=28),\n Row(dest='Czech Republic', origin='United States', count=23),\n Row(dest='Saudi Arabia', origin='United States', count=83),\n Row(dest='Macau', origin='United States', count=2),\n Row(dest='Belgium', origin='United States', count=376),\n Row(dest='United States', origin='Israel', count=126),\n Row(dest='United States', origin='Saint Lucia', count=102),\n Row(dest='United States', origin='Bahrain', count=2),\n Row(dest='United States', origin='British Virgin Islands', count=65),\n Row(dest='Afghanistan', origin='United States', count=8),\n Row(dest='Curacao', origin='United States', count=106),\n Row(dest='Georgia', origin='United States', count=1),\n Row(dest='United States', origin='Guyana', count=29),\n Row(dest='Philippines', origin='United States', count=127),\n Row(dest='United States', origin='Denmark', count=103),\n Row(dest='Grenada', origin='United States', count=67),\n Row(dest='Cape Verde', origin='United States', count=13),\n Row(dest='Ukraine', origin='United States', count=15),\n Row(dest='United States', origin='Papua New Guinea', count=1),\n Row(dest='Russia', origin='United States', count=199),\n Row(dest='United States', origin='Saudi Arabia', count=77),\n Row(dest='Guatemala', origin='United States', count=407),\n Row(dest='Saint Lucia', origin='United States', count=102),\n Row(dest='Paraguay', origin='United States', count=85),\n Row(dest='United States', origin='Curacao', count=97),\n Row(dest='United States', origin='Taiwan', count=231),\n Row(dest='United States', origin='South Africa', count=21),\n Row(dest='Togo', origin='United States', count=1),\n Row(dest='Turkey', origin='United States', count=104),\n Row(dest='United Kingdom', origin='United States', count=1726),\n Row(dest='Romania', origin='United States', count=4),\n Row(dest='United States', origin='Greenland', count=2),\n Row(dest='United States', origin='Spain', count=472),\n Row(dest='Cuba', origin='United States', count=320),\n Row(dest='United States', origin='Italy', count=447),\n Row(dest='United States', origin='Switzerland', count=319),\n Row(dest='Dominica', origin='United States', count=25),\n Row(dest='United States', origin='Japan', count=1412),\n Row(dest='Portugal', origin='United States', count=95),\n Row(dest='United States', origin='Brazil', count=575),\n Row(dest='Bahrain', origin='United States', count=40),\n Row(dest='United States', origin='Peru', count=288),\n Row(dest='Vietnam', origin='United States', count=1),\n Row(dest='United States', origin='United Kingdom', count=1649),\n Row(dest='United States', origin='Belize', count=112),\n Row(dest='Belize', origin='United States', count=113),\n Row(dest='United States', origin='Ghana', count=39),\n Row(dest='Mauritania', origin='United States', count=1),\n Row(dest='Saint Martin', origin='United States', count=1),\n Row(dest='United States', origin='Indonesia', count=1),\n Row(dest='United States', origin='Fiji', count=48),\n Row(dest='United States', origin='Mauritania', count=1),\n Row(dest='United States', origin='Canada', count=8650),\n Row(dest='United States', origin='Antigua and Barbuda', count=152),\n Row(dest='United States', origin='French Polynesia', count=36),\n Row(dest='Nicaragua', origin='United States', count=180),\n Row(dest='Namibia', origin='United States', count=1),\n Row(dest='United States', origin='Latvia', count=12),\n Row(dest='United States', origin='Dominica', count=29),\n Row(dest='United States', origin='Czech Republic', count=25),\n Row(dest='United States', origin='Australia', count=231),\n Row(dest='United States', origin='Cook Islands', count=12),\n Row(dest='Austria', origin='United States', count=34),\n Row(dest='Palau', origin='United States', count=41),\n Row(dest='Jordan', origin='United States', count=42),\n Row(dest='South Korea', origin='United States', count=713),\n Row(dest='Ghana', origin='United States', count=39),\n Row(dest='Angola', origin='United States', count=13),\n Row(dest='Guadeloupe', origin='United States', count=33),\n Row(dest='France', origin='United States', count=876),\n Row(dest='Nigeria', origin='United States', count=31),\n Row(dest='Poland', origin='United States', count=39),\n Row(dest='United States', origin='Uruguay', count=27),\n Row(dest='Greenland', origin='United States', count=1),\n Row(dest='Chile', origin='United States', count=178),\n Row(dest='United States', origin='Bermuda', count=196),\n Row(dest='Lebanon', origin='United States', count=1),\n Row(dest='United States', origin='Cuba', count=326),\n Row(dest='United States', origin='Colombia', count=777),\n Row(dest='United States', origin='Barbados', count=125),\n Row(dest='United States', origin='Qatar', count=48),\n Row(dest='Australia', origin='United States', count=280),\n Row(dest='United States', origin='Cayman Islands', count=262),\n Row(dest='United States', origin='Jordan', count=45),\n Row(dest='United States', origin='Bolivia', count=51),\n Row(dest='United States', origin='Trinidad and Tobago', count=213),\n Row(dest='Uruguay', origin='United States', count=50),\n Row(dest='Cook Islands', origin='United States', count=12),\n Row(dest='United States', origin='Saint Kitts and Nevis', count=120),\n Row(dest='Bulgaria', origin='United States', count=4),\n Row(dest='United States', origin='French Guiana', count=11),\n Row(dest='United States', origin='Haiti', count=197),\n Row(dest='Bonaire, Sint Eustatius, and Saba', origin='United States', count=50),\n Row(dest='Greece', origin='United States', count=38),\n Row(dest='United States', origin='Romania', count=12),\n Row(dest='United States', origin='Croatia', count=1),\n Row(dest='United States', origin='Ireland', count=266),\n Row(dest='Egypt', origin='United States', count=13),\n Row(dest='United States', origin='India', count=60),\n Row(dest='Equatorial Guinea', origin='United States', count=1),\n Row(dest='United States', origin='Niger', count=1),\n Row(dest='United States', origin='Singapore', count=22),\n Row(dest='United States', origin='Grenada', count=40),\n Row(dest='Costa Rica', origin='United States', count=509),\n Row(dest='Senegal', origin='United States', count=28),\n Row(dest='Guyana', origin='United States', count=34),\n Row(dest='United States', origin='Sint Maarten', count=260),\n Row(dest='United States', origin='Marshall Islands', count=33),\n Row(dest='Bolivia', origin='United States', count=33),\n Row(dest='Anguilla', origin='United States', count=22),\n Row(dest='United States', origin='Paraguay', count=15),\n Row(dest='Algeria', origin='United States', count=2),\n Row(dest='Turks and Caicos Islands', origin='United States', count=181),\n Row(dest='Saint Vincent and the Grenadines', origin='United States', count=4),\n Row(dest='Lithuania', origin='United States', count=1),\n Row(dest='Pakistan', origin='United States', count=14),\n Row(dest='Italy', origin='United States', count=327),\n Row(dest='United States', origin='Russia', count=167),\n Row(dest='United States', origin='Federated States of Micronesia', count=62),\n Row(dest='United States', origin='Netherlands', count=618),\n Row(dest='Iceland', origin='United States', count=146),\n Row(dest='Marshall Islands', origin='United States', count=50),\n Row(dest='Luxembourg', origin='United States', count=160),\n Row(dest='Honduras', origin='United States', count=423),\n Row(dest='Rwanda', origin='United States', count=1),\n Row(dest='The Bahamas', origin='United States', count=865),\n Row(dest='El Salvador', origin='United States', count=551),\n Row(dest='United States', origin='Senegal', count=32),\n Row(dest='Samoa', origin='United States', count=25),\n Row(dest='United States', origin='Angola', count=12),\n Row(dest='Kazakhstan', origin='United States', count=2),\n Row(dest='Switzerland', origin='United States', count=288),\n Row(dest='United States', origin='Anguilla', count=18),\n Row(dest='United States', origin='Mali', count=1),\n Row(dest='Sint Maarten', origin='United States', count=271),\n Row(dest='Hong Kong', origin='United States', count=282),\n Row(dest='Trinidad and Tobago', origin='United States', count=183),\n Row(dest='Latvia', origin='United States', count=29),\n Row(dest='United States', origin='Ecuador', count=307),\n Row(dest='Suriname', origin='United States', count=15),\n Row(dest='Mexico', origin='United States', count=6372),\n Row(dest='Ecuador', origin='United States', count=252),\n Row(dest='United States', origin='Portugal', count=126),\n Row(dest='United States', origin='Costa Rica', count=549),\n Row(dest='United States', origin='Guatemala', count=331),\n Row(dest='United States', origin='Suriname', count=21),\n Row(dest='Colombia', origin='United States', count=798),\n Row(dest='United States', origin='Cape Verde', count=15),\n Row(dest='Norway', origin='United States', count=48),\n Row(dest='United States', origin='Jamaica', count=599),\n Row(dest='United States', origin='Malaysia', count=1),\n Row(dest='United States', origin='Morocco', count=16),\n Row(dest='Thailand', origin='United States', count=2),\n Row(dest='Burundi', origin='United States', count=1),\n Row(dest='Venezuela', origin='United States', count=350),\n Row(dest='United States', origin='Samoa', count=25),\n Row(dest='United States', origin='Palau', count=35),\n Row(dest='United States', origin='Venezuela', count=295),\n Row(dest='Panama', origin='United States', count=418),\n Row(dest='United States', origin='Finland', count=15),\n Row(dest='Morocco', origin='United States', count=18),\n Row(dest='Antigua and Barbuda', origin='United States', count=123),\n Row(dest='United States', origin='Chile', count=171),\n Row(dest='Azerbaijan', origin='United States', count=3),\n Row(dest='United States', origin='Greece', count=14),\n Row(dest='United States', origin='The Bahamas', count=897),\n Row(dest='New Zealand', origin='United States', count=114),\n Row(dest='United States', origin='Hong Kong', count=344),\n Row(dest='Hungary', origin='United States', count=1),\n Row(dest='United States', origin='China', count=614),\n Row(dest='United States', origin='Kuwait', count=24),\n Row(dest='Sweden', origin='United States', count=70),\n Row(dest='United States', origin='Egypt', count=12),\n Row(dest='United States', origin='Dominican Republic', count=1119),\n Row(dest='Israel', origin='United States', count=119),\n Row(dest='United States', origin='United States', count=343132),\n Row(dest='United States', origin='Luxembourg', count=134),\n Row(dest='Ethiopia', origin='United States', count=12),\n Row(dest='United States', origin='Poland', count=37),\n Row(dest='Martinique', origin='United States', count=26),\n Row(dest='United States', origin='Zimbabwe', count=2),\n Row(dest='United States', origin='Saint Barthelemy', count=58),\n Row(dest='Saint Barthelemy', origin='United States', count=67),\n Row(dest='United States', origin='Turkey', count=100),\n Row(dest='Barbados', origin='United States', count=97),\n Row(dest='Germany', origin='United States', count=1423),\n Row(dest='Kyrgyzstan', origin='United States', count=1),\n Row(dest='United States', origin='South Korea', count=687),\n Row(dest='United States', origin='El Salvador', count=466),\n Row(dest='Ireland', origin='United States', count=255),\n Row(dest='Malaysia', origin='United States', count=2),\n Row(dest='United States', origin='Aruba', count=344),\n Row(dest='United States', origin='Panama', count=419),\n Row(dest='United States', origin='Ethiopia', count=12),\n Row(dest='United States', origin='Turks and Caicos Islands', count=178),\n Row(dest='United States', origin='Pakistan', count=12),\n Row(dest='Cyprus', origin='United States', count=2),\n Row(dest='United States', origin='Honduras', count=392),\n Row(dest='Fiji', origin='United States', count=34),\n Row(dest='Qatar', origin='United States', count=71),\n Row(dest='Saint Kitts and Nevis', origin='United States', count=99),\n Row(dest='Kuwait', origin='United States', count=24),\n Row(dest='Haiti', origin='United States', count=199),\n Row(dest='Taiwan', origin='United States', count=243),\n Row(dest='Canada', origin='United States', count=7860),\n Row(dest='Federated States of Micronesia', origin='United States', count=53),\n Row(dest='Jamaica', origin='United States', count=581),\n Row(dest='Dominican Republic', origin='United States', count=1068),\n Row(dest='Japan', origin='United States', count=1613),\n Row(dest='United States', origin='Saint Vincent and the Grenadines', count=10),\n Row(dest='Finland', origin='United States', count=17),\n Row(dest='United States', origin='Ukraine', count=4),\n Row(dest='United States', origin='Guadeloupe', count=42),\n Row(dest='United States', origin='France', count=848),\n Row(dest='United States', origin='Norway', count=46),\n Row(dest='Aruba', origin='United States', count=352),\n Row(dest='French Guiana', origin='United States', count=7),\n Row(dest='United States', origin='Kiribati', count=29),\n Row(dest='Zimbabwe', origin='United States', count=2),\n Row(dest='India', origin='United States', count=61),\n Row(dest='British Virgin Islands', origin='United States', count=101),\n Row(dest='United States', origin='Germany', count=1402),\n Row(dest='United States', origin='New Zealand', count=77),\n Row(dest='Brazil', origin='United States', count=912),\n Row(dest='Saint Helena, Ascension, and Tristan da Cunha', origin='United States', count=1),\n Row(dest='United States', origin='Cambodia', count=3),\n Row(dest='French Polynesia', origin='United States', count=43),\n Row(dest='United Arab Emirates', origin='United States', count=202),\n Row(dest='Singapore', origin='United States', count=21),\n Row(dest='Tanzania', origin='United States', count=2),\n Row(dest='United States', origin='Mexico', count=6354),\n Row(dest='Netherlands', origin='United States', count=640),\n Row(dest='United States', origin='Sweden', count=73),\n Row(dest='United States', origin='Martinique', count=24),\n Row(dest='United States', origin='United Arab Emirates', count=187),\n Row(dest='Denmark', origin='United States', count=104),\n Row(dest='China', origin='United States', count=543),\n Row(dest='United States', origin='Nicaragua', count=185),\n Row(dest='United States', origin='Philippines', count=112),\n Row(dest='United States', origin='Belgium', count=193),\n Row(dest='Nepal', origin='United States', count=1),\n Row(dest='Libya', origin='United States', count=1),\n Row(dest='Argentina', origin='United States', count=176),\n Row(dest='Peru', origin='United States', count=255),\n Row(dest='Cayman Islands', origin='United States', count=274),\n Row(dest='South Africa', origin='United States', count=24),\n Row(dest='United States', origin='Iceland', count=151),\n Row(dest='United States', origin='Argentina', count=140),\n Row(dest='Spain', origin='United States', count=370),\n Row(dest='Bermuda', origin='United States', count=163),\n Row(dest='United States', origin='Nigeria', count=49),\n Row(dest='United States', origin='Austria', count=39),\n Row(dest='United States', origin='Bonaire, Sint Eustatius, and Saba', count=54),\n Row(dest='Kiribati', origin='United States', count=29),\n Row(dest='Saudi Arabia', origin='United States', count=86),\n Row(dest='Czech Republic', origin='United States', count=10),\n Row(dest='Macau', origin='United States', count=2),\n Row(dest='Belgium', origin='United States', count=265),\n Row(dest='United States', origin='Israel', count=107),\n Row(dest='United States', origin='Saint Lucia', count=92),\n Row(dest='Sierra Leone', origin='United States', count=1),\n Row(dest='United States', origin='Bahrain', count=1),\n Row(dest='United States', origin='British Virgin Islands', count=94),\n Row(dest='United States', origin='Saint Helena, Ascension, and Tristan da Cunha', count=2),\n Row(dest='Curacao', origin='United States', count=97),\n Row(dest='United States', origin='Denmark', count=106),\n Row(dest='United States', origin='Guyana', count=52),\n Row(dest='Philippines', origin='United States', count=136),\n Row(dest='Grenada', origin='United States', count=42),\n Row(dest='Cape Verde', origin='United States', count=21),\n Row(dest='Ukraine', origin='United States', count=4),\n Row(dest='Russia', origin='United States', count=194),\n Row(dest='United States', origin='Saudi Arabia', count=84),\n Row(dest='Guatemala', origin='United States', count=376),\n Row(dest='Saint Lucia', origin='United States', count=91),\n Row(dest='Paraguay', origin='United States', count=75),\n Row(dest='United States', origin='Curacao', count=89),\n Row(dest='United States', origin='Taiwan', count=235),\n Row(dest='United States', origin='South Africa', count=26),\n Row(dest='Niger', origin='United States', count=1),\n Row(dest='Turkey', origin='United States', count=99),\n Row(dest='United Kingdom', origin='United States', count=1802),\n Row(dest='Romania', origin='United States', count=14),\n Row(dest='United States', origin='Greenland', count=3),\n Row(dest='Papua New Guinea', origin='United States', count=2),\n Row(dest='United States', origin='Spain', count=377),\n Row(dest='United States', origin='Italy', count=333),\n Row(dest='Cuba', origin='United States', count=337),\n Row(dest='United States', origin='Switzerland', count=285),\n Row(dest='Dominica', origin='United States', count=19),\n Row(dest='Portugal', origin='United States', count=116),\n Row(dest='United States', origin='Japan', count=1476),\n Row(dest='United States', origin='Brazil', count=510),\n Row(dest='Bahrain', origin='United States', count=50),\n Row(dest='United States', origin='Peru', count=300),\n Row(dest='Indonesia', origin='United States', count=1),\n Row(dest='United States', origin='United Kingdom', count=1711),\n Row(dest='United States', origin='Belize', count=127),\n Row(dest='Belize', origin='United States', count=137),\n Row(dest='Kenya', origin='United States', count=1),\n Row(dest='United States', origin='Ghana', count=16),\n Row(dest='United States', origin='Fiji', count=30),\n Row(dest='United States', origin='Canada', count=7983),\n Row(dest='United States', origin='French Polynesia', count=40),\n Row(dest='United States', origin='Antigua and Barbuda', count=123),\n Row(dest='Brunei', origin='United States', count=1),\n Row(dest='Nicaragua', origin='United States', count=178),\n Row(dest='United States', origin='Latvia', count=12),\n Row(dest='United States', origin='Dominica', count=25),\n Row(dest='United States', origin='Czech Republic', count=9),\n Row(dest='United States', origin='Cook Islands', count=12),\n Row(dest='Austria', origin='United States', count=35),\n Row(dest='United States', origin='Australia', count=222),\n Row(dest='Jordan', origin='United States', count=74),\n Row(dest='Palau', origin='United States', count=35),\n Row(dest='South Korea', origin='United States', count=842),\n Row(dest='Angola', origin='United States', count=12),\n Row(dest='Ghana', origin='United States', count=16),\n Row(dest='New Caledonia', origin='United States', count=1),\n Row(dest='Guadeloupe', origin='United States', count=41),\n Row(dest='France', origin='United States', count=837),\n Row(dest='Poland', origin='United States', count=40),\n Row(dest='Nigeria', origin='United States', count=58),\n Row(dest='United States', origin='Uruguay', count=20),\n Row(dest='Greenland', origin='United States', count=1),\n Row(dest='Chile', origin='United States', count=147),\n Row(dest='United States', origin='Bermuda', count=166),\n Row(dest='Lebanon', origin='United States', count=1),\n ...]",
       "datasetInfos": [],
       "metadata": {},
       "removedWidgets": [],
       "type": "ansi"
      }
     },
     "output_type": "display_data"
    }
   ],
   "source": [
    "flightsAllDF.collect()"
   ]
  },
  {
   "cell_type": "code",
   "execution_count": 0,
   "metadata": {
    "application/vnd.databricks.v1+cell": {
     "inputWidgets": {},
     "nuid": "3c3817b9-6389-44c5-82e3-d644bc73b3dd",
     "showTitle": false,
     "title": ""
    }
   },
   "outputs": [
    {
     "data": {
      "text/html": [
       "<style scoped>\n",
       "  .ansiout {\n",
       "    display: block;\n",
       "    unicode-bidi: embed;\n",
       "    white-space: pre-wrap;\n",
       "    word-wrap: break-word;\n",
       "    word-break: break-all;\n",
       "    font-family: \"Source Code Pro\", \"Menlo\", monospace;;\n",
       "    font-size: 13px;\n",
       "    color: #555;\n",
       "    margin-left: 4px;\n",
       "    line-height: 19px;\n",
       "  }\n",
       "</style>"
      ]
     },
     "metadata": {
      "application/vnd.databricks.v1+output": {
       "arguments": {},
       "data": "",
       "errorSummary": "",
       "errorTraceType": null,
       "metadata": {},
       "type": "ipynbError"
      }
     },
     "output_type": "display_data"
    }
   ],
   "source": [
    "#5. b)"
   ]
  },
  {
   "cell_type": "code",
   "execution_count": 0,
   "metadata": {
    "application/vnd.databricks.v1+cell": {
     "inputWidgets": {},
     "nuid": "296124e9-4edb-414b-9e27-9f4515555166",
     "showTitle": false,
     "title": ""
    }
   },
   "outputs": [
    {
     "data": {
      "text/plain": [
       "[Row(dest='United States', origin='Romania', count=1), Row(dest='United States', origin='Ireland', count=264), Row(dest='United States', origin='India', count=69)]\n"
      ]
     },
     "metadata": {
      "application/vnd.databricks.v1+output": {
       "addedWidgets": {},
       "arguments": {},
       "data": "[Row(dest='United States', origin='Romania', count=1), Row(dest='United States', origin='Ireland', count=264), Row(dest='United States', origin='India', count=69)]\n",
       "datasetInfos": [],
       "metadata": {},
       "removedWidgets": [],
       "type": "ansi"
      }
     },
     "output_type": "display_data"
    }
   ],
   "source": [
    "print(flightsAllDF.head(3))"
   ]
  },
  {
   "cell_type": "code",
   "execution_count": 0,
   "metadata": {
    "application/vnd.databricks.v1+cell": {
     "inputWidgets": {},
     "nuid": "d138e4e2-5a45-4df5-942d-056dd7030c95",
     "showTitle": false,
     "title": ""
    }
   },
   "outputs": [
    {
     "data": {
      "text/plain": [
       "[Row(dest='United States', origin='Romania', numflights=1, year=2010), Row(dest='United States', origin='Ireland', numflights=264, year=2010), Row(dest='United States', origin='India', numflights=69, year=2010)]\n"
      ]
     },
     "metadata": {
      "application/vnd.databricks.v1+output": {
       "addedWidgets": {},
       "arguments": {},
       "data": "[Row(dest='United States', origin='Romania', numflights=1, year=2010), Row(dest='United States', origin='Ireland', numflights=264, year=2010), Row(dest='United States', origin='India', numflights=69, year=2010)]\n",
       "datasetInfos": [],
       "metadata": {},
       "removedWidgets": [],
       "type": "ansi"
      }
     },
     "output_type": "display_data"
    }
   ],
   "source": [
    "print(flightsAllDF.take(3))"
   ]
  },
  {
   "cell_type": "code",
   "execution_count": 0,
   "metadata": {
    "application/vnd.databricks.v1+cell": {
     "inputWidgets": {},
     "nuid": "7ac2503c-396b-433c-a4a7-2f0cdec8f828",
     "showTitle": false,
     "title": ""
    }
   },
   "outputs": [
    {
     "data": {
      "text/plain": [
       "+-------------+-------+----------+----+\n",
       "|         dest| origin|numflights|year|\n",
       "+-------------+-------+----------+----+\n",
       "|United States|Romania|         1|2010|\n",
       "|United States|Ireland|       264|2010|\n",
       "|United States|  India|        69|2010|\n",
       "+-------------+-------+----------+----+\n",
       "only showing top 3 rows\n",
       "\n"
      ]
     },
     "metadata": {
      "application/vnd.databricks.v1+output": {
       "addedWidgets": {},
       "arguments": {},
       "data": "+-------------+-------+----------+----+\n|         dest| origin|numflights|year|\n+-------------+-------+----------+----+\n|United States|Romania|         1|2010|\n|United States|Ireland|       264|2010|\n|United States|  India|        69|2010|\n+-------------+-------+----------+----+\nonly showing top 3 rows\n\n",
       "datasetInfos": [],
       "metadata": {},
       "removedWidgets": [],
       "type": "ansi"
      }
     },
     "output_type": "display_data"
    }
   ],
   "source": [
    "flightsAllDF.show(3)"
   ]
  },
  {
   "cell_type": "code",
   "execution_count": 0,
   "metadata": {
    "application/vnd.databricks.v1+cell": {
     "inputWidgets": {},
     "nuid": "595ae7b9-ddb1-41b1-a310-ba43be0de72a",
     "showTitle": false,
     "title": ""
    }
   },
   "outputs": [
    {
     "data": {
      "text/html": [
       "<style scoped>\n",
       "  .ansiout {\n",
       "    display: block;\n",
       "    unicode-bidi: embed;\n",
       "    white-space: pre-wrap;\n",
       "    word-wrap: break-word;\n",
       "    word-break: break-all;\n",
       "    font-family: \"Source Code Pro\", \"Menlo\", monospace;;\n",
       "    font-size: 13px;\n",
       "    color: #555;\n",
       "    margin-left: 4px;\n",
       "    line-height: 19px;\n",
       "  }\n",
       "</style>"
      ]
     },
     "metadata": {
      "application/vnd.databricks.v1+output": {
       "arguments": {},
       "data": "",
       "errorSummary": "",
       "errorTraceType": null,
       "metadata": {},
       "type": "ipynbError"
      }
     },
     "output_type": "display_data"
    }
   ],
   "source": [
    "#5. c)"
   ]
  },
  {
   "cell_type": "code",
   "execution_count": 0,
   "metadata": {
    "application/vnd.databricks.v1+cell": {
     "inputWidgets": {},
     "nuid": "ea7de663-77c8-4d31-ab4a-3ab122606268",
     "showTitle": false,
     "title": ""
    }
   },
   "outputs": [
    {
     "data": {
      "text/plain": [
       "Out[40]: pyspark.sql.types.Row"
      ]
     },
     "metadata": {
      "application/vnd.databricks.v1+output": {
       "addedWidgets": {},
       "arguments": {},
       "data": "Out[40]: pyspark.sql.types.Row",
       "datasetInfos": [],
       "metadata": {},
       "removedWidgets": [],
       "type": "ansi"
      }
     },
     "output_type": "display_data"
    }
   ],
   "source": [
    "type(flightsAllDF.first())"
   ]
  },
  {
   "cell_type": "markdown",
   "metadata": {
    "application/vnd.databricks.v1+cell": {
     "inputWidgets": {},
     "nuid": "6eee74e3-9c2b-41e2-8a24-9899577fd7f1",
     "showTitle": false,
     "title": ""
    }
   },
   "source": [
    "##Task 6"
   ]
  },
  {
   "cell_type": "code",
   "execution_count": 0,
   "metadata": {
    "application/vnd.databricks.v1+cell": {
     "inputWidgets": {},
     "nuid": "40011552-bd33-4681-bd94-7ff24006412d",
     "showTitle": false,
     "title": ""
    }
   },
   "outputs": [
    {
     "data": {
      "text/html": [
       "<style scoped>\n",
       "  .ansiout {\n",
       "    display: block;\n",
       "    unicode-bidi: embed;\n",
       "    white-space: pre-wrap;\n",
       "    word-wrap: break-word;\n",
       "    word-break: break-all;\n",
       "    font-family: \"Source Code Pro\", \"Menlo\", monospace;;\n",
       "    font-size: 13px;\n",
       "    color: #555;\n",
       "    margin-left: 4px;\n",
       "    line-height: 19px;\n",
       "  }\n",
       "</style>"
      ]
     },
     "metadata": {
      "application/vnd.databricks.v1+output": {
       "arguments": {},
       "data": "",
       "errorSummary": "",
       "errorTraceType": null,
       "metadata": {},
       "type": "ipynbError"
      }
     },
     "output_type": "display_data"
    }
   ],
   "source": [
    "#6. a)"
   ]
  },
  {
   "cell_type": "code",
   "execution_count": 0,
   "metadata": {
    "application/vnd.databricks.v1+cell": {
     "inputWidgets": {},
     "nuid": "3f72f682-5a8d-421a-8564-b85140b214a3",
     "showTitle": false,
     "title": ""
    }
   },
   "outputs": [],
   "source": [
    "flightsAllDF_1 = flightsAllDF \\\n",
    "                  .withColumnRenamed('count', 'numflights')\\\n",
    "                  .withColumn(\"filename\", \n",
    "                  F.input_file_name())\n",
    " "
   ]
  },
  {
   "cell_type": "code",
   "execution_count": 0,
   "metadata": {
    "application/vnd.databricks.v1+cell": {
     "inputWidgets": {},
     "nuid": "28503ab8-7a97-48f9-9cf7-841f0eba8ad8",
     "showTitle": false,
     "title": ""
    }
   },
   "outputs": [
    {
     "data": {
      "text/html": [
       "<style scoped>\n",
       "  .ansiout {\n",
       "    display: block;\n",
       "    unicode-bidi: embed;\n",
       "    white-space: pre-wrap;\n",
       "    word-wrap: break-word;\n",
       "    word-break: break-all;\n",
       "    font-family: \"Source Code Pro\", \"Menlo\", monospace;;\n",
       "    font-size: 13px;\n",
       "    color: #555;\n",
       "    margin-left: 4px;\n",
       "    line-height: 19px;\n",
       "  }\n",
       "</style>"
      ]
     },
     "metadata": {
      "application/vnd.databricks.v1+output": {
       "arguments": {},
       "data": "",
       "errorSummary": "",
       "errorTraceType": null,
       "metadata": {},
       "type": "ipynbError"
      }
     },
     "output_type": "display_data"
    }
   ],
   "source": [
    "6. b)"
   ]
  },
  {
   "cell_type": "code",
   "execution_count": 0,
   "metadata": {
    "application/vnd.databricks.v1+cell": {
     "inputWidgets": {},
     "nuid": "197b4b76-44ad-410d-a662-219c9f948a6b",
     "showTitle": false,
     "title": ""
    }
   },
   "outputs": [],
   "source": [
    "flightsAllDF_1 = flightsAllDF.select('dest', 'origin', \n",
    "                 F.col('count').alias('numflights'),  \n",
    "                 F.input_file_name().alias('filename') )"
   ]
  },
  {
   "cell_type": "code",
   "execution_count": 0,
   "metadata": {
    "application/vnd.databricks.v1+cell": {
     "inputWidgets": {},
     "nuid": "6a36a319-01a4-4320-a116-228a7ff66d25",
     "showTitle": false,
     "title": ""
    }
   },
   "outputs": [
    {
     "data": {
      "text/html": [
       "<style scoped>\n",
       "  .ansiout {\n",
       "    display: block;\n",
       "    unicode-bidi: embed;\n",
       "    white-space: pre-wrap;\n",
       "    word-wrap: break-word;\n",
       "    word-break: break-all;\n",
       "    font-family: \"Source Code Pro\", \"Menlo\", monospace;;\n",
       "    font-size: 13px;\n",
       "    color: #555;\n",
       "    margin-left: 4px;\n",
       "    line-height: 19px;\n",
       "  }\n",
       "</style>"
      ]
     },
     "metadata": {
      "application/vnd.databricks.v1+output": {
       "arguments": {},
       "data": "",
       "errorSummary": "",
       "errorTraceType": null,
       "metadata": {},
       "type": "ipynbError"
      }
     },
     "output_type": "display_data"
    }
   ],
   "source": [
    "6. c)"
   ]
  },
  {
   "cell_type": "code",
   "execution_count": 0,
   "metadata": {
    "application/vnd.databricks.v1+cell": {
     "inputWidgets": {},
     "nuid": "a56acc15-3901-4607-ae93-bba1a00bd767",
     "showTitle": false,
     "title": ""
    }
   },
   "outputs": [
    {
     "data": {
      "text/plain": [
       "+--------------------------------------------------------------------------------+----------+\n",
       "|filename                                                                        |numflights|\n",
       "+--------------------------------------------------------------------------------+----------+\n",
       "|dbfs:/databricks-datasets/definitive-guide/data/flight-data/csv/2010-summary.csv|1         |\n",
       "|dbfs:/databricks-datasets/definitive-guide/data/flight-data/csv/2010-summary.csv|264       |\n",
       "|dbfs:/databricks-datasets/definitive-guide/data/flight-data/csv/2010-summary.csv|69        |\n",
       "|dbfs:/databricks-datasets/definitive-guide/data/flight-data/csv/2010-summary.csv|24        |\n",
       "|dbfs:/databricks-datasets/definitive-guide/data/flight-data/csv/2010-summary.csv|1         |\n",
       "+--------------------------------------------------------------------------------+----------+\n",
       "only showing top 5 rows\n",
       "\n"
      ]
     },
     "metadata": {
      "application/vnd.databricks.v1+output": {
       "addedWidgets": {},
       "arguments": {},
       "data": "+--------------------------------------------------------------------------------+----------+\n|filename                                                                        |numflights|\n+--------------------------------------------------------------------------------+----------+\n|dbfs:/databricks-datasets/definitive-guide/data/flight-data/csv/2010-summary.csv|1         |\n|dbfs:/databricks-datasets/definitive-guide/data/flight-data/csv/2010-summary.csv|264       |\n|dbfs:/databricks-datasets/definitive-guide/data/flight-data/csv/2010-summary.csv|69        |\n|dbfs:/databricks-datasets/definitive-guide/data/flight-data/csv/2010-summary.csv|24        |\n|dbfs:/databricks-datasets/definitive-guide/data/flight-data/csv/2010-summary.csv|1         |\n+--------------------------------------------------------------------------------+----------+\nonly showing top 5 rows\n\n",
       "datasetInfos": [],
       "metadata": {},
       "removedWidgets": [],
       "type": "ansi"
      }
     },
     "output_type": "display_data"
    }
   ],
   "source": [
    "flightsAllDF_1.select('filename', 'numflights').show(5, truncate=False)"
   ]
  },
  {
   "cell_type": "code",
   "execution_count": 0,
   "metadata": {
    "application/vnd.databricks.v1+cell": {
     "inputWidgets": {},
     "nuid": "c046e895-fcf0-43a2-ba0a-7affc3fb88dd",
     "showTitle": false,
     "title": ""
    }
   },
   "outputs": [
    {
     "data": {
      "text/html": [
       "<style scoped>\n",
       "  .ansiout {\n",
       "    display: block;\n",
       "    unicode-bidi: embed;\n",
       "    white-space: pre-wrap;\n",
       "    word-wrap: break-word;\n",
       "    word-break: break-all;\n",
       "    font-family: \"Source Code Pro\", \"Menlo\", monospace;;\n",
       "    font-size: 13px;\n",
       "    color: #555;\n",
       "    margin-left: 4px;\n",
       "    line-height: 19px;\n",
       "  }\n",
       "</style>"
      ]
     },
     "metadata": {
      "application/vnd.databricks.v1+output": {
       "arguments": {},
       "data": "",
       "errorSummary": "",
       "errorTraceType": null,
       "metadata": {},
       "type": "ipynbError"
      }
     },
     "output_type": "display_data"
    }
   ],
   "source": [
    "6. d)"
   ]
  },
  {
   "cell_type": "code",
   "execution_count": 0,
   "metadata": {
    "application/vnd.databricks.v1+cell": {
     "inputWidgets": {},
     "nuid": "dd40ff5f-9350-43a0-8647-af1912f5db54",
     "showTitle": false,
     "title": ""
    }
   },
   "outputs": [
    {
     "data": {
      "text/plain": [
       "Out[45]: ['dest', 'origin', 'numflights', 'filename']"
      ]
     },
     "metadata": {
      "application/vnd.databricks.v1+output": {
       "addedWidgets": {},
       "arguments": {},
       "data": "Out[45]: ['dest', 'origin', 'numflights', 'filename']",
       "datasetInfos": [],
       "metadata": {},
       "removedWidgets": [],
       "type": "ansi"
      }
     },
     "output_type": "display_data"
    }
   ],
   "source": [
    "flightsAllDF= flightsAllDF_1\n",
    "flightsAllDF.columns"
   ]
  },
  {
   "cell_type": "markdown",
   "metadata": {
    "application/vnd.databricks.v1+cell": {
     "inputWidgets": {},
     "nuid": "f75493e2-1f8c-49ed-a3a5-5f8372a974f2",
     "showTitle": false,
     "title": ""
    }
   },
   "source": [
    "##Task 7"
   ]
  },
  {
   "cell_type": "code",
   "execution_count": 0,
   "metadata": {
    "application/vnd.databricks.v1+cell": {
     "inputWidgets": {},
     "nuid": "c7a396f9-86f6-42b1-a98f-faff8f9c7441",
     "showTitle": false,
     "title": ""
    }
   },
   "outputs": [
    {
     "data": {
      "text/html": [
       "<style scoped>\n",
       "  .ansiout {\n",
       "    display: block;\n",
       "    unicode-bidi: embed;\n",
       "    white-space: pre-wrap;\n",
       "    word-wrap: break-word;\n",
       "    word-break: break-all;\n",
       "    font-family: \"Source Code Pro\", \"Menlo\", monospace;;\n",
       "    font-size: 13px;\n",
       "    color: #555;\n",
       "    margin-left: 4px;\n",
       "    line-height: 19px;\n",
       "  }\n",
       "</style>"
      ]
     },
     "metadata": {
      "application/vnd.databricks.v1+output": {
       "arguments": {},
       "data": "",
       "errorSummary": "",
       "errorTraceType": null,
       "metadata": {},
       "type": "ipynbError"
      }
     },
     "output_type": "display_data"
    }
   ],
   "source": [
    "7. a)"
   ]
  },
  {
   "cell_type": "code",
   "execution_count": 0,
   "metadata": {
    "application/vnd.databricks.v1+cell": {
     "inputWidgets": {},
     "nuid": "90f5c6f9-e5b9-4108-8653-2e4a3da3ec45",
     "showTitle": false,
     "title": ""
    }
   },
   "outputs": [],
   "source": [
    "flightsAllDF_2 = \\\n",
    "          flightsAllDF.select('*', \n",
    "          F.regexp_extract('filename', '\\d{4}', 0) \\\n",
    "          .name(\"year\")\\\n",
    "          .astype('int') )                 \n",
    " "
   ]
  },
  {
   "cell_type": "code",
   "execution_count": 0,
   "metadata": {
    "application/vnd.databricks.v1+cell": {
     "inputWidgets": {},
     "nuid": "17ac156d-2095-4360-9a9f-571f6be501dc",
     "showTitle": false,
     "title": ""
    }
   },
   "outputs": [
    {
     "data": {
      "text/html": [
       "<style scoped>\n",
       "  .ansiout {\n",
       "    display: block;\n",
       "    unicode-bidi: embed;\n",
       "    white-space: pre-wrap;\n",
       "    word-wrap: break-word;\n",
       "    word-break: break-all;\n",
       "    font-family: \"Source Code Pro\", \"Menlo\", monospace;;\n",
       "    font-size: 13px;\n",
       "    color: #555;\n",
       "    margin-left: 4px;\n",
       "    line-height: 19px;\n",
       "  }\n",
       "</style>"
      ]
     },
     "metadata": {
      "application/vnd.databricks.v1+output": {
       "arguments": {},
       "data": "",
       "errorSummary": "",
       "errorTraceType": null,
       "metadata": {},
       "type": "ipynbError"
      }
     },
     "output_type": "display_data"
    }
   ],
   "source": [
    "# 7. b)"
   ]
  },
  {
   "cell_type": "code",
   "execution_count": 0,
   "metadata": {
    "application/vnd.databricks.v1+cell": {
     "inputWidgets": {},
     "nuid": "5b2823bb-eaa1-40c0-acca-6c6175668406",
     "showTitle": false,
     "title": ""
    }
   },
   "outputs": [],
   "source": [
    "flightsAllDF = flightsAllDF_2.drop('filename')"
   ]
  },
  {
   "cell_type": "code",
   "execution_count": 0,
   "metadata": {
    "application/vnd.databricks.v1+cell": {
     "inputWidgets": {},
     "nuid": "6e51518b-5722-45ad-8862-1a206d9acf82",
     "showTitle": false,
     "title": ""
    }
   },
   "outputs": [
    {
     "data": {
      "text/html": [
       "<style scoped>\n",
       "  .ansiout {\n",
       "    display: block;\n",
       "    unicode-bidi: embed;\n",
       "    white-space: pre-wrap;\n",
       "    word-wrap: break-word;\n",
       "    word-break: break-all;\n",
       "    font-family: \"Source Code Pro\", \"Menlo\", monospace;;\n",
       "    font-size: 13px;\n",
       "    color: #555;\n",
       "    margin-left: 4px;\n",
       "    line-height: 19px;\n",
       "  }\n",
       "</style>"
      ]
     },
     "metadata": {
      "application/vnd.databricks.v1+output": {
       "arguments": {},
       "data": "",
       "errorSummary": "",
       "errorTraceType": null,
       "metadata": {},
       "type": "ipynbError"
      }
     },
     "output_type": "display_data"
    }
   ],
   "source": [
    "# 7. c)"
   ]
  },
  {
   "cell_type": "code",
   "execution_count": 0,
   "metadata": {
    "application/vnd.databricks.v1+cell": {
     "inputWidgets": {},
     "nuid": "c2725e0e-8443-4a7b-a9db-f79299b11eff",
     "showTitle": false,
     "title": ""
    }
   },
   "outputs": [
    {
     "data": {
      "text/plain": [
       "+-----------------+-------------+----------+----+\n",
       "|             dest|       origin|numflights|year|\n",
       "+-----------------+-------------+----------+----+\n",
       "|    United States|      Romania|         1|2010|\n",
       "|    United States|      Ireland|       264|2010|\n",
       "|    United States|        India|        69|2010|\n",
       "|            Egypt|United States|        24|2010|\n",
       "|Equatorial Guinea|United States|         1|2010|\n",
       "+-----------------+-------------+----------+----+\n",
       "only showing top 5 rows\n",
       "\n"
      ]
     },
     "metadata": {
      "application/vnd.databricks.v1+output": {
       "addedWidgets": {},
       "arguments": {},
       "data": "+-----------------+-------------+----------+----+\n|             dest|       origin|numflights|year|\n+-----------------+-------------+----------+----+\n|    United States|      Romania|         1|2010|\n|    United States|      Ireland|       264|2010|\n|    United States|        India|        69|2010|\n|            Egypt|United States|        24|2010|\n|Equatorial Guinea|United States|         1|2010|\n+-----------------+-------------+----------+----+\nonly showing top 5 rows\n\n",
       "datasetInfos": [],
       "metadata": {},
       "removedWidgets": [],
       "type": "ansi"
      }
     },
     "output_type": "display_data"
    },
    {
     "data": {
      "text/html": [
       "<style scoped>\n",
       "  .table-result-container {\n",
       "    max-height: 300px;\n",
       "    overflow: auto;\n",
       "  }\n",
       "  table, th, td {\n",
       "    border: 1px solid black;\n",
       "    border-collapse: collapse;\n",
       "  }\n",
       "  th, td {\n",
       "    padding: 5px;\n",
       "  }\n",
       "  th {\n",
       "    text-align: left;\n",
       "  }\n",
       "</style><div class='table-result-container'><table class='table-result'><thead style='background-color: white'><tr><th>dest</th><th>origin</th><th>numflights</th><th>year</th></tr></thead><tbody><tr><td>United States</td><td>Romania</td><td>1</td><td>2010</td></tr><tr><td>United States</td><td>Ireland</td><td>264</td><td>2010</td></tr><tr><td>United States</td><td>India</td><td>69</td><td>2010</td></tr><tr><td>Egypt</td><td>United States</td><td>24</td><td>2010</td></tr><tr><td>Equatorial Guinea</td><td>United States</td><td>1</td><td>2010</td></tr></tbody></table></div>"
      ]
     },
     "metadata": {
      "application/vnd.databricks.v1+output": {
       "addedWidgets": {},
       "aggData": [],
       "aggError": "",
       "aggOverflow": false,
       "aggSchema": [],
       "aggSeriesLimitReached": false,
       "aggType": "",
       "arguments": {},
       "columnCustomDisplayInfos": {},
       "data": [
        [
         "United States",
         "Romania",
         1,
         2010
        ],
        [
         "United States",
         "Ireland",
         264,
         2010
        ],
        [
         "United States",
         "India",
         69,
         2010
        ],
        [
         "Egypt",
         "United States",
         24,
         2010
        ],
        [
         "Equatorial Guinea",
         "United States",
         1,
         2010
        ]
       ],
       "datasetInfos": [],
       "dbfsResultPath": null,
       "isJsonSchema": true,
       "metadata": {},
       "overflow": false,
       "plotOptions": {
        "customPlotOptions": {},
        "displayType": "table",
        "pivotAggregation": null,
        "pivotColumns": null,
        "xColumns": null,
        "yColumns": null
       },
       "removedWidgets": [],
       "schema": [
        {
         "metadata": "{}",
         "name": "dest",
         "type": "\"string\""
        },
        {
         "metadata": "{}",
         "name": "origin",
         "type": "\"string\""
        },
        {
         "metadata": "{}",
         "name": "numflights",
         "type": "\"long\""
        },
        {
         "metadata": "{}",
         "name": "year",
         "type": "\"integer\""
        }
       ],
       "type": "table"
      }
     },
     "output_type": "display_data"
    }
   ],
   "source": [
    "display(flightsAllDF.limit(5))\n",
    "flightsAllDF.show(5)"
   ]
  },
  {
   "cell_type": "code",
   "execution_count": 0,
   "metadata": {
    "application/vnd.databricks.v1+cell": {
     "inputWidgets": {},
     "nuid": "a5beea30-a864-43ea-96e1-08abdb29c9b2",
     "showTitle": false,
     "title": ""
    }
   },
   "outputs": [
    {
     "data": {
      "text/html": [
       "<style scoped>\n",
       "  .ansiout {\n",
       "    display: block;\n",
       "    unicode-bidi: embed;\n",
       "    white-space: pre-wrap;\n",
       "    word-wrap: break-word;\n",
       "    word-break: break-all;\n",
       "    font-family: \"Source Code Pro\", \"Menlo\", monospace;;\n",
       "    font-size: 13px;\n",
       "    color: #555;\n",
       "    margin-left: 4px;\n",
       "    line-height: 19px;\n",
       "  }\n",
       "</style>"
      ]
     },
     "metadata": {
      "application/vnd.databricks.v1+output": {
       "arguments": {},
       "data": "",
       "errorSummary": "",
       "errorTraceType": null,
       "metadata": {},
       "type": "ipynbError"
      }
     },
     "output_type": "display_data"
    }
   ],
   "source": [
    "# 7. d)"
   ]
  },
  {
   "cell_type": "code",
   "execution_count": 0,
   "metadata": {
    "application/vnd.databricks.v1+cell": {
     "inputWidgets": {},
     "nuid": "1232e97f-14f1-4649-9965-ad8abb31b04a",
     "showTitle": false,
     "title": ""
    }
   },
   "outputs": [
    {
     "data": {
      "text/plain": [
       "Out[49]: [('dest', 'string'),\n",
       " ('origin', 'string'),\n",
       " ('numflights', 'bigint'),\n",
       " ('year', 'int')]"
      ]
     },
     "metadata": {
      "application/vnd.databricks.v1+output": {
       "addedWidgets": {},
       "arguments": {},
       "data": "Out[49]: [('dest', 'string'),\n ('origin', 'string'),\n ('numflights', 'bigint'),\n ('year', 'int')]",
       "datasetInfos": [],
       "metadata": {},
       "removedWidgets": [],
       "type": "ansi"
      }
     },
     "output_type": "display_data"
    }
   ],
   "source": [
    "flightsAllDF.dtypes"
   ]
  },
  {
   "cell_type": "markdown",
   "metadata": {
    "application/vnd.databricks.v1+cell": {
     "inputWidgets": {},
     "nuid": "f4147a85-1f82-4681-8f7c-17ac2f7b5af9",
     "showTitle": false,
     "title": ""
    }
   },
   "source": [
    "##Task 8"
   ]
  },
  {
   "cell_type": "code",
   "execution_count": 0,
   "metadata": {
    "application/vnd.databricks.v1+cell": {
     "inputWidgets": {},
     "nuid": "ef4d91c1-9a91-4e7f-bfaa-1833ad5f31b9",
     "showTitle": false,
     "title": ""
    }
   },
   "outputs": [
    {
     "data": {
      "text/html": [
       "<style scoped>\n",
       "  .ansiout {\n",
       "    display: block;\n",
       "    unicode-bidi: embed;\n",
       "    white-space: pre-wrap;\n",
       "    word-wrap: break-word;\n",
       "    word-break: break-all;\n",
       "    font-family: \"Source Code Pro\", \"Menlo\", monospace;;\n",
       "    font-size: 13px;\n",
       "    color: #555;\n",
       "    margin-left: 4px;\n",
       "    line-height: 19px;\n",
       "  }\n",
       "</style>"
      ]
     },
     "metadata": {
      "application/vnd.databricks.v1+output": {
       "arguments": {},
       "data": "",
       "errorSummary": "",
       "errorTraceType": null,
       "metadata": {},
       "type": "ipynbError"
      }
     },
     "output_type": "display_data"
    }
   ],
   "source": [
    "#8. a)"
   ]
  },
  {
   "cell_type": "code",
   "execution_count": 0,
   "metadata": {
    "application/vnd.databricks.v1+cell": {
     "inputWidgets": {},
     "nuid": "c829df22-d92e-4411-9474-6775f928a9b1",
     "showTitle": false,
     "title": ""
    }
   },
   "outputs": [
    {
     "data": {
      "text/plain": [
       "+-----------+-------------+----------+----+\n",
       "|       dest|       origin|numflights|year|\n",
       "+-----------+-------------+----------+----+\n",
       "|Afghanistan|United States|        11|2010|\n",
       "|Afghanistan|United States|         8|2011|\n",
       "|Afghanistan|United States|         5|2012|\n",
       "|    Algeria|United States|         9|2014|\n",
       "|    Algeria|United States|         4|2015|\n",
       "|    Algeria|United States|         2|2013|\n",
       "|     Angola|United States|        15|2015|\n",
       "|     Angola|United States|        14|2010|\n",
       "|     Angola|United States|        13|2011|\n",
       "|     Angola|United States|        13|2014|\n",
       "+-----------+-------------+----------+----+\n",
       "\n"
      ]
     },
     "metadata": {
      "application/vnd.databricks.v1+output": {
       "addedWidgets": {},
       "arguments": {},
       "data": "+-----------+-------------+----------+----+\n|       dest|       origin|numflights|year|\n+-----------+-------------+----------+----+\n|Afghanistan|United States|        11|2010|\n|Afghanistan|United States|         8|2011|\n|Afghanistan|United States|         5|2012|\n|    Algeria|United States|         9|2014|\n|    Algeria|United States|         4|2015|\n|    Algeria|United States|         2|2013|\n|     Angola|United States|        15|2015|\n|     Angola|United States|        14|2010|\n|     Angola|United States|        13|2011|\n|     Angola|United States|        13|2014|\n+-----------+-------------+----------+----+\n\n",
       "datasetInfos": [],
       "metadata": {},
       "removedWidgets": [],
       "type": "ansi"
      }
     },
     "output_type": "display_data"
    }
   ],
   "source": [
    "flightsAllDF.sort('dest','numflights', \n",
    "             ascending = [True, False]) \\\n",
    "            .limit(10) \\\n",
    "            .show()"
   ]
  },
  {
   "cell_type": "markdown",
   "metadata": {
    "application/vnd.databricks.v1+cell": {
     "inputWidgets": {},
     "nuid": "3cb732af-ffef-4ee7-9f51-fb0a7d905f34",
     "showTitle": false,
     "title": ""
    }
   },
   "source": [
    "##Task 9"
   ]
  },
  {
   "cell_type": "code",
   "execution_count": 0,
   "metadata": {
    "application/vnd.databricks.v1+cell": {
     "inputWidgets": {},
     "nuid": "bdd1d960-1507-431e-abf7-2610431806dd",
     "showTitle": false,
     "title": ""
    }
   },
   "outputs": [
    {
     "data": {
      "text/plain": [
       "+--------------------+\n",
       "|count(DISTINCT dest)|\n",
       "+--------------------+\n",
       "|                 167|\n",
       "+--------------------+\n",
       "\n"
      ]
     },
     "metadata": {
      "application/vnd.databricks.v1+output": {
       "addedWidgets": {},
       "arguments": {},
       "data": "+--------------------+\n|count(DISTINCT dest)|\n+--------------------+\n|                 167|\n+--------------------+\n\n",
       "datasetInfos": [],
       "metadata": {},
       "removedWidgets": [],
       "type": "ansi"
      }
     },
     "output_type": "display_data"
    }
   ],
   "source": [
    "flightsAllDF.select(F.countDistinct('dest')).show()"
   ]
  },
  {
   "cell_type": "code",
   "execution_count": 0,
   "metadata": {
    "application/vnd.databricks.v1+cell": {
     "inputWidgets": {},
     "nuid": "055cc0e6-913e-44a3-a214-e98ff285e379",
     "showTitle": false,
     "title": ""
    }
   },
   "outputs": [
    {
     "data": {
      "text/plain": [
       "+--------------------------+\n",
       "|count(DISTINCT dest, year)|\n",
       "+--------------------------+\n",
       "|                       772|\n",
       "+--------------------------+\n",
       "\n"
      ]
     },
     "metadata": {
      "application/vnd.databricks.v1+output": {
       "addedWidgets": {},
       "arguments": {},
       "data": "+--------------------------+\n|count(DISTINCT dest, year)|\n+--------------------------+\n|                       772|\n+--------------------------+\n\n",
       "datasetInfos": [],
       "metadata": {},
       "removedWidgets": [],
       "type": "ansi"
      }
     },
     "output_type": "display_data"
    }
   ],
   "source": [
    "flightsAllDF.select(F.countDistinct('dest', 'year')).show()\n"
   ]
  },
  {
   "cell_type": "markdown",
   "metadata": {
    "application/vnd.databricks.v1+cell": {
     "inputWidgets": {},
     "nuid": "52f72644-ea6a-46ee-992a-8899ddd530cd",
     "showTitle": false,
     "title": ""
    }
   },
   "source": [
    "##Task 10"
   ]
  },
  {
   "cell_type": "code",
   "execution_count": 0,
   "metadata": {
    "application/vnd.databricks.v1+cell": {
     "inputWidgets": {},
     "nuid": "c51068ec-c757-486c-9d3b-804235f323f3",
     "showTitle": false,
     "title": ""
    }
   },
   "outputs": [
    {
     "data": {
      "text/html": [
       "<style scoped>\n",
       "  .ansiout {\n",
       "    display: block;\n",
       "    unicode-bidi: embed;\n",
       "    white-space: pre-wrap;\n",
       "    word-wrap: break-word;\n",
       "    word-break: break-all;\n",
       "    font-family: \"Source Code Pro\", \"Menlo\", monospace;;\n",
       "    font-size: 13px;\n",
       "    color: #555;\n",
       "    margin-left: 4px;\n",
       "    line-height: 19px;\n",
       "  }\n",
       "</style>"
      ]
     },
     "metadata": {
      "application/vnd.databricks.v1+output": {
       "arguments": {},
       "data": "",
       "errorSummary": "",
       "errorTraceType": null,
       "metadata": {},
       "type": "ipynbError"
      }
     },
     "output_type": "display_data"
    }
   ],
   "source": [
    "#10. a)"
   ]
  },
  {
   "cell_type": "code",
   "execution_count": 0,
   "metadata": {
    "application/vnd.databricks.v1+cell": {
     "inputWidgets": {},
     "nuid": "11f15384-7ab5-42e8-ba4a-0b59484df68a",
     "showTitle": false,
     "title": ""
    }
   },
   "outputs": [
    {
     "data": {
      "text/plain": [
       "Out[54]: 12"
      ]
     },
     "metadata": {
      "application/vnd.databricks.v1+output": {
       "addedWidgets": {},
       "arguments": {},
       "data": "Out[54]: 12",
       "datasetInfos": [],
       "metadata": {},
       "removedWidgets": [],
       "type": "ansi"
      }
     },
     "output_type": "display_data"
    }
   ],
   "source": [
    "flightsAllDF.filter(F.col('dest').isin('Japan', 'South Korea')).count()"
   ]
  },
  {
   "cell_type": "code",
   "execution_count": 0,
   "metadata": {
    "application/vnd.databricks.v1+cell": {
     "inputWidgets": {},
     "nuid": "a4f5a6cd-5caa-4244-98a3-cc9d1e281eb9",
     "showTitle": false,
     "title": ""
    }
   },
   "outputs": [
    {
     "data": {
      "text/html": [
       "<style scoped>\n",
       "  .ansiout {\n",
       "    display: block;\n",
       "    unicode-bidi: embed;\n",
       "    white-space: pre-wrap;\n",
       "    word-wrap: break-word;\n",
       "    word-break: break-all;\n",
       "    font-family: \"Source Code Pro\", \"Menlo\", monospace;;\n",
       "    font-size: 13px;\n",
       "    color: #555;\n",
       "    margin-left: 4px;\n",
       "    line-height: 19px;\n",
       "  }\n",
       "</style>"
      ]
     },
     "metadata": {
      "application/vnd.databricks.v1+output": {
       "arguments": {},
       "data": "",
       "errorSummary": "",
       "errorTraceType": null,
       "metadata": {},
       "type": "ipynbError"
      }
     },
     "output_type": "display_data"
    }
   ],
   "source": [
    "#10. b)"
   ]
  },
  {
   "cell_type": "code",
   "execution_count": 0,
   "metadata": {
    "application/vnd.databricks.v1+cell": {
     "inputWidgets": {},
     "nuid": "45c89915-a5e8-4280-9c11-6a055f569657",
     "showTitle": false,
     "title": ""
    }
   },
   "outputs": [
    {
     "data": {
      "text/plain": [
       "+-----------+-------------+----------+----+\n",
       "|       dest|       origin|numflights|year|\n",
       "+-----------+-------------+----------+----+\n",
       "|South Korea|United States|       842|2013|\n",
       "+-----------+-------------+----------+----+\n",
       "\n"
      ]
     },
     "metadata": {
      "application/vnd.databricks.v1+output": {
       "addedWidgets": {},
       "arguments": {},
       "data": "+-----------+-------------+----------+----+\n|       dest|       origin|numflights|year|\n+-----------+-------------+----------+----+\n|South Korea|United States|       842|2013|\n+-----------+-------------+----------+----+\n\n",
       "datasetInfos": [],
       "metadata": {},
       "removedWidgets": [],
       "type": "ansi"
      }
     },
     "output_type": "display_data"
    }
   ],
   "source": [
    "flightsAllDF.where((F.col('dest') == 'South Korea') & \n",
    "             (F.col('origin') == 'United States') & \n",
    "             (F.col('year') ==2013)).show()"
   ]
  },
  {
   "cell_type": "markdown",
   "metadata": {
    "application/vnd.databricks.v1+cell": {
     "inputWidgets": {},
     "nuid": "775f8a27-76b5-4c1e-8f03-9cb0259e66b7",
     "showTitle": false,
     "title": ""
    }
   },
   "source": [
    "##Task 11"
   ]
  },
  {
   "cell_type": "code",
   "execution_count": 0,
   "metadata": {
    "application/vnd.databricks.v1+cell": {
     "inputWidgets": {},
     "nuid": "03f0d1b1-b696-4ad8-8fe1-038aa2721f61",
     "showTitle": false,
     "title": ""
    }
   },
   "outputs": [
    {
     "data": {
      "text/html": [
       "<style scoped>\n",
       "  .ansiout {\n",
       "    display: block;\n",
       "    unicode-bidi: embed;\n",
       "    white-space: pre-wrap;\n",
       "    word-wrap: break-word;\n",
       "    word-break: break-all;\n",
       "    font-family: \"Source Code Pro\", \"Menlo\", monospace;;\n",
       "    font-size: 13px;\n",
       "    color: #555;\n",
       "    margin-left: 4px;\n",
       "    line-height: 19px;\n",
       "  }\n",
       "</style>"
      ]
     },
     "metadata": {
      "application/vnd.databricks.v1+output": {
       "arguments": {},
       "data": "",
       "errorSummary": "",
       "errorTraceType": null,
       "metadata": {},
       "type": "ipynbError"
      }
     },
     "output_type": "display_data"
    }
   ],
   "source": [
    "11 a)"
   ]
  },
  {
   "cell_type": "code",
   "execution_count": 0,
   "metadata": {
    "application/vnd.databricks.v1+cell": {
     "inputWidgets": {},
     "nuid": "8b3d9123-663a-4127-b5be-61ad58bfc73c",
     "showTitle": false,
     "title": ""
    }
   },
   "outputs": [
    {
     "data": {
      "text/html": [
       "<style scoped>\n",
       "  .table-result-container {\n",
       "    max-height: 300px;\n",
       "    overflow: auto;\n",
       "  }\n",
       "  table, th, td {\n",
       "    border: 1px solid black;\n",
       "    border-collapse: collapse;\n",
       "  }\n",
       "  th, td {\n",
       "    padding: 5px;\n",
       "  }\n",
       "  th {\n",
       "    text-align: left;\n",
       "  }\n",
       "</style><div class='table-result-container'><table class='table-result'><thead style='background-color: white'><tr><th>dest</th><th>origin</th><th>numflights</th><th>year</th></tr></thead><tbody><tr><td>United States</td><td>United States</td><td>348113</td><td>2010</td></tr><tr><td>United States</td><td>United States</td><td>352742</td><td>2011</td></tr><tr><td>United States</td><td>United States</td><td>347452</td><td>2012</td></tr><tr><td>United States</td><td>United States</td><td>343132</td><td>2013</td></tr><tr><td>United States</td><td>United States</td><td>358354</td><td>2014</td></tr><tr><td>United States</td><td>United States</td><td>370002</td><td>2015</td></tr></tbody></table></div>"
      ]
     },
     "metadata": {
      "application/vnd.databricks.v1+output": {
       "addedWidgets": {},
       "aggData": [],
       "aggError": "",
       "aggOverflow": false,
       "aggSchema": [],
       "aggSeriesLimitReached": false,
       "aggType": "",
       "arguments": {},
       "columnCustomDisplayInfos": {},
       "data": [
        [
         "United States",
         "United States",
         348113,
         2010
        ],
        [
         "United States",
         "United States",
         352742,
         2011
        ],
        [
         "United States",
         "United States",
         347452,
         2012
        ],
        [
         "United States",
         "United States",
         343132,
         2013
        ],
        [
         "United States",
         "United States",
         358354,
         2014
        ],
        [
         "United States",
         "United States",
         370002,
         2015
        ]
       ],
       "datasetInfos": [],
       "dbfsResultPath": null,
       "isJsonSchema": true,
       "metadata": {},
       "overflow": false,
       "plotOptions": {
        "customPlotOptions": {
         "boxPlot": [],
         "plotlyBar": [
          {
           "key": "grouped",
           "value": true
          },
          {
           "key": "stacked",
           "value": false
          },
          {
           "key": "100_stacked",
           "value": false
          }
         ]
        },
        "displayType": "plotlyBar",
        "pivotAggregation": "avg",
        "pivotColumns": [
         "year"
        ],
        "xColumns": [],
        "yColumns": [
         "numflights"
        ]
       },
       "removedWidgets": [],
       "schema": [
        {
         "metadata": "{}",
         "name": "dest",
         "type": "\"string\""
        },
        {
         "metadata": "{}",
         "name": "origin",
         "type": "\"string\""
        },
        {
         "metadata": "{}",
         "name": "numflights",
         "type": "\"long\""
        },
        {
         "metadata": "{}",
         "name": "year",
         "type": "\"integer\""
        }
       ],
       "type": "table"
      }
     },
     "output_type": "display_data"
    }
   ],
   "source": [
    "output = flightsAllDF.filter((F.col('dest') == 'United States') & \n",
    "         (F.col('origin') == 'United States')).orderBy('year', ascending = True) \n",
    "display(output)\n"
   ]
  },
  {
   "cell_type": "markdown",
   "metadata": {
    "application/vnd.databricks.v1+cell": {
     "inputWidgets": {},
     "nuid": "841f4062-2a9b-41b2-8802-f0644dde85dd",
     "showTitle": false,
     "title": ""
    }
   },
   "source": [
    "##Task 12"
   ]
  },
  {
   "cell_type": "code",
   "execution_count": 0,
   "metadata": {
    "application/vnd.databricks.v1+cell": {
     "inputWidgets": {},
     "nuid": "ed1c8be9-f5a5-4a77-ad86-f7740658f0f5",
     "showTitle": false,
     "title": ""
    }
   },
   "outputs": [
    {
     "data": {
      "text/plain": [
       "+----+---------------+\n",
       "|year|sum(numflights)|\n",
       "+----+---------------+\n",
       "|2015|         453316|\n",
       "|2014|         436855|\n",
       "|2011|         428426|\n",
       "|2010|         422269|\n",
       "|2012|         422180|\n",
       "|2013|         417869|\n",
       "+----+---------------+\n",
       "\n"
      ]
     },
     "metadata": {
      "application/vnd.databricks.v1+output": {
       "addedWidgets": {},
       "arguments": {},
       "data": "+----+---------------+\n|year|sum(numflights)|\n+----+---------------+\n|2015|         453316|\n|2014|         436855|\n|2011|         428426|\n|2010|         422269|\n|2012|         422180|\n|2013|         417869|\n+----+---------------+\n\n",
       "datasetInfos": [],
       "metadata": {},
       "removedWidgets": [],
       "type": "ansi"
      }
     },
     "output_type": "display_data"
    }
   ],
   "source": [
    "flightsAllDF.groupby('year').sum('numflights').sort(F.desc('sum(numflights)')).show()"
   ]
  },
  {
   "cell_type": "markdown",
   "metadata": {
    "application/vnd.databricks.v1+cell": {
     "inputWidgets": {},
     "nuid": "5b9839d9-5c9e-4406-a95a-63f8608bc42c",
     "showTitle": false,
     "title": ""
    }
   },
   "source": [
    "##Task 13"
   ]
  },
  {
   "cell_type": "code",
   "execution_count": 0,
   "metadata": {
    "application/vnd.databricks.v1+cell": {
     "inputWidgets": {},
     "nuid": "766f4a6a-8071-40dc-b1b9-674684b2d640",
     "showTitle": false,
     "title": ""
    }
   },
   "outputs": [
    {
     "data": {
      "text/html": [
       "<style scoped>\n",
       "  .ansiout {\n",
       "    display: block;\n",
       "    unicode-bidi: embed;\n",
       "    white-space: pre-wrap;\n",
       "    word-wrap: break-word;\n",
       "    word-break: break-all;\n",
       "    font-family: \"Source Code Pro\", \"Menlo\", monospace;;\n",
       "    font-size: 13px;\n",
       "    color: #555;\n",
       "    margin-left: 4px;\n",
       "    line-height: 19px;\n",
       "  }\n",
       "</style>"
      ]
     },
     "metadata": {
      "application/vnd.databricks.v1+output": {
       "arguments": {},
       "data": "",
       "errorSummary": "",
       "errorTraceType": null,
       "metadata": {},
       "type": "ipynbError"
      }
     },
     "output_type": "display_data"
    }
   ],
   "source": [
    "# 13. a)"
   ]
  },
  {
   "cell_type": "code",
   "execution_count": 0,
   "metadata": {
    "application/vnd.databricks.v1+cell": {
     "inputWidgets": {},
     "nuid": "71d0b9ab-3b3b-44a1-ac54-c432fb2e5fef",
     "showTitle": false,
     "title": ""
    }
   },
   "outputs": [
    {
     "data": {
      "text/plain": [
       "+----+--------------+\n",
       "|year|totalflightsin|\n",
       "+----+--------------+\n",
       "|2010|         36819|\n",
       "|2013|         36830|\n",
       "|2012|         36890|\n",
       "|2011|         37763|\n",
       "|2014|         38833|\n",
       "|2015|         41350|\n",
       "+----+--------------+\n",
       "\n"
      ]
     },
     "metadata": {
      "application/vnd.databricks.v1+output": {
       "addedWidgets": {},
       "arguments": {},
       "data": "+----+--------------+\n|year|totalflightsin|\n+----+--------------+\n|2010|         36819|\n|2013|         36830|\n|2012|         36890|\n|2011|         37763|\n|2014|         38833|\n|2015|         41350|\n+----+--------------+\n\n",
       "datasetInfos": [],
       "metadata": {},
       "removedWidgets": [],
       "type": "ansi"
      }
     },
     "output_type": "display_data"
    }
   ],
   "source": [
    "inUSADF = flightsAllDF.filter((F.col('dest') =='United States') & (F.col('origin') !='United States')).groupby('year').sum('numflights') \\\n",
    "                      .select('year', F.col('sum(numflights)').alias('totalflightsin')).sort('totalflightsin')\n",
    " \n",
    "inUSADF.show()"
   ]
  },
  {
   "cell_type": "code",
   "execution_count": 0,
   "metadata": {
    "application/vnd.databricks.v1+cell": {
     "inputWidgets": {},
     "nuid": "f2735376-3b72-432c-a15e-3af5637226bd",
     "showTitle": false,
     "title": ""
    }
   },
   "outputs": [
    {
     "data": {
      "text/html": [
       "<style scoped>\n",
       "  .ansiout {\n",
       "    display: block;\n",
       "    unicode-bidi: embed;\n",
       "    white-space: pre-wrap;\n",
       "    word-wrap: break-word;\n",
       "    word-break: break-all;\n",
       "    font-family: \"Source Code Pro\", \"Menlo\", monospace;;\n",
       "    font-size: 13px;\n",
       "    color: #555;\n",
       "    margin-left: 4px;\n",
       "    line-height: 19px;\n",
       "  }\n",
       "</style>"
      ]
     },
     "metadata": {
      "application/vnd.databricks.v1+output": {
       "arguments": {},
       "data": "",
       "errorSummary": "",
       "errorTraceType": null,
       "metadata": {},
       "type": "ipynbError"
      }
     },
     "output_type": "display_data"
    }
   ],
   "source": [
    "#13. b)"
   ]
  },
  {
   "cell_type": "code",
   "execution_count": 0,
   "metadata": {
    "application/vnd.databricks.v1+cell": {
     "inputWidgets": {},
     "nuid": "8ace4138-56cb-45ef-a558-456cf02180cd",
     "showTitle": false,
     "title": ""
    }
   },
   "outputs": [
    {
     "data": {
      "text/plain": [
       "+----+---------------+\n",
       "|year|totalflightsout|\n",
       "+----+---------------+\n",
       "|2010|          37337|\n",
       "|2015|          41964|\n",
       "|2011|          37921|\n",
       "|2013|          37907|\n",
       "|2012|          37838|\n",
       "|2014|          39668|\n",
       "+----+---------------+\n",
       "\n"
      ]
     },
     "metadata": {
      "application/vnd.databricks.v1+output": {
       "addedWidgets": {},
       "arguments": {},
       "data": "+----+---------------+\n|year|totalflightsout|\n+----+---------------+\n|2010|          37337|\n|2015|          41964|\n|2011|          37921|\n|2013|          37907|\n|2012|          37838|\n|2014|          39668|\n+----+---------------+\n\n",
       "datasetInfos": [],
       "metadata": {},
       "removedWidgets": [],
       "type": "ansi"
      }
     },
     "output_type": "display_data"
    }
   ],
   "source": [
    "\n",
    "outUSADF = flightsAllDF.filter((F.col('origin') =='United States') & (F.col('dest') !='United States')) \\\n",
    "            .groupby('year').sum('numflights').select('year', \\\n",
    "            F.col('sum(numflights)').alias('totalflightsout'))\n",
    "outUSADF.show()"
   ]
  },
  {
   "cell_type": "code",
   "execution_count": 0,
   "metadata": {
    "application/vnd.databricks.v1+cell": {
     "inputWidgets": {},
     "nuid": "8063d3cb-3db4-41f5-8f62-7a0dc2625253",
     "showTitle": false,
     "title": ""
    }
   },
   "outputs": [
    {
     "data": {
      "text/plain": [
       "+----+--------------+---------------+------+\n",
       "|year|totalflightsin|totalflightsout|morein|\n",
       "+----+--------------+---------------+------+\n",
       "|2010|         36819|          37337| false|\n",
       "|2011|         37763|          37921| false|\n",
       "|2012|         36890|          37838| false|\n",
       "|2013|         36830|          37907| false|\n",
       "|2014|         38833|          39668| false|\n",
       "|2015|         41350|          41964| false|\n",
       "+----+--------------+---------------+------+\n",
       "\n"
      ]
     },
     "metadata": {
      "application/vnd.databricks.v1+output": {
       "addedWidgets": {},
       "arguments": {},
       "data": "+----+--------------+---------------+------+\n|year|totalflightsin|totalflightsout|morein|\n+----+--------------+---------------+------+\n|2010|         36819|          37337| false|\n|2011|         37763|          37921| false|\n|2012|         36890|          37838| false|\n|2013|         36830|          37907| false|\n|2014|         38833|          39668| false|\n|2015|         41350|          41964| false|\n+----+--------------+---------------+------+\n\n",
       "datasetInfos": [],
       "metadata": {},
       "removedWidgets": [],
       "type": "ansi"
      }
     },
     "output_type": "display_data"
    }
   ],
   "source": [
    "inUSADF.join(outUSADF, on ='year').select('*',(F.col('totalflightsin') > F.col('totalflightsout')).alias('morein')).sort('year').show()"
   ]
  },
  {
   "cell_type": "code",
   "execution_count": 0,
   "metadata": {
    "application/vnd.databricks.v1+cell": {
     "inputWidgets": {},
     "nuid": "1d1901f4-35c2-46c1-a9b1-889ffae7ce97",
     "showTitle": false,
     "title": ""
    }
   },
   "outputs": [
    {
     "data": {
      "text/html": [
       "<style scoped>\n",
       "  .ansiout {\n",
       "    display: block;\n",
       "    unicode-bidi: embed;\n",
       "    white-space: pre-wrap;\n",
       "    word-wrap: break-word;\n",
       "    word-break: break-all;\n",
       "    font-family: \"Source Code Pro\", \"Menlo\", monospace;;\n",
       "    font-size: 13px;\n",
       "    color: #555;\n",
       "    margin-left: 4px;\n",
       "    line-height: 19px;\n",
       "  }\n",
       "</style>"
      ]
     },
     "metadata": {
      "application/vnd.databricks.v1+output": {
       "arguments": {},
       "data": "",
       "errorSummary": "",
       "errorTraceType": null,
       "metadata": {},
       "type": "ipynbError"
      }
     },
     "output_type": "display_data"
    }
   ],
   "source": [
    "#No flights"
   ]
  },
  {
   "cell_type": "markdown",
   "metadata": {
    "application/vnd.databricks.v1+cell": {
     "inputWidgets": {},
     "nuid": "6c1d463e-f524-4833-8862-694fd945cfa0",
     "showTitle": false,
     "title": ""
    }
   },
   "source": [
    "##Task 14"
   ]
  },
  {
   "cell_type": "code",
   "execution_count": 0,
   "metadata": {
    "application/vnd.databricks.v1+cell": {
     "inputWidgets": {},
     "nuid": "2c4f75ca-6686-4d61-99ba-d61af9e63ce0",
     "showTitle": false,
     "title": ""
    }
   },
   "outputs": [
    {
     "data": {
      "text/plain": [
       "+----+--------------+------------------+--------------+\n",
       "|year|sumflightstoUS|    avgflightstoUS|maxflightstoUS|\n",
       "+----+--------------+------------------+--------------+\n",
       "|2010|         36819| 283.2230769230769|          8305|\n",
       "|2011|         37763| 299.7063492063492|          8650|\n",
       "|2012|         36890| 312.6271186440678|          8097|\n",
       "|2013|         36830| 320.2608695652174|          7983|\n",
       "|2014|         38833| 331.9059829059829|          8177|\n",
       "|2015|         41350|333.46774193548384|          8483|\n",
       "+----+--------------+------------------+--------------+\n",
       "\n"
      ]
     },
     "metadata": {
      "application/vnd.databricks.v1+output": {
       "addedWidgets": {},
       "arguments": {},
       "data": "+----+--------------+------------------+--------------+\n|year|sumflightstoUS|    avgflightstoUS|maxflightstoUS|\n+----+--------------+------------------+--------------+\n|2010|         36819| 283.2230769230769|          8305|\n|2011|         37763| 299.7063492063492|          8650|\n|2012|         36890| 312.6271186440678|          8097|\n|2013|         36830| 320.2608695652174|          7983|\n|2014|         38833| 331.9059829059829|          8177|\n|2015|         41350|333.46774193548384|          8483|\n+----+--------------+------------------+--------------+\n\n",
       "datasetInfos": [],
       "metadata": {},
       "removedWidgets": [],
       "type": "ansi"
      }
     },
     "output_type": "display_data"
    }
   ],
   "source": [
    "flightsAllDF.filter((F.col('dest') =='United States') & (F.col('origin') !='United States')).groupby('year')\\\n",
    "            .agg(F.sum('numflights').alias('sumflightstoUS'), \\\n",
    "                 F.avg('numflights').alias('avgflightstoUS'), \\\n",
    "                 F.max('numflights').alias('maxflightstoUS')) \\\n",
    "            .sort(F.asc('year')).show()\n",
    " "
   ]
  },
  {
   "cell_type": "code",
   "execution_count": 0,
   "metadata": {
    "application/vnd.databricks.v1+cell": {
     "inputWidgets": {},
     "nuid": "6f5ccf38-15dd-4694-a9b3-88efed5126ba",
     "showTitle": false,
     "title": ""
    }
   },
   "outputs": [
    {
     "data": {
      "text/html": [
       "<style scoped>\n",
       "  .ansiout {\n",
       "    display: block;\n",
       "    unicode-bidi: embed;\n",
       "    white-space: pre-wrap;\n",
       "    word-wrap: break-word;\n",
       "    word-break: break-all;\n",
       "    font-family: \"Source Code Pro\", \"Menlo\", monospace;;\n",
       "    font-size: 13px;\n",
       "    color: #555;\n",
       "    margin-left: 4px;\n",
       "    line-height: 19px;\n",
       "  }\n",
       "</style>"
      ]
     },
     "metadata": {
      "application/vnd.databricks.v1+output": {
       "arguments": {},
       "data": "",
       "errorSummary": "",
       "errorTraceType": null,
       "metadata": {},
       "type": "ipynbError"
      }
     },
     "output_type": "display_data"
    }
   ],
   "source": []
  }
 ],
 "metadata": {
  "application/vnd.databricks.v1+notebook": {
   "dashboards": [],
   "language": "python",
   "notebookMetadata": {
    "pythonIndentUnit": 4
   },
   "notebookName": "Hw5_Dsilva_Anusha",
   "notebookOrigID": 310858820856383,
   "widgets": {}
  },
  "kernelspec": {
   "display_name": "Python 3",
   "language": "python",
   "name": "python3"
  },
  "language_info": {
   "codemirror_mode": {
    "name": "ipython",
    "version": 3
   },
   "file_extension": ".py",
   "mimetype": "text/x-python",
   "name": "python",
   "nbconvert_exporter": "python",
   "pygments_lexer": "ipython3",
   "version": "3.8.8"
  }
 },
 "nbformat": 4,
 "nbformat_minor": 1
}
