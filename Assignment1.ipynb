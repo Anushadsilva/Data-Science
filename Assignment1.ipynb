{
 "cells": [
  {
   "cell_type": "markdown",
   "metadata": {},
   "source": [
    "# Exercise 2 : Python Basics"
   ]
  },
  {
   "cell_type": "markdown",
   "metadata": {},
   "source": [
    "## Task 1\n",
    "\n",
    "**What is the type of the following variables - a , b, and e? Please use a function.**\n",
    "\n",
    "**What is the result of testing f?  Write down your explanation in a comment in the answer cell.** "
   ]
  },
  {
   "cell_type": "code",
   "execution_count": 1,
   "metadata": {},
   "outputs": [],
   "source": [
    "a = 'Alayna'"
   ]
  },
  {
   "cell_type": "code",
   "execution_count": 2,
   "metadata": {},
   "outputs": [],
   "source": [
    "b = \"True\""
   ]
  },
  {
   "cell_type": "code",
   "execution_count": 3,
   "metadata": {},
   "outputs": [],
   "source": [
    "c = 10.5; d = 2\n",
    "e = c / d"
   ]
  },
  {
   "cell_type": "code",
   "execution_count": 4,
   "metadata": {},
   "outputs": [
    {
     "name": "stdout",
     "output_type": "stream",
     "text": [
      "<class 'str'>\n",
      "<class 'str'>\n",
      "<class 'float'>\n"
     ]
    }
   ],
   "source": [
    "#What is the type of the following variables - a , b, and e?\n",
    "x = type(a)\n",
    "print(x)\n",
    "y = type(b)\n",
    "print(y)\n",
    "z = type(e)\n",
    "print(z)\n"
   ]
  },
  {
   "cell_type": "code",
   "execution_count": 5,
   "metadata": {
    "scrolled": true
   },
   "outputs": [
    {
     "data": {
      "text/plain": [
       "str"
      ]
     },
     "execution_count": 5,
     "metadata": {},
     "output_type": "execute_result"
    }
   ],
   "source": [
    "f = 'True'\n",
    "type(f)\n",
    "\n",
    "# Write code below to test whether whether f is the same as boolean True. Hint: replace the blank in the line below.\n",
    "#f _____ True\n",
    "\n",
    "# explain why you get the result"
   ]
  },
  {
   "cell_type": "code",
   "execution_count": 6,
   "metadata": {},
   "outputs": [
    {
     "data": {
      "text/plain": [
       "bool"
      ]
     },
     "execution_count": 6,
     "metadata": {},
     "output_type": "execute_result"
    }
   ],
   "source": [
    "f = True\n",
    "type(f)\n"
   ]
  },
  {
   "cell_type": "code",
   "execution_count": 7,
   "metadata": {},
   "outputs": [],
   "source": [
    "#Ans -->  f = 'True' is of type string since its enclosed in single quotation and F= True is boolean . Hence both aren't the same. "
   ]
  },
  {
   "cell_type": "markdown",
   "metadata": {},
   "source": [
    "## Task 2\n",
    "\n",
    "**Compute: 5 raised to the power of 6, added to 100, and the resulting sum divided by 5 ?**\n",
    "\n",
    "Pay attention to order of operations."
   ]
  },
  {
   "cell_type": "code",
   "execution_count": 8,
   "metadata": {},
   "outputs": [
    {
     "data": {
      "text/plain": [
       "3145.0"
      ]
     },
     "execution_count": 8,
     "metadata": {},
     "output_type": "execute_result"
    }
   ],
   "source": [
    "# Provide your answer in the following cell.\n",
    "((5**6) + 100 ) / 5"
   ]
  },
  {
   "cell_type": "markdown",
   "metadata": {},
   "source": [
    "## Task 3\n",
    "\n",
    "**Ask user for a number, and print its cube**\n",
    "\n",
    "For this you can use a built-in function called **input()**. It takes one parameter which it will print to the user (console) and await an input from the user, i.e. wait till user hits enter. This input is always returned as a string.\n",
    "Code must allow the user to enter integers or decimals. Then print the  cube of the int or float. \n",
    "\n",
    "No need to do any error-checking for non-numeric inputs.\n",
    "\n",
    "The output should be: `The cube of x is y` with x and y replaced with values.\\\n",
    "where x is the number the user input and y is its cube"
   ]
  },
  {
   "cell_type": "code",
   "execution_count": 9,
   "metadata": {
    "scrolled": true
   },
   "outputs": [
    {
     "name": "stdout",
     "output_type": "stream",
     "text": [
      "Enter the number 3\n",
      "3\n",
      "The cube of 3 is 27\n"
     ]
    }
   ],
   "source": [
    "# write your code here\n",
    "x = input(\"Enter the number \")\n",
    "print(x)\n",
    "y = int(x)**3\n",
    "print(\"The cube of\", x, \"is\", y )"
   ]
  },
  {
   "cell_type": "markdown",
   "metadata": {},
   "source": [
    "## Task 4"
   ]
  },
  {
   "cell_type": "markdown",
   "metadata": {},
   "source": [
    "**Create a <u>function</u> that has *two parameters* - and *returns* the count of the number of times the second parameter (a substring) occurs in the first parameter (a sentence).  Capitalization is important, so dog only matches dog but not DOg or doG. You may use built-in str methods.**\n",
    "\n",
    "**Call the function twice with the same first argument and a different second argument. The answer should not be printed in the function but returned.**\n",
    "\n",
    "Write your answer in the cells below.\n",
    "\n",
    "Note: you can use separate cells for each answer. If you want to print out multiple outputs from one cell, you have to use print() statements in order for the output to be visible."
   ]
  },
  {
   "cell_type": "code",
   "execution_count": 10,
   "metadata": {},
   "outputs": [
    {
     "name": "stdout",
     "output_type": "stream",
     "text": [
      "2\n",
      "0\n"
     ]
    }
   ],
   "source": [
    "# write the function here\n",
    "\n",
    "def para_func(x,y):\n",
    "    count = x.count(y)\n",
    "    return(count)\n",
    "\n",
    "# call the function with arguments \"Is data science a science?\" and \"science\" and print its answer\n",
    "\n",
    "final_ct1 = para_func(\"Is data science a science?\" , \"science\")\n",
    "print(final_ct1)\n",
    "\n",
    "# call the function with arguments \"Is data science a science?\" and \"DATA\" and print its answer\n",
    "final_ct2 = para_func(\"Is data science a science?\" , \"DATA\")\n",
    "print(final_ct2)"
   ]
  },
  {
   "cell_type": "markdown",
   "metadata": {},
   "source": [
    "## Task 5"
   ]
  },
  {
   "cell_type": "markdown",
   "metadata": {},
   "source": [
    "**Create a <u>function</u> that has *two parameters* - the first is a string to search and the second is the substring to find in the first string. This function *returns* True if the second string is contained in the first string, irrespective of case and capitalization, and False otherwise. You may use built-in str methods.** \n",
    "\n",
    "***ignore* any case and capitalization in the word searched for AND the string searched in (which means searching for DoG or dog should match DOG or dOg or dog etc.)**\n",
    "\n",
    "**Call the function thrice with the same first argument and different second argument. The answer should not be printed in the function but returned.**\n",
    "\n",
    "Write your answer in the cell below. \n",
    "Note: you can use separate cells for each answer. If you want to print out multiple outputs from one cell, you have to use print() statements in order for the output to be visible."
   ]
  },
  {
   "cell_type": "code",
   "execution_count": 11,
   "metadata": {},
   "outputs": [
    {
     "name": "stdout",
     "output_type": "stream",
     "text": [
      "True\n",
      "True\n",
      "False\n"
     ]
    }
   ],
   "source": [
    "# write the function here\n",
    "def para_func1(x,y):\n",
    "    str1 = x.lower()\n",
    "    str2 = y.lower()\n",
    "    if str2 in str1:\n",
    "        return True\n",
    "    else:\n",
    "        return False\n",
    "\n",
    "\n",
    "# call the function with arguments \"Is Data Science a Science?\" and \"science\" and print its answer\n",
    "\n",
    "final_str1 = para_func1(\"Is Data Science a Science?\" , \"science\")\n",
    "print(final_str1)\n",
    "\n",
    "# call the function with arguments \"Is Data Science a Science?\" and \"SCIENCE\"\n",
    "final_str2 = para_func1(\"Is Data Science a Science?\" , \"SCIENCE\")\n",
    "print(final_str2)\n",
    "\n",
    "# call the function with arguments \"Is Data Science a Science?\" and \"Scientist\"\n",
    "final_str3 = para_func1(\"Is Data Science a Science?\" , \"Scientist\")\n",
    "print(final_str3)\n",
    "\n"
   ]
  },
  {
   "cell_type": "markdown",
   "metadata": {},
   "source": [
    "## Task 6"
   ]
  },
  {
   "cell_type": "markdown",
   "metadata": {},
   "source": [
    "**Split this string into a list of two substrings in upper case:**\n",
    "\n",
    "    \"It's a great day today, isn't it?\"\n",
    "\n",
    "Write code - use a string method -  in the cells below to print the list [\"IT'S A GREAT DAY TODAY\", \" ISN'T IT?\"] as output from the input string"
   ]
  },
  {
   "cell_type": "code",
   "execution_count": 12,
   "metadata": {
    "scrolled": true
   },
   "outputs": [
    {
     "name": "stdout",
     "output_type": "stream",
     "text": [
      "[\"IT'S A GREAT DAY TODAY\", \" ISN'T IT?\"]\n"
     ]
    }
   ],
   "source": [
    "# define the string and obtain the new list\n",
    "str1 = \"It's a great day today, isn't it?\"\n",
    "str2 = str1.upper()\n",
    "str3 = str2.split(sep=\",\")\n",
    "print(str3)"
   ]
  },
  {
   "cell_type": "markdown",
   "metadata": {
    "collapsed": true
   },
   "source": [
    "## Task 7. ( 3 points)"
   ]
  },
  {
   "cell_type": "markdown",
   "metadata": {},
   "source": [
    "**Create a *function* that accepts a string argument in the form of an email address, and *returns* the username and type of email domain extracted from the input.**\n",
    "\n",
    "Say the input is:\n",
    "\n",
    "    user@eccles.utah.edu\n",
    "    \n",
    "**Function would create and return the following string (note the single quotes in the output), which is then printed outside the function:**\n",
    "\n",
    "    Username is 'user' and domain type is 'edu'\n",
    "\n",
    "When the input is 'user@gmail.com' the function would return 'user' as username and 'com' as domain.\\\n",
    "See the cell below for how to embed values of variables in output"
   ]
  },
  {
   "cell_type": "code",
   "execution_count": 13,
   "metadata": {},
   "outputs": [
    {
     "name": "stdout",
     "output_type": "stream",
     "text": [
      "The result was produced at 10 am by John\n",
      "The result was produced at 10am by John\n",
      "The result was produced by John at 10am\n",
      "The result was produced at 10.00am by John\n"
     ]
    }
   ],
   "source": [
    "# How to embed values of variables in printed output? \n",
    "\n",
    "time = 10\n",
    "name = \"John\"\n",
    "\n",
    "#1. create appended strings on the fly by adding commas inside print - least flexible\n",
    "# as we cant specify additional formatting\n",
    "\n",
    "print(\"The result was produced at\", time, \"am by\", name)\n",
    "\n",
    "\n",
    "#2. Using the .format() method of strings \n",
    "\n",
    "# we can use {} as a placeholder where the value of the variables specified in format()\n",
    "# will be placed into in order.\n",
    "\n",
    "print(\"The result was produced at {}am by {}\".format(time, name))\n",
    "\n",
    "# alternately, if we dont want to keep the order, we can specify the variable whose value to use\n",
    "# using its index in format(). Have to specify all indices.\n",
    "\n",
    "print(\"The result was produced by {1} at {0}am\".format(time, name))\n",
    "\n",
    "# We can also specify additional formatting.\n",
    "# for example, to specify how to print a number, use p.df  \n",
    "##### where p is replaced with the total number of digits you want to print\n",
    "##### d is replaced with the number of decimals to show \n",
    "##### f stays as f- indicates a float\n",
    "\n",
    "print(\"The result was produced at {0:4.2f}am by {1}\".format(time, name))\n",
    "\n",
    "#Run this cell to see the outputs"
   ]
  },
  {
   "cell_type": "code",
   "execution_count": 18,
   "metadata": {},
   "outputs": [
    {
     "name": "stdout",
     "output_type": "stream",
     "text": [
      "Enter the email address user@eccles.utah.edu\n",
      "Username is ' user ' and domain type is ' edu '\n"
     ]
    }
   ],
   "source": [
    "#Write your answer here. Use any approach to print.\n",
    "\n",
    "# define the function here\n",
    "def mailformat():\n",
    "    mail = input(\"Enter the email address \")\n",
    "    res1 = mail.split('@')\n",
    "    res2 = mail.split('.')[-1]\n",
    "    return(res1[0],res2)\n",
    "\n",
    "\n",
    "    \n",
    "# call the function and print the value returned\n",
    "finalmail1,finalmail2 = mailformat()\n",
    "print(\"Username is '\", finalmail1, \"' and domain type is '\", finalmail2,\"'\")"
   ]
  },
  {
   "cell_type": "markdown",
   "metadata": {},
   "source": [
    "## Task 8"
   ]
  },
  {
   "cell_type": "markdown",
   "metadata": {},
   "source": [
    "**Given this nested list**\n",
    "\n",
    "    [20.7,-10,[5,7,8],[100.5,[True,True,['hello']],True,False],1,7]\n",
    "\n",
    "**use indexing to grab the word \"hello\" (as a string)**\n",
    "\n",
    "Write your answer in the cells below."
   ]
  },
  {
   "cell_type": "code",
   "execution_count": 14,
   "metadata": {},
   "outputs": [
    {
     "name": "stdout",
     "output_type": "stream",
     "text": [
      "hello\n"
     ]
    }
   ],
   "source": [
    "# define the list here\n",
    "\n",
    "my_list = [20.7,-10,[5,7,8],[100.5,[True,True,['hello']],True,False],1,7]\n",
    "\n",
    "# obtain and print just the word hello\n",
    "\n",
    "print(my_list[3][1][2][0])\n"
   ]
  },
  {
   "cell_type": "markdown",
   "metadata": {},
   "source": [
    "## Task 9"
   ]
  },
  {
   "cell_type": "markdown",
   "metadata": {},
   "source": [
    "**Given this nested dictionary**\n",
    "\n",
    "    {'id':[1,2,3,[4,5,6]], 'name': ('five','six','seven','eight'), 'age': 10}\n",
    "\n",
    "**How many items or elements are in this dict? Use a command to determine this.**\n",
    "\n",
    "**Print the keys of the dict.**\n",
    "\n",
    "**Obtain the word \"eight\" from the dict.**\n",
    "\n",
    "Write your answer in the cells below.\n",
    "Note: you can use separate cells for each answer. If you want to print out multiple outputs from one cell, you have to use print() statements in order for the output to be visible."
   ]
  },
  {
   "cell_type": "code",
   "execution_count": 15,
   "metadata": {},
   "outputs": [
    {
     "name": "stdout",
     "output_type": "stream",
     "text": [
      "3\n",
      "dict_keys(['id', 'name', 'age'])\n",
      "eight\n"
     ]
    }
   ],
   "source": [
    "# define the dict here\n",
    "my_dict = {'id':[1,2,3,[4,5,6]], 'name': ('five','six','seven','eight'), 'age': 10}\n",
    "\n",
    "# how many elements in this dict? \n",
    "x = len(my_dict)\n",
    "print(x)\n",
    "\n",
    "# obtain the keys of the dict\n",
    "print(my_dict.keys())\n",
    "\n",
    "# obtain the word \"eight\" from the dict\n",
    "print(my_dict['name'][3])"
   ]
  },
  {
   "cell_type": "markdown",
   "metadata": {},
   "source": [
    "## Task 10\n",
    "\n",
    "Explain what is happening in the below code. Please provide your answer to what is happening in a new cell as a comment or Markdown - your choice.\n",
    "\n",
    "To stop the code, you will need to hit square block button in the menu above to interrupt the kernel.\n",
    "\n",
    "Change the code so that the task will end when the value of i is 1, but only after printing the value 1.0\\\n",
    "Expected output is:\n",
    "\n",
    "10\\\n",
    "5.0\\\n",
    "6.0\\\n",
    "3.0\\\n",
    "4.0\\\n",
    "2.0\\\n",
    "1.0\n"
   ]
  },
  {
   "cell_type": "raw",
   "metadata": {},
   "source": [
    "i=10\n",
    "\n",
    "#while i>0:\n",
    "#    print(float(i))\n",
    "#    if i%2==0:\n",
    "#        i = i /2\n",
    "#    else:i = i + 1\n"
   ]
  },
  {
   "cell_type": "code",
   "execution_count": null,
   "metadata": {},
   "outputs": [],
   "source": [
    "# The code given is actually going in infinite loop and in order to come out of the loop we need to put a breakpoint"
   ]
  },
  {
   "cell_type": "code",
   "execution_count": 16,
   "metadata": {},
   "outputs": [
    {
     "name": "stdout",
     "output_type": "stream",
     "text": [
      "10.0\n",
      "5.0\n",
      "6.0\n",
      "3.0\n",
      "4.0\n",
      "2.0\n",
      "1.0\n"
     ]
    }
   ],
   "source": [
    "# write your code that fixes the probem in the above loop\n",
    "i=10\n",
    "\n",
    "while i>0:\n",
    "   print(float(i))\n",
    "   if i%2==0:\n",
    "        i = i /2\n",
    "        if(i==1):\n",
    "            print(float(i))\n",
    "            break;\n",
    "   else:i = i + 1"
   ]
  },
  {
   "cell_type": "markdown",
   "metadata": {},
   "source": [
    "## Task 11\n",
    "\n",
    "**You are driving a little too fast, and a police officer stops you. Write a function to determine what type of ticket you will get.**\n",
    "\n",
    "**This function has two parameters - X and is_birthday. X is the speed in mph and is_birthday is a boolean. Function has no return value, and prints the output in the function itself.**\n",
    "\n",
    "If your speed is 60 or less, the result is \"No Fine\". If speed is between 61 and 80 inclusive, the result is \"Small Fine\". If speed is 81 or more, the result is \"Large Fine\". Unless it is your birthday -- on your birthday, your speed can be 5 higher in all cases.\n",
    "\n",
    "<u>The function prints one of 6 possible results:</u>\n",
    "\n",
    "**If it is not the driver's birthday and their speed was X**\\\n",
    "\"your speed was Xmph, you will get: No Fine\" (if speed is 60 or less)\\\n",
    "\"your speed was Xmph, you will get: Small Fine\" (if speed is between 61 and 80 inclusive)\\\n",
    "\"your speed was Xmph, you will get: Large Fine\" (if speed is 81 or more)\n",
    "\n",
    "**If it is the driver's birthday and their speed was X**\\\n",
    "\"Happy birthday, your speed was Xmph, you will get: No Fine\" (if speed is 65 or less)\\\n",
    "\"Happy birthday, your speed was Xmph, you will get: Small Fine\" (if speed is between 66 and 85 inclusive)\\\n",
    "\"Happy birthday, your speed was Xmph, you will get: Large Fine\" (if speed is 86 or more)\n",
    "\n",
    "Write your answer below\n"
   ]
  },
  {
   "cell_type": "code",
   "execution_count": 17,
   "metadata": {},
   "outputs": [
    {
     "name": "stdout",
     "output_type": "stream",
     "text": [
      "Happy birthday, your speed was  81 mph, you will get: Small Fine\n",
      "your speed was  81 mph, you will get: Large Fine\n"
     ]
    }
   ],
   "source": [
    "# write the function in this cell\n",
    "def ticket(x,is_birthday):\n",
    "\n",
    "    if(is_birthday == False):\n",
    "        if ( x < 60 ):\n",
    "            print(\"your speed was \",x,\"mph, you will get: No Fine\" )\n",
    "        elif(x >= 61 and x <= 80):\n",
    "            print(\"your speed was \",x,\" mph, you will get: Small Fine\")\n",
    "        else:\n",
    "            print(\"your speed was \",x,\"mph, you will get: Large Fine\")\n",
    "    else:\n",
    "        if ( x < 65 ):\n",
    "            print(\"Happy birthday, your speed was \",x,\"mph, you will get: No Fine\")\n",
    "        elif(x >= 66 and x <= 85):\n",
    "            print(\"Happy birthday, your speed was \",x,\"mph, you will get: Small Fine\")\n",
    "        else:\n",
    "            print(\"Happy birthday, your speed was \",x,\"mph, you will get: Large Fine\")\n",
    "              \n",
    "\n",
    "# call the function with a speed of 81 and True for birthday\n",
    "type = ticket(81,True)\n",
    "\n",
    "# call the function with a speed of 81 and False for birthday\n",
    "type = ticket(81,False)\n"
   ]
  }
 ],
 "metadata": {
  "kernelspec": {
   "display_name": "Python 3",
   "language": "python",
   "name": "python3"
  },
  "language_info": {
   "codemirror_mode": {
    "name": "ipython",
    "version": 3
   },
   "file_extension": ".py",
   "mimetype": "text/x-python",
   "name": "python",
   "nbconvert_exporter": "python",
   "pygments_lexer": "ipython3",
   "version": "3.8.8"
  },
  "toc": {
   "base_numbering": 1,
   "nav_menu": {},
   "number_sections": false,
   "sideBar": true,
   "skip_h1_title": false,
   "title_cell": "Table of Contents",
   "title_sidebar": "Table of Contents",
   "toc_cell": false,
   "toc_position": {
    "height": "525.467px",
    "left": "34px",
    "top": "202.333px",
    "width": "165px"
   },
   "toc_section_display": true,
   "toc_window_display": true
  },
  "varInspector": {
   "cols": {
    "lenName": 16,
    "lenType": 16,
    "lenVar": 40
   },
   "kernels_config": {
    "python": {
     "delete_cmd_postfix": "",
     "delete_cmd_prefix": "del ",
     "library": "var_list.py",
     "varRefreshCmd": "print(var_dic_list())"
    },
    "r": {
     "delete_cmd_postfix": ") ",
     "delete_cmd_prefix": "rm(",
     "library": "var_list.r",
     "varRefreshCmd": "cat(var_dic_list()) "
    }
   },
   "oldHeight": 316.383334,
   "position": {
    "height": "40px",
    "left": "1141px",
    "right": "20px",
    "top": "197px",
    "width": "250px"
   },
   "types_to_exclude": [
    "module",
    "function",
    "builtin_function_or_method",
    "instance",
    "_Feature"
   ],
   "varInspector_section_display": "none",
   "window_display": false
  }
 },
 "nbformat": 4,
 "nbformat_minor": 1
}
